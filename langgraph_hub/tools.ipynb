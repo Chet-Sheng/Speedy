{
 "cells": [
  {
   "cell_type": "code",
   "execution_count": 2,
   "id": "1298b62b",
   "metadata": {},
   "outputs": [],
   "source": [
    "from typing import Any, List, Literal, Optional, Tuple\n",
    "\n",
    "from langchain_core.callbacks import (\n",
    "    AsyncCallbackManagerForToolRun,\n",
    "    CallbackManagerForToolRun,\n",
    ")\n",
    "from langchain_core.tools import BaseTool\n",
    "from langchain_core.tools.base import ArgsSchema\n",
    "from pydantic import BaseModel, Field"
   ]
  },
  {
   "cell_type": "code",
   "execution_count": null,
   "id": "cd3def58",
   "metadata": {},
   "outputs": [],
   "source": [
    "class RetrieverInput(BaseModel):\n",
    "    query: str = Field(description=\"User query for information retrieval\")\n"
   ]
  },
  {
   "cell_type": "code",
   "execution_count": null,
   "id": "0ca1ff1e",
   "metadata": {},
   "outputs": [],
   "source": [
    "class RetrieverTool(BaseTool):\n",
    "    \"\"\"A stateful retriever tool that holds the vector retrieval service.\"\"\"\n",
    "    name: str = \"Information Retrieval Tool\"\n",
    "    description: str = \"Retrieves most relevant records from the vector store for the provided query.\"\n",
    "    args_schema: Optional[ArgsSchema] = RetrieverInput\n",
    "    # return_direct: bool = True\n",
    "    response_format: Literal[\"content\", \"content_and_artifact\"] = \"content_and_artifact\"\n",
    "    \n",
    "    client: str = Field(\"hello\", description=\"This can be initialized client/service\")\n",
    "\n",
    "    \n",
    "    def _run(self, query: str) -> Tuple[List[str], Any]:\n",
    "        \"\"\"Retrieves most relevant records from the vector store for the provided query.\"\"\"\n",
    "        # artifact = self.vector_retrieval_service.vector_store.similarity_search(\n",
    "        #     query=query,\n",
    "        #     k=self.top_k,\n",
    "        # )\n",
    "        \n",
    "        # response = [res.data for res in artifact]\n",
    "        # return response, artifact\n",
    "        response, artifact = \"answer\", {\"metadata\": \"example_metadata\"}\n",
    "        return response, artifact\n",
    "    "
   ]
  },
  {
   "cell_type": "code",
   "execution_count": 4,
   "id": "96be077a",
   "metadata": {},
   "outputs": [
    {
     "data": {
      "text/plain": [
       "'yooo'"
      ]
     },
     "execution_count": 4,
     "metadata": {},
     "output_type": "execute_result"
    }
   ],
   "source": [
    "RetrieverTool(client=\"yooo\").client"
   ]
  },
  {
   "cell_type": "code",
   "execution_count": 5,
   "id": "ec102070",
   "metadata": {},
   "outputs": [
    {
     "data": {
      "text/plain": [
       "'answer'"
      ]
     },
     "execution_count": 5,
     "metadata": {},
     "output_type": "execute_result"
    }
   ],
   "source": [
    "RetrieverTool().invoke(input=\"What is LangChain?\")"
   ]
  },
  {
   "cell_type": "code",
   "execution_count": 9,
   "id": "e9e70356",
   "metadata": {},
   "outputs": [],
   "source": [
    "from langgraph.prebuilt import ToolNode\n",
    "\n",
    "retriever_node = ToolNode([RetrieverTool()])"
   ]
  },
  {
   "cell_type": "code",
   "execution_count": 11,
   "id": "6c965616",
   "metadata": {},
   "outputs": [],
   "source": [
    "from langchain_core.messages import HumanMessage, AIMessage\n",
    "\n",
    "# Create a message-based input instead of a string\n",
    "message_input = AIMessage(\n",
    "    content=\"What is LangChain?\",\n",
    "    tool_calls=[\n",
    "    {\n",
    "        \"name\": \"Information Retrieval Tool\",\n",
    "        \"args\": {\n",
    "            \"query\": \"What is LangChain?\"\n",
    "        },\n",
    "        \"id\": \"tool_call_1\"\n",
    "    },\n",
    "])\n",
    "\n",
    "# Create API style message input\n",
    "\n",
    "node_output = retriever_node.invoke(\n",
    "    input={\n",
    "        \"messages\": [message_input]\n",
    "    }\n",
    ")"
   ]
  },
  {
   "cell_type": "code",
   "execution_count": null,
   "id": "209a40f1",
   "metadata": {},
   "outputs": [
    {
     "data": {
      "text/plain": [
       "{'messages': [ToolMessage(content='answer', name='Information Retrieval Tool', tool_call_id='tool_call_1', artifact={'metadata': 'example_metadata'})]}"
      ]
     },
     "execution_count": 12,
     "metadata": {},
     "output_type": "execute_result"
    }
   ],
   "source": [
    "node_output"
   ]
  },
  {
   "cell_type": "code",
   "execution_count": 15,
   "id": "3c22defb",
   "metadata": {},
   "outputs": [
    {
     "data": {
      "text/plain": [
       "ToolMessage(content='answer', name='Information Retrieval Tool', tool_call_id='tool_call_1', artifact={'metadata': 'example_metadata'})"
      ]
     },
     "execution_count": 15,
     "metadata": {},
     "output_type": "execute_result"
    }
   ],
   "source": [
    "node_output[\"messages\"][0]"
   ]
  },
  {
   "cell_type": "code",
   "execution_count": 16,
   "id": "55ec4dda",
   "metadata": {},
   "outputs": [
    {
     "data": {
      "text/plain": [
       "'answer'"
      ]
     },
     "execution_count": 16,
     "metadata": {},
     "output_type": "execute_result"
    }
   ],
   "source": [
    "node_output[\"messages\"][0].content"
   ]
  },
  {
   "cell_type": "code",
   "execution_count": 17,
   "id": "72d37556",
   "metadata": {},
   "outputs": [
    {
     "data": {
      "text/plain": [
       "{'metadata': 'example_metadata'}"
      ]
     },
     "execution_count": 17,
     "metadata": {},
     "output_type": "execute_result"
    }
   ],
   "source": [
    "node_output[\"messages\"][0].artifact"
   ]
  }
 ],
 "metadata": {
  "kernelspec": {
   "display_name": "Python 3",
   "language": "python",
   "name": "python3"
  },
  "language_info": {
   "codemirror_mode": {
    "name": "ipython",
    "version": 3
   },
   "file_extension": ".py",
   "mimetype": "text/x-python",
   "name": "python",
   "nbconvert_exporter": "python",
   "pygments_lexer": "ipython3",
   "version": "3.13.2"
  }
 },
 "nbformat": 4,
 "nbformat_minor": 5
}
