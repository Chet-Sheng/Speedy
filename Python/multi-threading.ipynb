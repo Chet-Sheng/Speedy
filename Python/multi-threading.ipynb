{
 "cells": [
  {
   "cell_type": "markdown",
   "metadata": {
    "id": "6nxh2GYeL-8Z"
   },
   "source": [
    "ref: \n",
    "- https://realpython.com/intro-to-python-threading/#producer-consumer-threading"
   ]
  },
  {
   "cell_type": "code",
   "execution_count": null,
   "metadata": {
    "colab": {
     "base_uri": "https://localhost:8080/",
     "height": 35
    },
    "executionInfo": {
     "elapsed": 490,
     "status": "ok",
     "timestamp": 1638190109540,
     "user": {
      "displayName": "Chet Sheng",
      "photoUrl": "https://lh3.googleusercontent.com/a-/AOh14Gjy_Dk7Ahwv2lZiGE0sUFyBO_xe7OiTtIJ9Qlezaw=s64",
      "userId": "02447232751254445182"
     },
     "user_tz": 0
    },
    "id": "10LG4P4UvNWn",
    "outputId": "ce8175c7-005d-486e-8fd1-116b2b26640b"
   },
   "outputs": [
    {
     "data": {
      "application/vnd.google.colaboratory.intrinsic+json": {
       "type": "string"
      },
      "text/plain": [
       "'3.7.12 (default, Sep 10 2021, 00:21:48) \\n[GCC 7.5.0]'"
      ]
     },
     "execution_count": 3,
     "metadata": {},
     "output_type": "execute_result"
    }
   ],
   "source": [
    "import sys\n",
    "sys.version"
   ]
  },
  {
   "cell_type": "markdown",
   "metadata": {
    "id": "lIYdn1woOS1n"
   },
   "source": [
    "# `threading.Thread()`"
   ]
  },
  {
   "cell_type": "code",
   "execution_count": null,
   "metadata": {
    "colab": {
     "base_uri": "https://localhost:8080/"
    },
    "executionInfo": {
     "elapsed": 372,
     "status": "ok",
     "timestamp": 1638202859629,
     "user": {
      "displayName": "Chet Sheng",
      "photoUrl": "https://lh3.googleusercontent.com/a-/AOh14Gjy_Dk7Ahwv2lZiGE0sUFyBO_xe7OiTtIJ9Qlezaw=s64",
      "userId": "02447232751254445182"
     },
     "user_tz": 0
    },
    "id": "Q4u27LcSvItH",
    "outputId": "20a309f0-4711-4011-e887-4f1f4e939050"
   },
   "outputs": [
    {
     "name": "stdout",
     "output_type": "stream",
     "text": [
      "Writing single_thread.py\n"
     ]
    }
   ],
   "source": [
    "%%writefile single_thread.py\n",
    "import logging\n",
    "import threading\n",
    "import time\n",
    "\n",
    "def thread_function(name):\n",
    "    logging.info(\"Thread %s: starting\", name)\n",
    "    time.sleep(2)\n",
    "    logging.info(\"Thread %s: finishing\", name)\n",
    "\n",
    "if __name__ == \"__main__\":\n",
    "    format = \"%(asctime)s: %(message)s\"\n",
    "    logging.basicConfig(format=format, level=logging.INFO,\n",
    "                        datefmt=\"%H:%M:%S\")\n",
    "\n",
    "    logging.info(\"Main    : before creating thread\")\n",
    "    x = threading.Thread(target=thread_function, args=(1,))\n",
    "    logging.info(\"Main    : before running thread\")\n",
    "    x.start()\n",
    "    logging.info(\"Main    : wait for the thread to finish\")\n",
    "    # x.join()\n",
    "    logging.info(\"Main    : all done\")"
   ]
  },
  {
   "cell_type": "code",
   "execution_count": null,
   "metadata": {
    "colab": {
     "base_uri": "https://localhost:8080/"
    },
    "executionInfo": {
     "elapsed": 2232,
     "status": "ok",
     "timestamp": 1638202861858,
     "user": {
      "displayName": "Chet Sheng",
      "photoUrl": "https://lh3.googleusercontent.com/a-/AOh14Gjy_Dk7Ahwv2lZiGE0sUFyBO_xe7OiTtIJ9Qlezaw=s64",
      "userId": "02447232751254445182"
     },
     "user_tz": 0
    },
    "id": "6zRyKVKlvI4f",
    "outputId": "42ffd970-61b7-4fb7-ee6f-3ffe5b6d1991"
   },
   "outputs": [
    {
     "name": "stdout",
     "output_type": "stream",
     "text": [
      "16:20:59: Main    : before creating thread\n",
      "16:20:59: Main    : before running thread\n",
      "16:20:59: Thread 1: starting\n",
      "16:20:59: Main    : wait for the thread to finish\n",
      "16:20:59: Main    : all done\n",
      "16:21:01: Thread 1: finishing\n"
     ]
    }
   ],
   "source": [
    "# will wait for Thread 1 to be finished\n",
    "! python single_thread.py"
   ]
  },
  {
   "cell_type": "markdown",
   "metadata": {
    "id": "lWqVaogvlrLY"
   },
   "source": [
    "A `daemon` thread will shut down immediately when the program exits. One way to think about these definitions is to consider the daemon thread a thread that runs in the background without worrying about shutting it down."
   ]
  },
  {
   "cell_type": "code",
   "execution_count": null,
   "metadata": {
    "colab": {
     "base_uri": "https://localhost:8080/"
    },
    "executionInfo": {
     "elapsed": 212,
     "status": "ok",
     "timestamp": 1638202840559,
     "user": {
      "displayName": "Chet Sheng",
      "photoUrl": "https://lh3.googleusercontent.com/a-/AOh14Gjy_Dk7Ahwv2lZiGE0sUFyBO_xe7OiTtIJ9Qlezaw=s64",
      "userId": "02447232751254445182"
     },
     "user_tz": 0
    },
    "id": "R_5GiJE5vrtP",
    "outputId": "8a15c930-3e6c-4870-8d91-6c24ed41ef1b"
   },
   "outputs": [
    {
     "name": "stdout",
     "output_type": "stream",
     "text": [
      "Writing daemon_thread.py\n"
     ]
    }
   ],
   "source": [
    "%%writefile daemon_thread.py\n",
    "import logging\n",
    "import threading\n",
    "import time\n",
    "\n",
    "def thread_function(name):\n",
    "    logging.info(\"Thread %s: starting\", name)\n",
    "    time.sleep(2)\n",
    "    logging.info(\"Thread %s: finishing\", name)\n",
    "\n",
    "if __name__ == \"__main__\":\n",
    "    format = \"%(asctime)s: %(message)s\"\n",
    "    logging.basicConfig(format=format, level=logging.INFO,\n",
    "                        datefmt=\"%H:%M:%S\")\n",
    "\n",
    "    logging.info(\"Main    : before creating thread\")\n",
    "    x = threading.Thread(target=thread_function, args=(1,), daemon=True)\n",
    "    logging.info(\"Main    : before running thread\")\n",
    "    x.start()\n",
    "    logging.info(\"Main    : wait for the thread to finish\")\n",
    "    # x.join()\n",
    "    logging.info(\"Main    : all done\")"
   ]
  },
  {
   "cell_type": "code",
   "execution_count": null,
   "metadata": {
    "colab": {
     "base_uri": "https://localhost:8080/"
    },
    "executionInfo": {
     "elapsed": 216,
     "status": "ok",
     "timestamp": 1638202842108,
     "user": {
      "displayName": "Chet Sheng",
      "photoUrl": "https://lh3.googleusercontent.com/a-/AOh14Gjy_Dk7Ahwv2lZiGE0sUFyBO_xe7OiTtIJ9Qlezaw=s64",
      "userId": "02447232751254445182"
     },
     "user_tz": 0
    },
    "id": "3PVLRSpTv6Tn",
    "outputId": "1990bc53-c64d-42af-c036-6505fbd16c75"
   },
   "outputs": [
    {
     "name": "stdout",
     "output_type": "stream",
     "text": [
      "16:20:41: Main    : before creating thread\n",
      "16:20:41: Main    : before running thread\n",
      "16:20:41: Thread 1: starting\n",
      "16:20:41: Main    : wait for the thread to finish\n",
      "16:20:41: Main    : all done\n"
     ]
    }
   ],
   "source": [
    "! python daemon_thread.py"
   ]
  },
  {
   "cell_type": "code",
   "execution_count": null,
   "metadata": {
    "colab": {
     "base_uri": "https://localhost:8080/"
    },
    "executionInfo": {
     "elapsed": 299,
     "status": "ok",
     "timestamp": 1638205012013,
     "user": {
      "displayName": "Chet Sheng",
      "photoUrl": "https://lh3.googleusercontent.com/a-/AOh14Gjy_Dk7Ahwv2lZiGE0sUFyBO_xe7OiTtIJ9Qlezaw=s64",
      "userId": "02447232751254445182"
     },
     "user_tz": 0
    },
    "id": "hAW3q4b_v8ou",
    "outputId": "adbf1312-b1fd-470e-ef89-c1f233dc1b98"
   },
   "outputs": [
    {
     "name": "stdout",
     "output_type": "stream",
     "text": [
      "Overwriting daemon_thread_join.py\n"
     ]
    }
   ],
   "source": [
    "%%writefile daemon_thread_join.py\n",
    "import logging\n",
    "import threading\n",
    "import time\n",
    "\n",
    "def thread_function(name):\n",
    "    logging.info(\"Thread %s: starting\", name)\n",
    "    time.sleep(2)\n",
    "    logging.info(\"Thread %s: finishing\", name)\n",
    "\n",
    "if __name__ == \"__main__\":\n",
    "    format = \"%(asctime)s: %(message)s\"\n",
    "    logging.basicConfig(format=format, level=logging.INFO,\n",
    "                        datefmt=\"%H:%M:%S\")\n",
    "\n",
    "    logging.info(\"Main    : before creating thread\")\n",
    "    x = threading.Thread(target=thread_function, args=(1,), daemon=True)\n",
    "    logging.info(\"Main    : before running thread\")\n",
    "    x.start()\n",
    "    logging.info(\"Main    : wait for the thread to finish\")\n",
    "    x.join()\n",
    "    logging.info(\"Main    : all done\")"
   ]
  },
  {
   "cell_type": "code",
   "execution_count": null,
   "metadata": {
    "colab": {
     "base_uri": "https://localhost:8080/"
    },
    "executionInfo": {
     "elapsed": 2235,
     "status": "ok",
     "timestamp": 1638205014499,
     "user": {
      "displayName": "Chet Sheng",
      "photoUrl": "https://lh3.googleusercontent.com/a-/AOh14Gjy_Dk7Ahwv2lZiGE0sUFyBO_xe7OiTtIJ9Qlezaw=s64",
      "userId": "02447232751254445182"
     },
     "user_tz": 0
    },
    "id": "BMDZ6zyRoGyU",
    "outputId": "1238aa85-abbd-40b8-9715-f3c1fd04f348"
   },
   "outputs": [
    {
     "name": "stdout",
     "output_type": "stream",
     "text": [
      "16:56:52: Main    : before creating thread\n",
      "16:56:52: Main    : before running thread\n",
      "16:56:52: Thread 1: starting\n",
      "16:56:52: Main    : wait for the thread to finish\n",
      "16:56:54: Thread 1: finishing\n",
      "16:56:54: Main    : all done\n"
     ]
    }
   ],
   "source": [
    "! python daemon_thread_join.py"
   ]
  },
  {
   "cell_type": "code",
   "execution_count": null,
   "metadata": {
    "colab": {
     "base_uri": "https://localhost:8080/"
    },
    "executionInfo": {
     "elapsed": 371,
     "status": "ok",
     "timestamp": 1638205533038,
     "user": {
      "displayName": "Chet Sheng",
      "photoUrl": "https://lh3.googleusercontent.com/a-/AOh14Gjy_Dk7Ahwv2lZiGE0sUFyBO_xe7OiTtIJ9Qlezaw=s64",
      "userId": "02447232751254445182"
     },
     "user_tz": 0
    },
    "id": "vsvegiy-oIVi",
    "outputId": "ed20962a-9a29-4eb7-bb0c-df390449751f"
   },
   "outputs": [
    {
     "name": "stdout",
     "output_type": "stream",
     "text": [
      "Overwriting multithreading.py\n"
     ]
    }
   ],
   "source": [
    "# 1. create a `Thread` object\n",
    "# 2. call `.start()`\n",
    "# 3. using `.join()` to keep a list of Thread objects to wait for\n",
    "\n",
    "%%writefile multithreading.py\n",
    "\n",
    "import logging\n",
    "import threading\n",
    "import time\n",
    "\n",
    "def thread_function(name):\n",
    "    logging.info(\"Thread %s: starting\", name)\n",
    "    time.sleep(2)\n",
    "    logging.info(\"Thread %s: finishing\", name)\n",
    "\n",
    "if __name__ == \"__main__\":\n",
    "    format = \"%(asctime)s: %(message)s\"\n",
    "    logging.basicConfig(format=format, level=logging.INFO,\n",
    "                        datefmt=\"%H:%M:%S\")\n",
    "\n",
    "    threads = list()\n",
    "    for index in range(3):\n",
    "        logging.info(\"Main    : create and start thread %d.\", index)\n",
    "        x = threading.Thread(target=thread_function, args=(index,))\n",
    "        threads.append(x)\n",
    "        x.start()\n",
    "\n",
    "    for index, thread in enumerate(threads):\n",
    "        logging.info(\"Main    : before joining thread %d.\", index)\n",
    "        thread.join()\n",
    "        logging.info(\"Main    : thread %d done\", index)"
   ]
  },
  {
   "cell_type": "code",
   "execution_count": null,
   "metadata": {
    "colab": {
     "base_uri": "https://localhost:8080/"
    },
    "executionInfo": {
     "elapsed": 2246,
     "status": "ok",
     "timestamp": 1638205535497,
     "user": {
      "displayName": "Chet Sheng",
      "photoUrl": "https://lh3.googleusercontent.com/a-/AOh14Gjy_Dk7Ahwv2lZiGE0sUFyBO_xe7OiTtIJ9Qlezaw=s64",
      "userId": "02447232751254445182"
     },
     "user_tz": 0
    },
    "id": "NlCaynkno6M7",
    "outputId": "e3a5e11b-7c0f-4d1c-ca9b-d3f82f185738"
   },
   "outputs": [
    {
     "name": "stdout",
     "output_type": "stream",
     "text": [
      "17:05:33: Main    : create and start thread 0.\n",
      "17:05:33: Thread 0: starting\n",
      "17:05:33: Main    : create and start thread 1.\n",
      "17:05:33: Thread 1: starting\n",
      "17:05:33: Main    : create and start thread 2.\n",
      "17:05:33: Thread 2: starting\n",
      "17:05:33: Main    : before joining thread 0.\n",
      "17:05:35: Thread 0: finishing\n",
      "17:05:35: Main    : thread 0 done\n",
      "17:05:35: Main    : before joining thread 1.\n",
      "17:05:35: Thread 1: finishing\n",
      "17:05:35: Thread 2: finishing\n",
      "17:05:35: Main    : thread 1 done\n",
      "17:05:35: Main    : before joining thread 2.\n",
      "17:05:35: Main    : thread 2 done\n"
     ]
    }
   ],
   "source": [
    "! python multithreading.py"
   ]
  },
  {
   "cell_type": "markdown",
   "metadata": {
    "id": "lcxgQfNxo70K"
   },
   "source": [
    "# `ThreadPoolExecutor()`"
   ]
  },
  {
   "cell_type": "code",
   "execution_count": 2,
   "metadata": {
    "colab": {
     "base_uri": "https://localhost:8080/"
    },
    "executionInfo": {
     "elapsed": 214,
     "status": "ok",
     "timestamp": 1638205952056,
     "user": {
      "displayName": "Chet Sheng",
      "photoUrl": "https://lh3.googleusercontent.com/a-/AOh14Gjy_Dk7Ahwv2lZiGE0sUFyBO_xe7OiTtIJ9Qlezaw=s64",
      "userId": "02447232751254445182"
     },
     "user_tz": 0
    },
    "id": "xZqkvC0JqXr6",
    "outputId": "82eb068f-fde6-4522-a85a-ae0522ba4f82"
   },
   "outputs": [
    {
     "name": "stdout",
     "output_type": "stream",
     "text": [
      "Overwriting thread_pool.py\n"
     ]
    }
   ],
   "source": [
    "%%writefile thread_pool.py\n",
    "from concurrent.futures import ThreadPoolExecutor\n",
    "import logging\n",
    "import threading\n",
    "import time\n",
    "\n",
    "def thread_function(name):\n",
    "    logging.info(\"Thread %s: starting\", name)\n",
    "    time.sleep(2)\n",
    "    logging.info(\"Thread %s: finishing\", name)\n",
    "\n",
    "if __name__ == \"__main__\":\n",
    "    format = \"%(asctime)s: %(message)s\"\n",
    "    logging.basicConfig(format=format, level=logging.INFO,\n",
    "                        datefmt=\"%H:%M:%S\")\n",
    "\n",
    "    with ThreadPoolExecutor(max_workers=3) as executor:\n",
    "        executor.map(thread_function, range(3))"
   ]
  },
  {
   "cell_type": "code",
   "execution_count": 3,
   "metadata": {
    "colab": {
     "base_uri": "https://localhost:8080/"
    },
    "executionInfo": {
     "elapsed": 2218,
     "status": "ok",
     "timestamp": 1638205954574,
     "user": {
      "displayName": "Chet Sheng",
      "photoUrl": "https://lh3.googleusercontent.com/a-/AOh14Gjy_Dk7Ahwv2lZiGE0sUFyBO_xe7OiTtIJ9Qlezaw=s64",
      "userId": "02447232751254445182"
     },
     "user_tz": 0
    },
    "id": "3qXSxwNgrqz_",
    "outputId": "872d05a3-c873-42c5-a06e-96042a51ff79"
   },
   "outputs": [
    {
     "name": "stdout",
     "output_type": "stream",
     "text": [
      "11:12:05: Thread 0: starting\n",
      "11:12:05: Thread 1: starting\n",
      "11:12:05: Thread 2: starting\n",
      "11:12:07: Thread 1: finishing\n",
      "11:12:07: Thread 0: finishing\n",
      "11:12:07: Thread 2: finishing\n"
     ]
    }
   ],
   "source": [
    "! python thread_pool.py"
   ]
  },
  {
   "cell_type": "markdown",
   "metadata": {},
   "source": [
    "## map VS submit\n",
    "\n",
    "`executor.submit`\n",
    "- Usage: This method schedules a callable (like a function) to be executed and returns a Future object representing the execution of the callable. You can submit multiple calls independently.\n",
    "- Return Value: You gain more control over the individual tasks since each call to submit returns a separate Future object. This allows you to handle exceptions or results for each specific task after they have completed.\n",
    "- Example Use Case : It's useful when you want to start tasks in a loop (as in your code snippet) and manage their results or exceptions individually\n",
    "```python\n",
    "futures.append(\n",
    "    executor.submit(\n",
    "        self.download_file_from_s3,\n",
    "        bucket_name=bucket_name,\n",
    "        key=key,\n",
    "        file_path=file_path\n",
    "     )\n",
    ")\n",
    "```\n",
    "\n",
    "`executor.map`\n",
    "- Usage: This method blocks until all tasks are complete and is used for applying a function to an iterable of arguments. It automatically collects the results of each function call in the same order as they were submitted.\n",
    "- Return Value: The results are returned as an iterator containing the results corresponding to the inputs.\n",
    "- Example Use Case: It's simpler and cleaner when you don't need to manage Future objects individually and can handle the results as a whole:\n",
    "```python\n",
    "results = executor.map(\n",
    "    self.download_file_from_s3,\n",
    "    [bucket_name] * n,\n",
    "    keys,  # Iterable of keys\n",
    "    file_paths  # Iterable of file paths\n",
    ")\n",
    "```\n",
    "**Preferred Usage**\n",
    "- The choice between submit and map depends on your specific use case:\n",
    "    - Use `submit` when you need fine-grained control over individual tasks, especially if their execution might fail or if you want to handle results as they come in.\n",
    "    - Use `map` for simplicity and when tasks are similar and can be processed in a batch, especially when you don’t need to handle exceptions separately for each task."
   ]
  },
  {
   "cell_type": "code",
   "execution_count": 54,
   "metadata": {},
   "outputs": [
    {
     "name": "stdout",
     "output_type": "stream",
     "text": [
      "Overwriting thread_pool.py\n"
     ]
    }
   ],
   "source": [
    "%%writefile thread_pool.py\n",
    "from concurrent.futures import ThreadPoolExecutor, as_completed\n",
    "import logging\n",
    "import threading\n",
    "import time\n",
    "\n",
    "max_workers = 5\n",
    "\n",
    "def func(x):\n",
    "    \"\"\"I/O bound task\"\"\"\n",
    "    time.sleep(2)\n",
    "    return x, x**x\n",
    "\n",
    "\n",
    "if __name__ == \"__main__\":\n",
    "    final_results = []\n",
    "    with ThreadPoolExecutor(max_workers=max_workers) as executor:\n",
    "        futures = []\n",
    "        for val in range(1, 15):\n",
    "\n",
    "            futures.append(\n",
    "                    executor.submit(\n",
    "                    func,\n",
    "                    x=val\n",
    "                )\n",
    "            )\n",
    "        for f in as_completed(futures):\n",
    "            res = f.result()\n",
    "            print(res)\n",
    "            final_results.append(res)\n"
   ]
  },
  {
   "cell_type": "code",
   "execution_count": 55,
   "metadata": {},
   "outputs": [
    {
     "name": "stdout",
     "output_type": "stream",
     "text": [
      "(1, 1)\n",
      "(4, 256)\n",
      "(2, 4)\n",
      "(3, 27)\n",
      "(5, 3125)\n",
      "(6, 46656)\n",
      "(7, 823543)\n",
      "(8, 16777216)\n",
      "(9, 387420489)\n",
      "(10, 10000000000)\n",
      "(11, 285311670611)\n",
      "(12, 8916100448256)\n",
      "(14, 11112006825558016)\n",
      "(13, 302875106592253)\n"
     ]
    }
   ],
   "source": [
    "! python thread_pool.py"
   ]
  },
  {
   "cell_type": "code",
   "execution_count": 64,
   "metadata": {},
   "outputs": [
    {
     "data": {
      "text/plain": [
       "<concurrent.futures.thread.ThreadPoolExecutor at 0x108e68650>"
      ]
     },
     "execution_count": 64,
     "metadata": {},
     "output_type": "execute_result"
    }
   ],
   "source": [
    "# step by step review:\n",
    "\n",
    "from concurrent.futures import ThreadPoolExecutor, as_completed\n",
    "import time \n",
    "\n",
    "\n",
    "def func(x):\n",
    "    \"\"\"I/O bound task\"\"\"\n",
    "    time.sleep(2)\n",
    "    return x, x**x\n",
    "\n",
    "executor = ThreadPoolExecutor(max_workers=3)\n",
    "executor\n"
   ]
  },
  {
   "cell_type": "code",
   "execution_count": 65,
   "metadata": {},
   "outputs": [
    {
     "data": {
      "text/plain": [
       "[<Future at 0x108e56850 state=running>]"
      ]
     },
     "execution_count": 65,
     "metadata": {},
     "output_type": "execute_result"
    }
   ],
   "source": [
    "futures = []\n",
    "futures.append(executor.submit(func, 10))\n",
    "futures"
   ]
  },
  {
   "cell_type": "code",
   "execution_count": 66,
   "metadata": {},
   "outputs": [
    {
     "data": {
      "text/plain": [
       "True"
      ]
     },
     "execution_count": 66,
     "metadata": {},
     "output_type": "execute_result"
    }
   ],
   "source": [
    "from concurrent.futures import Future\n",
    "\n",
    "type(executor.submit(func, 10)) == Future"
   ]
  },
  {
   "cell_type": "code",
   "execution_count": 74,
   "metadata": {},
   "outputs": [
    {
     "data": {
      "text/plain": [
       "True"
      ]
     },
     "execution_count": 74,
     "metadata": {},
     "output_type": "execute_result"
    }
   ],
   "source": [
    "from typing import Generator\n",
    "\n",
    "isinstance(as_completed(futures), Generator)"
   ]
  },
  {
   "cell_type": "code",
   "execution_count": 75,
   "metadata": {},
   "outputs": [
    {
     "data": {
      "text/plain": [
       "<generator object as_completed at 0x108ea1300>"
      ]
     },
     "execution_count": 75,
     "metadata": {},
     "output_type": "execute_result"
    }
   ],
   "source": [
    "as_completed(futures)"
   ]
  },
  {
   "cell_type": "code",
   "execution_count": 67,
   "metadata": {},
   "outputs": [],
   "source": [
    "obj = []\n",
    "for f in as_completed(futures):\n",
    "    obj.append(f.result())"
   ]
  },
  {
   "cell_type": "code",
   "execution_count": 68,
   "metadata": {},
   "outputs": [
    {
     "data": {
      "text/plain": [
       "[(10, 10000000000)]"
      ]
     },
     "execution_count": 68,
     "metadata": {},
     "output_type": "execute_result"
    }
   ],
   "source": [
    "obj"
   ]
  },
  {
   "cell_type": "markdown",
   "metadata": {
    "id": "3w3_tYzsrwSg"
   },
   "source": [
    "# Race Condition\n",
    "\n",
    "- `.submit(function, *args, **kwargs)\n",
    "`"
   ]
  },
  {
   "cell_type": "code",
   "execution_count": null,
   "metadata": {
    "colab": {
     "base_uri": "https://localhost:8080/"
    },
    "executionInfo": {
     "elapsed": 283,
     "status": "ok",
     "timestamp": 1638206968063,
     "user": {
      "displayName": "Chet Sheng",
      "photoUrl": "https://lh3.googleusercontent.com/a-/AOh14Gjy_Dk7Ahwv2lZiGE0sUFyBO_xe7OiTtIJ9Qlezaw=s64",
      "userId": "02447232751254445182"
     },
     "user_tz": 0
    },
    "id": "U5IvS01bu6Am",
    "outputId": "d6ca869c-bd48-4776-a487-132e97dfbe13"
   },
   "outputs": [
    {
     "name": "stderr",
     "output_type": "stream",
     "text": [
      "17:29:27: Testing update. Starting value is 0.\n",
      "17:29:27: Thread 0: starting update\n",
      "17:29:27: Thread 1: starting update\n",
      "17:29:27: Thread 0: finishing update\n",
      "17:29:27: Thread 1: finishing update\n",
      "17:29:27: Testing update. Ending value is 1.\n"
     ]
    }
   ],
   "source": [
    "\n",
    "from concurrent.futures import ThreadPoolExecutor\n",
    "import logging\n",
    "import time\n",
    "\n",
    "class FakeDatabase:\n",
    "    def __init__(self):\n",
    "        self.value = 0\n",
    "\n",
    "    def update(self, name):\n",
    "        \"\"\"\n",
    "        Simulate reading a value from a database,\n",
    "        doing some computation on it, and then writing a new value back to the database.\n",
    "        \"\"\"\n",
    "        logging.info(\"Thread %s: starting update\", name)\n",
    "        local_copy = self.value\n",
    "        local_copy += 1\n",
    "        time.sleep(0.1)\n",
    "        self.value = local_copy\n",
    "        logging.info(\"Thread %s: finishing update\", name)\n",
    "\n",
    "\n",
    "if __name__ == \"__main__\":\n",
    "    format = \"%(asctime)s: %(message)s\"\n",
    "    logging.basicConfig(format=format, level=logging.INFO,\n",
    "                        datefmt=\"%H:%M:%S\")\n",
    "\n",
    "    database = FakeDatabase()\n",
    "    logging.info(\"Testing update. Starting value is %d.\", database.value)\n",
    "    with ThreadPoolExecutor(max_workers=2) as executor:\n",
    "        for index in range(2):\n",
    "            executor.submit(database.update, index)\n",
    "    logging.info(\"Testing update. Ending value is %d.\", database.value)"
   ]
  },
  {
   "cell_type": "markdown",
   "metadata": {
    "id": "k45kr2cr836z"
   },
   "source": [
    "# Basic Synchronization Using `Lock`\n",
    "\n",
    "To solve your race condition above, you need to find a way to allow only one thread at a time into the `read-modify-write` section of your code. \n",
    "\n",
    "The most common way to do this is called `Lock` in Python. In some other languages this same idea is called a `mutex`. `Mutex` comes from **MUTual EXclusion**, which is exactly what a Lock does.\n",
    "\n",
    "- A `Lock` is an object that acts like a **hall pass**. Only one thread at a time can have the `Lock`. Any other thread that wants the `Lock` must wait until the owner of the Lock gives it up.\n",
    "- The basic functions to do this are `.acquire()` and `.release()`. A thread will call `my_lock.acquire()` to get the lock. If the lock is already held, the calling thread will wait until it is released. There’s an important point here. If one thread gets the lock but never gives it back, your program will be stuck. You’ll read more about this later.\n",
    "- Python’s Lock will also operate as a context manager, so you can use it in a with statement, and it gets released automatically when the with block exits for any reason.\n",
    "\n",
    "\n",
    "\n"
   ]
  },
  {
   "cell_type": "code",
   "execution_count": null,
   "metadata": {
    "colab": {
     "base_uri": "https://localhost:8080/"
    },
    "executionInfo": {
     "elapsed": 313,
     "status": "ok",
     "timestamp": 1638268360880,
     "user": {
      "displayName": "Chet Sheng",
      "photoUrl": "https://lh3.googleusercontent.com/a-/AOh14Gjy_Dk7Ahwv2lZiGE0sUFyBO_xe7OiTtIJ9Qlezaw=s64",
      "userId": "02447232751254445182"
     },
     "user_tz": 0
    },
    "id": "FTmdA5ge9-MI",
    "outputId": "2f8b7fa3-4ab8-449d-9057-ef0fd609f63a"
   },
   "outputs": [
    {
     "name": "stdout",
     "output_type": "stream",
     "text": [
      "Overwriting fixrace.py\n"
     ]
    }
   ],
   "source": [
    "\n",
    "%%writefile fixrace.py\n",
    "from concurrent.futures import ThreadPoolExecutor\n",
    "import logging\n",
    "import time\n",
    "import threading\n",
    "\n",
    "class FakeDatabase:\n",
    "    def __init__(self):\n",
    "        self.value = 0\n",
    "        self._lock = threading.Lock()  # adding Lock\n",
    "\n",
    "    def locked_update(self, name):\n",
    "        logging.info(\"Thread %s: starting update\", name)\n",
    "        logging.debug(\"Thread %s about to lock\", name)\n",
    "        with self._lock:\n",
    "            logging.debug(\"Thread %s has lock\", name)\n",
    "            local_copy = self.value\n",
    "            local_copy += 1\n",
    "            time.sleep(0.1)\n",
    "            self.value = local_copy\n",
    "            logging.debug(\"Thread %s about to release lock\", name)\n",
    "        logging.debug(\"Thread %s after release\", name)\n",
    "        logging.info(\"Thread %s: finishing update\", name)\n",
    "\n",
    "if __name__ == \"__main__\":\n",
    "    format = \"%(asctime)s: %(message)s\"\n",
    "    logging.basicConfig(format=format, level=logging.DEBUG,\n",
    "                        datefmt=\"%H:%M:%S\")\n",
    "    # logging.getLogger().setLevel(logging.DEBUG)\n",
    "\n",
    "    database = FakeDatabase()\n",
    "    logging.info(\"Testing update. Starting value is %d.\", database.value)\n",
    "    with ThreadPoolExecutor(max_workers=2) as executor:\n",
    "        for index in range(2):\n",
    "            executor.submit(database.locked_update, index)\n",
    "    logging.info(\"Testing update. Ending value is %d.\", database.value)"
   ]
  },
  {
   "cell_type": "code",
   "execution_count": null,
   "metadata": {
    "colab": {
     "base_uri": "https://localhost:8080/"
    },
    "executionInfo": {
     "elapsed": 307,
     "status": "ok",
     "timestamp": 1638268361182,
     "user": {
      "displayName": "Chet Sheng",
      "photoUrl": "https://lh3.googleusercontent.com/a-/AOh14Gjy_Dk7Ahwv2lZiGE0sUFyBO_xe7OiTtIJ9Qlezaw=s64",
      "userId": "02447232751254445182"
     },
     "user_tz": 0
    },
    "id": "ih_VSl-WZC_R",
    "outputId": "5b521b47-5833-4923-9764-55938efdc7ae"
   },
   "outputs": [
    {
     "name": "stdout",
     "output_type": "stream",
     "text": [
      "10:32:40: Testing update. Starting value is 0.\n",
      "10:32:40: Thread 0: starting update\n",
      "10:32:40: Thread 0 about to lock\n",
      "10:32:40: Thread 0 has lock\n",
      "10:32:40: Thread 1: starting update\n",
      "10:32:40: Thread 1 about to lock\n",
      "10:32:40: Thread 0 about to release lock\n",
      "10:32:40: Thread 0 after release\n",
      "10:32:40: Thread 0: finishing update\n",
      "10:32:40: Thread 1 has lock\n",
      "10:32:40: Thread 1 about to release lock\n",
      "10:32:40: Thread 1 after release\n",
      "10:32:40: Thread 1: finishing update\n",
      "10:32:40: Testing update. Ending value is 2.\n"
     ]
    }
   ],
   "source": [
    "! python fixrace.py"
   ]
  },
  {
   "cell_type": "markdown",
   "metadata": {
    "id": "6-lpV5CUZqZE"
   },
   "source": [
    "## Deadlock\n",
    "As you saw, if the Lock has already been acquired, a second call to `.acquire()` will wait until the thread that is holding the Lock calls `.release()`.\n",
    "\n",
    "1. An implementation bug where a Lock is not released properly\n",
    "    - The first situation happens sometimes, but using a `Lock` as a context manager greatly reduces how often. It is recommended to write code whenever possible to make use of context managers, as they help to avoid situations where an exception skips you over the `.release()` call.\n",
    "2. A design issue where a utility function needs to be called by functions that might or might not already have the Lock\n",
    "    - The design issue can be a bit trickier in some languages. Thankfully, Python threading has a second object, called **`RLock`*, that is designed for just this situation. \n",
    "    \n",
    "    It allows **a thread to `.acquire()` an `RLock` multiple times before it calls `.release()`**. That thread is still required to call `.release()` the same number of times it called `.acquire()`, but it should be doing that anyway.\n",
    "\n",
    "\n",
    "`Lock` and `RLock` are two of the basic tools used in threaded programming to prevent race conditions."
   ]
  },
  {
   "cell_type": "code",
   "execution_count": null,
   "metadata": {
    "colab": {
     "base_uri": "https://localhost:8080/",
     "height": 253
    },
    "executionInfo": {
     "elapsed": 2324,
     "status": "error",
     "timestamp": 1638269398847,
     "user": {
      "displayName": "Chet Sheng",
      "photoUrl": "https://lh3.googleusercontent.com/a-/AOh14Gjy_Dk7Ahwv2lZiGE0sUFyBO_xe7OiTtIJ9Qlezaw=s64",
      "userId": "02447232751254445182"
     },
     "user_tz": 0
    },
    "id": "nG4_rg0xaZo1",
    "outputId": "ef2a30d1-5689-4393-dbad-82b25cea28cf"
   },
   "outputs": [
    {
     "name": "stdout",
     "output_type": "stream",
     "text": [
      "before first acquire\n",
      "before second acquire\n"
     ]
    },
    {
     "ename": "KeyboardInterrupt",
     "evalue": "ignored",
     "output_type": "error",
     "traceback": [
      "\u001b[0;31m---------------------------------------------------------------------------\u001b[0m",
      "\u001b[0;31mKeyboardInterrupt\u001b[0m                         Traceback (most recent call last)",
      "\u001b[0;32m<ipython-input-13-8c4084bf8a94>\u001b[0m in \u001b[0;36m<module>\u001b[0;34m()\u001b[0m\n\u001b[1;32m      6\u001b[0m \u001b[0ml\u001b[0m\u001b[0;34m.\u001b[0m\u001b[0macquire\u001b[0m\u001b[0;34m(\u001b[0m\u001b[0;34m)\u001b[0m\u001b[0;34m\u001b[0m\u001b[0;34m\u001b[0m\u001b[0m\n\u001b[1;32m      7\u001b[0m \u001b[0mprint\u001b[0m\u001b[0;34m(\u001b[0m\u001b[0;34m\"before second acquire\"\u001b[0m\u001b[0;34m)\u001b[0m\u001b[0;34m\u001b[0m\u001b[0;34m\u001b[0m\u001b[0m\n\u001b[0;32m----> 8\u001b[0;31m \u001b[0ml\u001b[0m\u001b[0;34m.\u001b[0m\u001b[0macquire\u001b[0m\u001b[0;34m(\u001b[0m\u001b[0;34m)\u001b[0m\u001b[0;34m\u001b[0m\u001b[0;34m\u001b[0m\u001b[0m\n\u001b[0m\u001b[1;32m      9\u001b[0m \u001b[0mprint\u001b[0m\u001b[0;34m(\u001b[0m\u001b[0;34m\"acquired lock twice\"\u001b[0m\u001b[0;34m)\u001b[0m\u001b[0;34m\u001b[0m\u001b[0;34m\u001b[0m\u001b[0m\n",
      "\u001b[0;31mKeyboardInterrupt\u001b[0m: "
     ]
    }
   ],
   "source": [
    "# Deadlock: it will stuck and keep running\n",
    "import threading\n",
    "\n",
    "l = threading.Lock()\n",
    "print(\"before first acquire\")\n",
    "l.acquire()\n",
    "print(\"before second acquire\")\n",
    "l.acquire()\n",
    "print(\"acquired lock twice\")"
   ]
  },
  {
   "cell_type": "markdown",
   "metadata": {
    "id": "JNSRBT48bq5j"
   },
   "source": [
    "# Producer-Consumer Threading\n",
    "ref: https://realpython.com/intro-to-python-threading/#producer-consumer-threading"
   ]
  },
  {
   "cell_type": "markdown",
   "metadata": {
    "id": "oLMbeOrTdw_C"
   },
   "source": [
    "## Producer-Consumer Using Lock"
   ]
  },
  {
   "cell_type": "code",
   "execution_count": null,
   "metadata": {
    "colab": {
     "base_uri": "https://localhost:8080/"
    },
    "executionInfo": {
     "elapsed": 530,
     "status": "ok",
     "timestamp": 1638270178854,
     "user": {
      "displayName": "Chet Sheng",
      "photoUrl": "https://lh3.googleusercontent.com/a-/AOh14Gjy_Dk7Ahwv2lZiGE0sUFyBO_xe7OiTtIJ9Qlezaw=s64",
      "userId": "02447232751254445182"
     },
     "user_tz": 0
    },
    "id": "7h9CVAuSeQPs",
    "outputId": "bae425ed-a33d-43ad-ee03-487bf7323424"
   },
   "outputs": [
    {
     "name": "stdout",
     "output_type": "stream",
     "text": [
      "Overwriting producer_consumer_lock.py\n"
     ]
    }
   ],
   "source": [
    "%%writefile producer_consumer_lock.py\n",
    "#!/usr/bin/env python3\n",
    "import concurrent.futures\n",
    "import logging\n",
    "import random\n",
    "import threading\n",
    "\n",
    "SENTINEL = object()\n",
    "\n",
    "\n",
    "class Pipeline_clean:\n",
    "    \"\"\" (without logging)\n",
    "    Class to allow a single element pipeline between producer and consumer.\n",
    "    \"\"\"\n",
    "    def __init__(self):\n",
    "        self.message = 0\n",
    "        self.producer_lock = threading.Lock()\n",
    "        self.consumer_lock = threading.Lock()\n",
    "        self.consumer_lock.acquire()\n",
    "\n",
    "    def get_message(self, name):\n",
    "        self.consumer_lock.acquire()\n",
    "        message = self.message\n",
    "        self.producer_lock.release()\n",
    "        return message\n",
    "\n",
    "    def set_message(self, message, name):\n",
    "        self.producer_lock.acquire()\n",
    "        self.message = message\n",
    "        self.consumer_lock.release()\n",
    "\n",
    "\n",
    "class Pipeline:\n",
    "    \"\"\"\n",
    "    Class to allow a single element pipeline\n",
    "    between producer and consumer.\n",
    "    \"\"\"\n",
    "\n",
    "    def __init__(self):\n",
    "        self.message = 0\n",
    "        self.producer_lock = threading.Lock()\n",
    "        self.consumer_lock = threading.Lock()\n",
    "        self.consumer_lock.acquire()\n",
    "\n",
    "    def get_message(self, name):\n",
    "        logging.debug(\"%s:about to acquire getlock\", name)\n",
    "        self.consumer_lock.acquire()\n",
    "        logging.debug(\"%s:have getlock\", name)\n",
    "        message = self.message\n",
    "        logging.debug(\"%s:about to release setlock\", name)\n",
    "        self.producer_lock.release()\n",
    "        logging.debug(\"%s:setlock released\", name)\n",
    "        return message\n",
    "\n",
    "    def set_message(self, message, name):\n",
    "        logging.debug(\"%s:about to acquire setlock\", name)\n",
    "        self.producer_lock.acquire()\n",
    "        logging.debug(\"%s:have setlock\", name)\n",
    "        self.message = message\n",
    "        logging.debug(\"%s:about to release getlock\", name)\n",
    "        self.consumer_lock.release()\n",
    "        logging.debug(\"%s:getlock released\", name)\n",
    "\n",
    "\n",
    "def producer(pipeline):\n",
    "    \"\"\"Pretend we're getting a message from the network.\"\"\"\n",
    "    for index in range(10):\n",
    "        message = random.randint(1, 101)\n",
    "        logging.info(\"Producer got message: %s\", message)\n",
    "        pipeline.set_message(message, \"Producer\")\n",
    "\n",
    "    # Send a sentinel message to tell consumer we're done\n",
    "    pipeline.set_message(SENTINEL, \"Producer\")\n",
    "\n",
    "\n",
    "def consumer(pipeline):\n",
    "    \"\"\"Pretend we're saving a number in the database.\"\"\"\n",
    "    message = 0\n",
    "    while message is not SENTINEL:\n",
    "        message = pipeline.get_message(\"Consumer\")\n",
    "        if message is not SENTINEL:\n",
    "            logging.info(\"Consumer storing message: %s\", message)\n",
    "\n",
    "\n",
    "if __name__ == \"__main__\":\n",
    "    format = \"%(asctime)s: %(message)s\"\n",
    "    logging.basicConfig(format=format, level=logging.INFO, datefmt=\"%H:%M:%S\")\n",
    "    logging.getLogger().setLevel(logging.DEBUG)\n",
    "\n",
    "    pipeline = Pipeline()\n",
    "    with concurrent.futures.ThreadPoolExecutor(max_workers=2) as executor:\n",
    "        executor.submit(producer, pipeline)\n",
    "        executor.submit(consumer, pipeline)"
   ]
  },
  {
   "cell_type": "code",
   "execution_count": null,
   "metadata": {
    "colab": {
     "base_uri": "https://localhost:8080/"
    },
    "executionInfo": {
     "elapsed": 238,
     "status": "ok",
     "timestamp": 1638270180139,
     "user": {
      "displayName": "Chet Sheng",
      "photoUrl": "https://lh3.googleusercontent.com/a-/AOh14Gjy_Dk7Ahwv2lZiGE0sUFyBO_xe7OiTtIJ9Qlezaw=s64",
      "userId": "02447232751254445182"
     },
     "user_tz": 0
    },
    "id": "8cD_ixnSer4e",
    "outputId": "2fbf9c5e-3ffe-4579-8b00-7052969f654c"
   },
   "outputs": [
    {
     "name": "stdout",
     "output_type": "stream",
     "text": [
      "11:02:59: Producer got message: 10\n",
      "11:02:59: Producer:about to acquire setlock\n",
      "11:02:59: Consumer:about to acquire getlock\n",
      "11:02:59: Producer:have setlock\n",
      "11:02:59: Producer:about to release getlock\n",
      "11:02:59: Producer:getlock released\n",
      "11:02:59: Consumer:have getlock\n",
      "11:02:59: Producer got message: 46\n",
      "11:02:59: Consumer:about to release setlock\n",
      "11:02:59: Producer:about to acquire setlock\n",
      "11:02:59: Consumer:setlock released\n",
      "11:02:59: Producer:have setlock\n",
      "11:02:59: Consumer storing message: 10\n",
      "11:02:59: Producer:about to release getlock\n",
      "11:02:59: Consumer:about to acquire getlock\n",
      "11:02:59: Producer:getlock released\n",
      "11:02:59: Consumer:have getlock\n",
      "11:02:59: Producer got message: 98\n",
      "11:02:59: Consumer:about to release setlock\n",
      "11:02:59: Producer:about to acquire setlock\n",
      "11:02:59: Consumer:setlock released\n",
      "11:02:59: Producer:have setlock\n",
      "11:02:59: Consumer storing message: 46\n",
      "11:02:59: Producer:about to release getlock\n",
      "11:02:59: Consumer:about to acquire getlock\n",
      "11:02:59: Producer:getlock released\n",
      "11:02:59: Consumer:have getlock\n",
      "11:02:59: Producer got message: 49\n",
      "11:02:59: Consumer:about to release setlock\n",
      "11:02:59: Producer:about to acquire setlock\n",
      "11:02:59: Consumer:setlock released\n",
      "11:02:59: Producer:have setlock\n",
      "11:02:59: Consumer storing message: 98\n",
      "11:02:59: Producer:about to release getlock\n",
      "11:02:59: Producer:getlock released\n",
      "11:02:59: Consumer:about to acquire getlock\n",
      "11:02:59: Producer got message: 20\n",
      "11:02:59: Consumer:have getlock\n",
      "11:02:59: Producer:about to acquire setlock\n",
      "11:02:59: Consumer:about to release setlock\n",
      "11:02:59: Consumer:setlock released\n",
      "11:02:59: Consumer storing message: 49\n",
      "11:02:59: Consumer:about to acquire getlock\n",
      "11:02:59: Producer:have setlock\n",
      "11:02:59: Producer:about to release getlock\n",
      "11:02:59: Producer:getlock released\n",
      "11:02:59: Producer got message: 52\n",
      "11:02:59: Producer:about to acquire setlock\n",
      "11:02:59: Consumer:have getlock\n",
      "11:02:59: Consumer:about to release setlock\n",
      "11:02:59: Consumer:setlock released\n",
      "11:02:59: Consumer storing message: 20\n",
      "11:02:59: Producer:have setlock\n",
      "11:02:59: Consumer:about to acquire getlock\n",
      "11:02:59: Producer:about to release getlock\n",
      "11:02:59: Producer:getlock released\n",
      "11:02:59: Producer got message: 8\n",
      "11:02:59: Producer:about to acquire setlock\n",
      "11:02:59: Consumer:have getlock\n",
      "11:02:59: Consumer:about to release setlock\n",
      "11:02:59: Consumer:setlock released\n",
      "11:02:59: Consumer storing message: 52\n",
      "11:02:59: Consumer:about to acquire getlock\n",
      "11:02:59: Producer:have setlock\n",
      "11:02:59: Producer:about to release getlock\n",
      "11:02:59: Producer:getlock released\n",
      "11:02:59: Consumer:have getlock\n",
      "11:02:59: Producer got message: 21\n",
      "11:02:59: Consumer:about to release setlock\n",
      "11:02:59: Producer:about to acquire setlock\n",
      "11:02:59: Consumer:setlock released\n",
      "11:02:59: Producer:have setlock\n",
      "11:02:59: Consumer storing message: 8\n",
      "11:02:59: Producer:about to release getlock\n",
      "11:02:59: Consumer:about to acquire getlock\n",
      "11:02:59: Producer:getlock released\n",
      "11:02:59: Consumer:have getlock\n",
      "11:02:59: Producer got message: 57\n",
      "11:02:59: Consumer:about to release setlock\n",
      "11:02:59: Producer:about to acquire setlock\n",
      "11:02:59: Consumer:setlock released\n",
      "11:02:59: Producer:have setlock\n",
      "11:02:59: Consumer storing message: 21\n",
      "11:02:59: Producer:about to release getlock\n",
      "11:02:59: Consumer:about to acquire getlock\n",
      "11:02:59: Producer:getlock released\n",
      "11:02:59: Consumer:have getlock\n",
      "11:02:59: Producer got message: 78\n",
      "11:02:59: Consumer:about to release setlock\n",
      "11:02:59: Producer:about to acquire setlock\n",
      "11:02:59: Consumer:setlock released\n",
      "11:02:59: Producer:have setlock\n",
      "11:02:59: Consumer storing message: 57\n",
      "11:02:59: Producer:about to release getlock\n",
      "11:02:59: Consumer:about to acquire getlock\n",
      "11:02:59: Producer:getlock released\n",
      "11:02:59: Consumer:have getlock\n",
      "11:02:59: Producer:about to acquire setlock\n",
      "11:02:59: Consumer:about to release setlock\n",
      "11:02:59: Consumer:setlock released\n",
      "11:02:59: Consumer storing message: 78\n",
      "11:02:59: Consumer:about to acquire getlock\n",
      "11:02:59: Producer:have setlock\n",
      "11:02:59: Producer:about to release getlock\n",
      "11:02:59: Producer:getlock released\n",
      "11:02:59: Consumer:have getlock\n",
      "11:02:59: Consumer:about to release setlock\n",
      "11:02:59: Consumer:setlock released\n"
     ]
    }
   ],
   "source": [
    "! python producer_consumer_lock.py"
   ]
  },
  {
   "cell_type": "markdown",
   "metadata": {
    "id": "EGmxL1IngRlq"
   },
   "source": [
    "## Producer-Consumer Using Queue\n",
    "\n",
    "If you want to be able to handle more than one value in the pipeline at a time, you’ll need a data structure for the pipeline that allows the number to grow and shrink as data backs up from the producer.\n",
    "\n",
    "- `Event`: The `threading.Event` object allows one thread to signal an event while many other threads can be waiting for that event to happen. The key usage in this code is that the threads that are waiting for the event do not necessarily need to stop what they are doing, they can just check the status of the Event every once in a while.\n",
    "\n",
    "- `Queue`: The core devs who wrote the standard library knew that a `Queue` is frequently used in multi-threading environments and incorporated all of that locking code inside the `Queue` itself. `Queue` is **thread-safe**.\n",
    "\n",
    "ref: https://realpython.com/intro-to-python-threading/#producer-consumer-using-queue"
   ]
  },
  {
   "cell_type": "code",
   "execution_count": null,
   "metadata": {
    "colab": {
     "base_uri": "https://localhost:8080/"
    },
    "executionInfo": {
     "elapsed": 526,
     "status": "ok",
     "timestamp": 1638270334567,
     "user": {
      "displayName": "Chet Sheng",
      "photoUrl": "https://lh3.googleusercontent.com/a-/AOh14Gjy_Dk7Ahwv2lZiGE0sUFyBO_xe7OiTtIJ9Qlezaw=s64",
      "userId": "02447232751254445182"
     },
     "user_tz": 0
    },
    "id": "e4s3dZfMhCA-",
    "outputId": "329c9dfb-6956-41c2-e1c9-26a8005f8408"
   },
   "outputs": [
    {
     "name": "stdout",
     "output_type": "stream",
     "text": [
      "Writing producer_consumer_queue.py\n"
     ]
    }
   ],
   "source": [
    "%%writefile producer_consumer_queue.py\n",
    "import concurrent.futures\n",
    "import logging\n",
    "import queue\n",
    "import random\n",
    "import threading\n",
    "import time\n",
    "\n",
    "def producer(queue, event):\n",
    "    \"\"\"Pretend we're getting a number from the network.\"\"\"\n",
    "    while not event.is_set():\n",
    "        message = random.randint(1, 101)\n",
    "        logging.info(\"Producer got message: %s\", message)\n",
    "        queue.put(message)\n",
    "\n",
    "    logging.info(\"Producer received event. Exiting\")\n",
    "\n",
    "def consumer(queue, event):\n",
    "    \"\"\"Pretend we're saving a number in the database.\"\"\"\n",
    "    while not event.is_set() or not queue.empty():\n",
    "        message = queue.get()\n",
    "        logging.info(\n",
    "            \"Consumer storing message: %s (size=%d)\", message, queue.qsize()\n",
    "        )\n",
    "\n",
    "    logging.info(\"Consumer received event. Exiting\")\n",
    "\n",
    "if __name__ == \"__main__\":\n",
    "    format = \"%(asctime)s: %(message)s\"\n",
    "    logging.basicConfig(format=format, level=logging.INFO,\n",
    "                        datefmt=\"%H:%M:%S\")\n",
    "\n",
    "    pipeline = queue.Queue(maxsize=10)\n",
    "    event = threading.Event()\n",
    "    with concurrent.futures.ThreadPoolExecutor(max_workers=2) as executor:\n",
    "        executor.submit(producer, pipeline, event)\n",
    "        executor.submit(consumer, pipeline, event)\n",
    "\n",
    "        time.sleep(0.1)\n",
    "        logging.info(\"Main: about to set event\")\n",
    "        event.set()  # All threads waiting for it to become true are awakened"
   ]
  },
  {
   "cell_type": "code",
   "execution_count": null,
   "metadata": {
    "colab": {
     "base_uri": "https://localhost:8080/"
    },
    "executionInfo": {
     "elapsed": 483,
     "status": "ok",
     "timestamp": 1638270340907,
     "user": {
      "displayName": "Chet Sheng",
      "photoUrl": "https://lh3.googleusercontent.com/a-/AOh14Gjy_Dk7Ahwv2lZiGE0sUFyBO_xe7OiTtIJ9Qlezaw=s64",
      "userId": "02447232751254445182"
     },
     "user_tz": 0
    },
    "id": "Kuprqi3RhXFO",
    "outputId": "05d87cdb-d570-4d76-df8a-833ab84f210c"
   },
   "outputs": [
    {
     "name": "stdout",
     "output_type": "stream",
     "text": [
      "11:05:40: Producer got message: 5\n",
      "11:05:40: Producer got message: 84\n",
      "11:05:40: Producer got message: 6\n",
      "11:05:40: Producer got message: 87\n",
      "11:05:40: Producer got message: 26\n",
      "11:05:40: Producer got message: 64\n",
      "11:05:40: Producer got message: 19\n",
      "11:05:40: Producer got message: 36\n",
      "11:05:40: Producer got message: 95\n",
      "11:05:40: Producer got message: 72\n",
      "11:05:40: Producer got message: 83\n",
      "11:05:40: Consumer storing message: 5 (size=9)\n",
      "11:05:40: Producer got message: 82\n",
      "11:05:40: Consumer storing message: 84 (size=9)\n",
      "11:05:40: Producer got message: 32\n",
      "11:05:40: Consumer storing message: 6 (size=9)\n",
      "11:05:40: Producer got message: 92\n",
      "11:05:40: Consumer storing message: 87 (size=9)\n",
      "11:05:40: Producer got message: 26\n",
      "11:05:40: Consumer storing message: 26 (size=9)\n",
      "11:05:40: Producer got message: 18\n",
      "11:05:40: Consumer storing message: 64 (size=9)\n",
      "11:05:40: Producer got message: 17\n",
      "11:05:40: Consumer storing message: 19 (size=9)\n",
      "11:05:40: Producer got message: 79\n",
      "11:05:40: Consumer storing message: 36 (size=9)\n",
      "11:05:40: Producer got message: 70\n",
      "11:05:40: Consumer storing message: 95 (size=9)\n",
      "11:05:40: Producer got message: 87\n",
      "11:05:40: Consumer storing message: 72 (size=9)\n",
      "11:05:40: Producer got message: 73\n",
      "11:05:40: Consumer storing message: 83 (size=9)\n",
      "11:05:40: Producer got message: 76\n",
      "11:05:40: Producer got message: 62\n",
      "11:05:40: Consumer storing message: 82 (size=9)\n",
      "11:05:40: Consumer storing message: 32 (size=9)\n",
      "11:05:40: Consumer storing message: 92 (size=8)\n",
      "11:05:40: Consumer storing message: 26 (size=7)\n",
      "11:05:40: Consumer storing message: 18 (size=6)\n",
      "11:05:40: Consumer storing message: 17 (size=5)\n",
      "11:05:40: Consumer storing message: 79 (size=4)\n",
      "11:05:40: Consumer storing message: 70 (size=3)\n",
      "11:05:40: Consumer storing message: 87 (size=2)\n",
      "11:05:40: Consumer storing message: 73 (size=1)\n",
      "11:05:40: Consumer storing message: 76 (size=0)\n",
      "11:05:40: Producer got message: 83\n",
      "11:05:40: Producer got message: 15\n",
      "11:05:40: Consumer storing message: 62 (size=1)\n",
      "11:05:40: Producer got message: 19\n",
      "11:05:40: Consumer storing message: 83 (size=1)\n",
      "11:05:40: Producer got message: 23\n",
      "11:05:40: Consumer storing message: 15 (size=1)\n",
      "11:05:40: Producer got message: 71\n",
      "11:05:40: Consumer storing message: 19 (size=1)\n",
      "11:05:40: Producer got message: 59\n",
      "11:05:40: Consumer storing message: 23 (size=1)\n",
      "11:05:40: Producer got message: 85\n",
      "11:05:40: Consumer storing message: 71 (size=1)\n",
      "11:05:40: Producer got message: 60\n",
      "11:05:40: Consumer storing message: 59 (size=1)\n",
      "11:05:40: Producer got message: 74\n",
      "11:05:40: Consumer storing message: 85 (size=1)\n",
      "11:05:40: Producer got message: 90\n",
      "11:05:40: Consumer storing message: 60 (size=1)\n",
      "11:05:40: Producer got message: 88\n",
      "11:05:40: Consumer storing message: 74 (size=1)\n",
      "11:05:40: Producer got message: 34\n",
      "11:05:40: Consumer storing message: 90 (size=1)\n",
      "11:05:40: Producer got message: 26\n",
      "11:05:40: Consumer storing message: 88 (size=1)\n",
      "11:05:40: Producer got message: 59\n",
      "11:05:40: Consumer storing message: 34 (size=1)\n",
      "11:05:40: Producer got message: 46\n",
      "11:05:40: Consumer storing message: 26 (size=1)\n",
      "11:05:40: Producer got message: 63\n",
      "11:05:40: Consumer storing message: 59 (size=1)\n",
      "11:05:40: Producer got message: 80\n",
      "11:05:40: Consumer storing message: 46 (size=1)\n",
      "11:05:40: Producer got message: 88\n",
      "11:05:40: Consumer storing message: 63 (size=1)\n",
      "11:05:40: Producer got message: 80\n",
      "11:05:40: Consumer storing message: 80 (size=1)\n",
      "11:05:40: Producer got message: 36\n",
      "11:05:40: Consumer storing message: 88 (size=1)\n",
      "11:05:40: Producer got message: 63\n",
      "11:05:40: Consumer storing message: 80 (size=1)\n",
      "11:05:40: Producer got message: 46\n",
      "11:05:40: Consumer storing message: 36 (size=1)\n",
      "11:05:40: Producer got message: 82\n",
      "11:05:40: Consumer storing message: 63 (size=1)\n",
      "11:05:40: Producer got message: 86\n",
      "11:05:40: Consumer storing message: 46 (size=1)\n",
      "11:05:40: Producer got message: 7\n",
      "11:05:40: Consumer storing message: 82 (size=1)\n",
      "11:05:40: Producer got message: 81\n",
      "11:05:40: Consumer storing message: 86 (size=1)\n",
      "11:05:40: Producer got message: 88\n",
      "11:05:40: Consumer storing message: 7 (size=1)\n",
      "11:05:40: Producer got message: 39\n",
      "11:05:40: Consumer storing message: 81 (size=1)\n",
      "11:05:40: Producer got message: 60\n",
      "11:05:40: Consumer storing message: 88 (size=1)\n",
      "11:05:40: Producer got message: 64\n",
      "11:05:40: Consumer storing message: 39 (size=1)\n",
      "11:05:40: Producer got message: 24\n",
      "11:05:40: Consumer storing message: 60 (size=1)\n",
      "11:05:40: Producer got message: 95\n",
      "11:05:40: Consumer storing message: 64 (size=1)\n",
      "11:05:40: Producer got message: 66\n",
      "11:05:40: Consumer storing message: 24 (size=1)\n",
      "11:05:40: Producer got message: 48\n",
      "11:05:40: Consumer storing message: 95 (size=1)\n",
      "11:05:40: Producer got message: 97\n",
      "11:05:40: Consumer storing message: 66 (size=1)\n",
      "11:05:40: Producer got message: 39\n",
      "11:05:40: Consumer storing message: 48 (size=1)\n",
      "11:05:40: Producer got message: 80\n",
      "11:05:40: Consumer storing message: 97 (size=1)\n",
      "11:05:40: Producer got message: 18\n",
      "11:05:40: Consumer storing message: 39 (size=1)\n",
      "11:05:40: Producer got message: 78\n",
      "11:05:40: Consumer storing message: 80 (size=1)\n",
      "11:05:40: Producer got message: 87\n",
      "11:05:40: Consumer storing message: 18 (size=1)\n",
      "11:05:40: Producer got message: 69\n",
      "11:05:40: Consumer storing message: 78 (size=1)\n",
      "11:05:40: Producer got message: 2\n",
      "11:05:40: Consumer storing message: 87 (size=1)\n",
      "11:05:40: Producer got message: 40\n",
      "11:05:40: Consumer storing message: 69 (size=1)\n",
      "11:05:40: Producer got message: 66\n",
      "11:05:40: Consumer storing message: 2 (size=1)\n",
      "11:05:40: Producer got message: 73\n",
      "11:05:40: Consumer storing message: 40 (size=1)\n",
      "11:05:40: Producer got message: 19\n",
      "11:05:40: Consumer storing message: 66 (size=1)\n",
      "11:05:40: Producer got message: 53\n",
      "11:05:40: Consumer storing message: 73 (size=1)\n",
      "11:05:40: Producer got message: 64\n",
      "11:05:40: Consumer storing message: 19 (size=1)\n",
      "11:05:40: Producer got message: 48\n",
      "11:05:40: Consumer storing message: 53 (size=1)\n",
      "11:05:40: Producer got message: 31\n",
      "11:05:40: Consumer storing message: 64 (size=1)\n",
      "11:05:40: Producer got message: 60\n",
      "11:05:40: Consumer storing message: 48 (size=1)\n",
      "11:05:40: Producer got message: 5\n",
      "11:05:40: Consumer storing message: 31 (size=1)\n",
      "11:05:40: Producer got message: 71\n",
      "11:05:40: Consumer storing message: 60 (size=1)\n",
      "11:05:40: Producer got message: 11\n",
      "11:05:40: Consumer storing message: 5 (size=1)\n",
      "11:05:40: Producer got message: 57\n",
      "11:05:40: Consumer storing message: 71 (size=1)\n",
      "11:05:40: Producer got message: 55\n",
      "11:05:40: Consumer storing message: 11 (size=1)\n",
      "11:05:40: Producer got message: 19\n",
      "11:05:40: Consumer storing message: 57 (size=1)\n",
      "11:05:40: Producer got message: 96\n",
      "11:05:40: Consumer storing message: 55 (size=1)\n",
      "11:05:40: Producer got message: 18\n",
      "11:05:40: Consumer storing message: 19 (size=1)\n",
      "11:05:40: Producer got message: 62\n",
      "11:05:40: Consumer storing message: 96 (size=1)\n",
      "11:05:40: Producer got message: 60\n",
      "11:05:40: Consumer storing message: 18 (size=1)\n",
      "11:05:40: Consumer storing message: 62 (size=1)\n",
      "11:05:40: Producer got message: 35\n",
      "11:05:40: Consumer storing message: 60 (size=0)\n",
      "11:05:40: Producer got message: 25\n",
      "11:05:40: Consumer storing message: 35 (size=0)\n",
      "11:05:40: Producer got message: 78\n",
      "11:05:40: Consumer storing message: 25 (size=0)\n",
      "11:05:40: Producer got message: 38\n",
      "11:05:40: Consumer storing message: 78 (size=0)\n",
      "11:05:40: Producer got message: 13\n",
      "11:05:40: Consumer storing message: 38 (size=0)\n",
      "11:05:40: Producer got message: 8\n",
      "11:05:40: Consumer storing message: 13 (size=0)\n",
      "11:05:40: Producer got message: 89\n",
      "11:05:40: Consumer storing message: 8 (size=0)\n",
      "11:05:40: Producer got message: 76\n",
      "11:05:40: Consumer storing message: 89 (size=0)\n",
      "11:05:40: Producer got message: 44\n",
      "11:05:40: Consumer storing message: 76 (size=0)\n",
      "11:05:40: Producer got message: 13\n",
      "11:05:40: Consumer storing message: 44 (size=0)\n",
      "11:05:40: Producer got message: 52\n",
      "11:05:40: Consumer storing message: 13 (size=0)\n",
      "11:05:40: Producer got message: 34\n",
      "11:05:40: Consumer storing message: 52 (size=0)\n",
      "11:05:40: Producer got message: 13\n",
      "11:05:40: Consumer storing message: 34 (size=0)\n",
      "11:05:40: Producer got message: 3\n",
      "11:05:40: Consumer storing message: 13 (size=0)\n",
      "11:05:40: Producer got message: 80\n",
      "11:05:40: Consumer storing message: 3 (size=0)\n",
      "11:05:40: Producer got message: 83\n",
      "11:05:40: Consumer storing message: 80 (size=0)\n",
      "11:05:40: Producer got message: 20\n",
      "11:05:40: Consumer storing message: 83 (size=0)\n",
      "11:05:40: Producer got message: 2\n",
      "11:05:40: Consumer storing message: 20 (size=0)\n",
      "11:05:40: Producer got message: 2\n",
      "11:05:40: Producer got message: 77\n",
      "11:05:40: Consumer storing message: 2 (size=0)\n",
      "11:05:40: Producer got message: 19\n",
      "11:05:40: Consumer storing message: 2 (size=1)\n",
      "11:05:40: Producer got message: 94\n",
      "11:05:40: Consumer storing message: 77 (size=1)\n",
      "11:05:40: Producer got message: 94\n",
      "11:05:40: Consumer storing message: 19 (size=1)\n",
      "11:05:40: Producer got message: 76\n",
      "11:05:40: Producer got message: 93\n",
      "11:05:40: Consumer storing message: 94 (size=1)\n",
      "11:05:40: Producer got message: 48\n",
      "11:05:40: Consumer storing message: 94 (size=2)\n",
      "11:05:40: Producer got message: 39\n",
      "11:05:40: Consumer storing message: 76 (size=2)\n",
      "11:05:40: Producer got message: 101\n",
      "11:05:40: Consumer storing message: 93 (size=2)\n",
      "11:05:40: Producer got message: 101\n",
      "11:05:40: Consumer storing message: 48 (size=2)\n",
      "11:05:40: Producer got message: 54\n",
      "11:05:40: Consumer storing message: 39 (size=2)\n",
      "11:05:40: Producer got message: 6\n",
      "11:05:40: Consumer storing message: 101 (size=2)\n",
      "11:05:40: Producer got message: 98\n",
      "11:05:40: Consumer storing message: 101 (size=2)\n",
      "11:05:40: Producer got message: 57\n",
      "11:05:40: Consumer storing message: 54 (size=2)\n",
      "11:05:40: Producer got message: 54\n",
      "11:05:40: Consumer storing message: 6 (size=2)\n",
      "11:05:40: Producer got message: 8\n",
      "11:05:40: Consumer storing message: 98 (size=2)\n",
      "11:05:40: Producer got message: 85\n",
      "11:05:40: Consumer storing message: 57 (size=2)\n",
      "11:05:40: Producer got message: 4\n",
      "11:05:40: Consumer storing message: 54 (size=2)\n",
      "11:05:40: Producer got message: 18\n",
      "11:05:40: Consumer storing message: 8 (size=2)\n",
      "11:05:40: Producer got message: 99\n",
      "11:05:40: Consumer storing message: 85 (size=2)\n",
      "11:05:40: Producer got message: 60\n",
      "11:05:40: Consumer storing message: 4 (size=2)\n",
      "11:05:40: Producer got message: 95\n",
      "11:05:40: Consumer storing message: 18 (size=2)\n",
      "11:05:40: Producer got message: 61\n",
      "11:05:40: Consumer storing message: 99 (size=2)\n",
      "11:05:40: Producer got message: 97\n",
      "11:05:40: Consumer storing message: 60 (size=2)\n",
      "11:05:40: Producer got message: 16\n",
      "11:05:40: Consumer storing message: 95 (size=2)\n",
      "11:05:40: Producer got message: 41\n",
      "11:05:40: Consumer storing message: 61 (size=2)\n",
      "11:05:40: Producer got message: 52\n",
      "11:05:40: Consumer storing message: 97 (size=2)\n",
      "11:05:40: Producer got message: 95\n",
      "11:05:40: Consumer storing message: 16 (size=2)\n",
      "11:05:40: Producer got message: 35\n",
      "11:05:40: Consumer storing message: 41 (size=2)\n",
      "11:05:40: Producer got message: 88\n",
      "11:05:40: Consumer storing message: 52 (size=2)\n",
      "11:05:40: Producer got message: 26\n",
      "11:05:40: Consumer storing message: 95 (size=2)\n",
      "11:05:40: Producer got message: 38\n",
      "11:05:40: Consumer storing message: 35 (size=2)\n",
      "11:05:40: Producer got message: 35\n",
      "11:05:40: Producer got message: 12\n",
      "11:05:40: Producer got message: 4\n",
      "11:05:40: Producer got message: 32\n",
      "11:05:40: Producer got message: 4\n",
      "11:05:40: Producer got message: 9\n",
      "11:05:40: Producer got message: 59\n",
      "11:05:40: Producer got message: 96\n",
      "11:05:40: Producer got message: 49\n",
      "11:05:40: Consumer storing message: 88 (size=2)\n",
      "11:05:40: Consumer storing message: 26 (size=9)\n",
      "11:05:40: Consumer storing message: 38 (size=8)\n",
      "11:05:40: Producer got message: 63\n",
      "11:05:40: Consumer storing message: 35 (size=8)\n",
      "11:05:40: Producer got message: 61\n",
      "11:05:40: Consumer storing message: 12 (size=8)\n",
      "11:05:40: Producer got message: 15\n",
      "11:05:40: Consumer storing message: 4 (size=8)\n",
      "11:05:40: Producer got message: 16\n",
      "11:05:40: Consumer storing message: 32 (size=8)\n",
      "11:05:40: Producer got message: 25\n",
      "11:05:40: Consumer storing message: 4 (size=8)\n",
      "11:05:40: Producer got message: 80\n",
      "11:05:40: Consumer storing message: 9 (size=8)\n",
      "11:05:40: Producer got message: 16\n",
      "11:05:40: Consumer storing message: 59 (size=8)\n",
      "11:05:40: Producer got message: 61\n",
      "11:05:40: Consumer storing message: 96 (size=8)\n",
      "11:05:40: Producer got message: 81\n",
      "11:05:40: Consumer storing message: 49 (size=8)\n",
      "11:05:40: Producer got message: 4\n",
      "11:05:40: Consumer storing message: 63 (size=8)\n",
      "11:05:40: Producer got message: 8\n",
      "11:05:40: Consumer storing message: 61 (size=8)\n",
      "11:05:40: Producer got message: 80\n",
      "11:05:40: Consumer storing message: 15 (size=8)\n",
      "11:05:40: Producer got message: 94\n",
      "11:05:40: Consumer storing message: 16 (size=8)\n",
      "11:05:40: Producer got message: 73\n",
      "11:05:40: Consumer storing message: 25 (size=8)\n",
      "11:05:40: Producer got message: 16\n",
      "11:05:40: Consumer storing message: 80 (size=8)\n",
      "11:05:40: Producer got message: 35\n",
      "11:05:40: Consumer storing message: 16 (size=8)\n",
      "11:05:40: Producer got message: 20\n",
      "11:05:40: Consumer storing message: 61 (size=8)\n",
      "11:05:40: Producer got message: 72\n",
      "11:05:40: Consumer storing message: 81 (size=8)\n",
      "11:05:40: Producer got message: 6\n",
      "11:05:40: Consumer storing message: 4 (size=8)\n",
      "11:05:40: Producer got message: 11\n",
      "11:05:40: Consumer storing message: 8 (size=8)\n",
      "11:05:40: Producer got message: 67\n",
      "11:05:40: Consumer storing message: 80 (size=8)\n",
      "11:05:40: Producer got message: 73\n",
      "11:05:40: Consumer storing message: 94 (size=8)\n",
      "11:05:40: Producer got message: 72\n",
      "11:05:40: Consumer storing message: 73 (size=8)\n",
      "11:05:40: Producer got message: 38\n",
      "11:05:40: Consumer storing message: 16 (size=8)\n",
      "11:05:40: Producer got message: 28\n",
      "11:05:40: Consumer storing message: 35 (size=8)\n",
      "11:05:40: Producer got message: 80\n",
      "11:05:40: Consumer storing message: 20 (size=8)\n",
      "11:05:40: Producer got message: 85\n",
      "11:05:40: Consumer storing message: 72 (size=8)\n",
      "11:05:40: Producer got message: 85\n",
      "11:05:40: Consumer storing message: 6 (size=8)\n",
      "11:05:40: Producer got message: 80\n",
      "11:05:40: Consumer storing message: 11 (size=8)\n",
      "11:05:40: Producer got message: 101\n",
      "11:05:40: Consumer storing message: 67 (size=8)\n",
      "11:05:40: Producer got message: 9\n",
      "11:05:40: Consumer storing message: 73 (size=8)\n",
      "11:05:40: Producer got message: 44\n",
      "11:05:40: Consumer storing message: 72 (size=8)\n",
      "11:05:40: Producer got message: 57\n",
      "11:05:40: Consumer storing message: 38 (size=8)\n",
      "11:05:40: Producer got message: 19\n",
      "11:05:40: Consumer storing message: 28 (size=8)\n",
      "11:05:40: Producer got message: 13\n",
      "11:05:40: Consumer storing message: 80 (size=8)\n",
      "11:05:40: Producer got message: 51\n",
      "11:05:40: Consumer storing message: 85 (size=8)\n",
      "11:05:40: Producer got message: 4\n",
      "11:05:40: Consumer storing message: 85 (size=8)\n",
      "11:05:40: Producer got message: 40\n",
      "11:05:40: Consumer storing message: 80 (size=8)\n",
      "11:05:40: Producer got message: 93\n",
      "11:05:40: Consumer storing message: 101 (size=8)\n",
      "11:05:40: Producer got message: 56\n",
      "11:05:40: Consumer storing message: 9 (size=8)\n",
      "11:05:40: Producer got message: 10\n",
      "11:05:40: Consumer storing message: 44 (size=8)\n",
      "11:05:40: Producer got message: 89\n",
      "11:05:40: Consumer storing message: 57 (size=8)\n",
      "11:05:40: Producer got message: 72\n",
      "11:05:40: Consumer storing message: 19 (size=8)\n",
      "11:05:40: Producer got message: 45\n",
      "11:05:40: Consumer storing message: 13 (size=8)\n",
      "11:05:40: Producer got message: 15\n",
      "11:05:40: Consumer storing message: 51 (size=8)\n",
      "11:05:40: Producer got message: 60\n",
      "11:05:40: Consumer storing message: 4 (size=8)\n",
      "11:05:40: Producer got message: 36\n",
      "11:05:40: Consumer storing message: 40 (size=8)\n",
      "11:05:40: Producer got message: 16\n",
      "11:05:40: Consumer storing message: 93 (size=8)\n",
      "11:05:40: Producer got message: 16\n",
      "11:05:40: Consumer storing message: 56 (size=8)\n",
      "11:05:40: Producer got message: 57\n",
      "11:05:40: Consumer storing message: 10 (size=8)\n",
      "11:05:40: Producer got message: 30\n",
      "11:05:40: Consumer storing message: 89 (size=8)\n",
      "11:05:40: Producer got message: 28\n",
      "11:05:40: Consumer storing message: 72 (size=8)\n",
      "11:05:40: Producer got message: 17\n",
      "11:05:40: Consumer storing message: 45 (size=8)\n",
      "11:05:40: Producer got message: 12\n",
      "11:05:40: Consumer storing message: 15 (size=8)\n",
      "11:05:40: Producer got message: 13\n",
      "11:05:40: Consumer storing message: 60 (size=8)\n",
      "11:05:40: Producer got message: 53\n",
      "11:05:40: Consumer storing message: 36 (size=8)\n",
      "11:05:40: Producer got message: 29\n",
      "11:05:40: Consumer storing message: 16 (size=8)\n",
      "11:05:40: Producer got message: 53\n",
      "11:05:40: Consumer storing message: 16 (size=8)\n",
      "11:05:40: Producer got message: 13\n",
      "11:05:40: Consumer storing message: 57 (size=8)\n",
      "11:05:40: Producer got message: 8\n",
      "11:05:40: Consumer storing message: 30 (size=8)\n",
      "11:05:40: Producer got message: 58\n",
      "11:05:40: Consumer storing message: 28 (size=8)\n",
      "11:05:40: Producer got message: 88\n",
      "11:05:40: Consumer storing message: 17 (size=8)\n",
      "11:05:40: Producer got message: 24\n",
      "11:05:40: Consumer storing message: 12 (size=8)\n",
      "11:05:40: Producer got message: 91\n",
      "11:05:40: Consumer storing message: 13 (size=8)\n",
      "11:05:40: Producer got message: 2\n",
      "11:05:40: Consumer storing message: 53 (size=8)\n",
      "11:05:40: Producer got message: 69\n",
      "11:05:40: Consumer storing message: 29 (size=8)\n",
      "11:05:40: Producer got message: 42\n",
      "11:05:40: Consumer storing message: 53 (size=8)\n",
      "11:05:40: Producer got message: 74\n",
      "11:05:40: Consumer storing message: 13 (size=8)\n",
      "11:05:40: Producer got message: 17\n",
      "11:05:40: Consumer storing message: 8 (size=8)\n",
      "11:05:40: Producer got message: 64\n",
      "11:05:40: Consumer storing message: 58 (size=8)\n",
      "11:05:40: Producer got message: 35\n",
      "11:05:40: Consumer storing message: 88 (size=8)\n",
      "11:05:40: Producer got message: 71\n",
      "11:05:40: Consumer storing message: 24 (size=8)\n",
      "11:05:40: Producer got message: 41\n",
      "11:05:40: Consumer storing message: 91 (size=8)\n",
      "11:05:40: Producer got message: 85\n",
      "11:05:40: Consumer storing message: 2 (size=8)\n",
      "11:05:40: Producer got message: 56\n",
      "11:05:40: Consumer storing message: 69 (size=8)\n",
      "11:05:40: Producer got message: 59\n",
      "11:05:40: Consumer storing message: 42 (size=8)\n",
      "11:05:40: Producer got message: 83\n",
      "11:05:40: Consumer storing message: 74 (size=8)\n",
      "11:05:40: Producer got message: 84\n",
      "11:05:40: Consumer storing message: 17 (size=8)\n",
      "11:05:40: Producer got message: 25\n",
      "11:05:40: Consumer storing message: 64 (size=8)\n",
      "11:05:40: Producer got message: 14\n",
      "11:05:40: Consumer storing message: 35 (size=8)\n",
      "11:05:40: Producer got message: 18\n",
      "11:05:40: Consumer storing message: 71 (size=8)\n",
      "11:05:40: Producer got message: 23\n",
      "11:05:40: Consumer storing message: 41 (size=8)\n",
      "11:05:40: Producer got message: 82\n",
      "11:05:40: Consumer storing message: 85 (size=8)\n",
      "11:05:40: Producer got message: 70\n",
      "11:05:40: Consumer storing message: 56 (size=8)\n",
      "11:05:40: Producer got message: 37\n",
      "11:05:40: Consumer storing message: 59 (size=8)\n",
      "11:05:40: Producer got message: 101\n",
      "11:05:40: Consumer storing message: 83 (size=8)\n",
      "11:05:40: Producer got message: 37\n",
      "11:05:40: Consumer storing message: 84 (size=8)\n",
      "11:05:40: Producer got message: 94\n",
      "11:05:40: Consumer storing message: 25 (size=8)\n",
      "11:05:40: Producer got message: 88\n",
      "11:05:40: Consumer storing message: 14 (size=8)\n",
      "11:05:40: Producer got message: 49\n",
      "11:05:40: Consumer storing message: 18 (size=8)\n",
      "11:05:40: Producer got message: 34\n",
      "11:05:40: Consumer storing message: 23 (size=8)\n",
      "11:05:40: Producer got message: 54\n",
      "11:05:40: Consumer storing message: 82 (size=8)\n",
      "11:05:40: Producer got message: 8\n",
      "11:05:40: Consumer storing message: 70 (size=8)\n",
      "11:05:40: Producer got message: 101\n",
      "11:05:40: Consumer storing message: 37 (size=8)\n",
      "11:05:40: Producer got message: 66\n",
      "11:05:40: Consumer storing message: 101 (size=8)\n",
      "11:05:40: Producer got message: 96\n",
      "11:05:40: Consumer storing message: 37 (size=8)\n",
      "11:05:40: Producer got message: 26\n",
      "11:05:40: Consumer storing message: 94 (size=8)\n",
      "11:05:40: Producer got message: 49\n",
      "11:05:40: Consumer storing message: 88 (size=8)\n",
      "11:05:40: Producer got message: 52\n",
      "11:05:40: Consumer storing message: 49 (size=8)\n",
      "11:05:40: Producer got message: 36\n",
      "11:05:40: Consumer storing message: 34 (size=8)\n",
      "11:05:40: Producer got message: 48\n",
      "11:05:40: Consumer storing message: 54 (size=8)\n",
      "11:05:40: Producer got message: 40\n",
      "11:05:40: Consumer storing message: 8 (size=8)\n",
      "11:05:40: Producer got message: 13\n",
      "11:05:40: Consumer storing message: 101 (size=8)\n",
      "11:05:40: Producer got message: 27\n",
      "11:05:40: Consumer storing message: 66 (size=8)\n",
      "11:05:40: Producer got message: 32\n",
      "11:05:40: Consumer storing message: 96 (size=8)\n",
      "11:05:40: Producer got message: 23\n",
      "11:05:40: Consumer storing message: 26 (size=8)\n",
      "11:05:40: Producer got message: 63\n",
      "11:05:40: Consumer storing message: 49 (size=8)\n",
      "11:05:40: Producer got message: 51\n",
      "11:05:40: Consumer storing message: 52 (size=8)\n",
      "11:05:40: Producer got message: 88\n",
      "11:05:40: Consumer storing message: 36 (size=8)\n",
      "11:05:40: Producer got message: 4\n",
      "11:05:40: Consumer storing message: 48 (size=8)\n",
      "11:05:40: Producer got message: 4\n",
      "11:05:40: Consumer storing message: 40 (size=8)\n",
      "11:05:40: Producer got message: 41\n",
      "11:05:40: Consumer storing message: 13 (size=8)\n",
      "11:05:40: Producer got message: 8\n",
      "11:05:40: Consumer storing message: 27 (size=8)\n",
      "11:05:40: Producer got message: 58\n",
      "11:05:40: Consumer storing message: 32 (size=8)\n",
      "11:05:40: Producer got message: 58\n",
      "11:05:40: Consumer storing message: 23 (size=8)\n",
      "11:05:40: Producer got message: 47\n",
      "11:05:40: Consumer storing message: 63 (size=8)\n",
      "11:05:40: Producer got message: 29\n",
      "11:05:40: Consumer storing message: 51 (size=8)\n",
      "11:05:40: Producer got message: 73\n",
      "11:05:40: Consumer storing message: 88 (size=8)\n",
      "11:05:40: Producer got message: 64\n",
      "11:05:40: Consumer storing message: 4 (size=8)\n",
      "11:05:40: Producer got message: 45\n",
      "11:05:40: Consumer storing message: 4 (size=8)\n",
      "11:05:40: Producer got message: 53\n",
      "11:05:40: Consumer storing message: 41 (size=8)\n",
      "11:05:40: Producer got message: 10\n",
      "11:05:40: Consumer storing message: 8 (size=8)\n",
      "11:05:40: Producer got message: 71\n",
      "11:05:40: Consumer storing message: 58 (size=8)\n",
      "11:05:40: Producer got message: 23\n",
      "11:05:40: Consumer storing message: 58 (size=8)\n",
      "11:05:40: Producer got message: 16\n",
      "11:05:40: Consumer storing message: 47 (size=8)\n",
      "11:05:40: Producer got message: 69\n",
      "11:05:40: Consumer storing message: 29 (size=8)\n",
      "11:05:40: Producer got message: 93\n",
      "11:05:40: Consumer storing message: 73 (size=8)\n",
      "11:05:40: Producer got message: 70\n",
      "11:05:40: Consumer storing message: 64 (size=8)\n",
      "11:05:40: Producer got message: 72\n",
      "11:05:40: Consumer storing message: 45 (size=8)\n",
      "11:05:40: Producer got message: 91\n",
      "11:05:40: Consumer storing message: 53 (size=8)\n",
      "11:05:40: Producer got message: 71\n",
      "11:05:40: Consumer storing message: 10 (size=8)\n",
      "11:05:40: Producer got message: 37\n",
      "11:05:40: Consumer storing message: 71 (size=8)\n",
      "11:05:40: Producer got message: 97\n",
      "11:05:40: Consumer storing message: 23 (size=8)\n",
      "11:05:40: Producer got message: 28\n",
      "11:05:40: Consumer storing message: 16 (size=8)\n",
      "11:05:40: Producer got message: 18\n",
      "11:05:40: Consumer storing message: 69 (size=8)\n",
      "11:05:40: Producer got message: 6\n",
      "11:05:40: Consumer storing message: 93 (size=8)\n",
      "11:05:40: Producer got message: 62\n",
      "11:05:40: Consumer storing message: 70 (size=8)\n",
      "11:05:40: Producer got message: 54\n",
      "11:05:40: Consumer storing message: 72 (size=8)\n",
      "11:05:40: Producer got message: 94\n",
      "11:05:40: Producer got message: 8\n",
      "11:05:40: Consumer storing message: 91 (size=8)\n",
      "11:05:40: Producer got message: 14\n",
      "11:05:40: Consumer storing message: 71 (size=9)\n",
      "11:05:40: Producer got message: 59\n",
      "11:05:40: Consumer storing message: 37 (size=9)\n",
      "11:05:40: Producer got message: 86\n",
      "11:05:40: Consumer storing message: 97 (size=9)\n",
      "11:05:40: Producer got message: 50\n",
      "11:05:40: Consumer storing message: 28 (size=9)\n",
      "11:05:40: Producer got message: 98\n",
      "11:05:40: Consumer storing message: 18 (size=9)\n",
      "11:05:40: Producer got message: 35\n",
      "11:05:40: Consumer storing message: 6 (size=9)\n",
      "11:05:40: Producer got message: 59\n",
      "11:05:40: Consumer storing message: 62 (size=9)\n",
      "11:05:40: Producer got message: 84\n",
      "11:05:40: Consumer storing message: 54 (size=9)\n",
      "11:05:40: Producer got message: 51\n",
      "11:05:40: Consumer storing message: 94 (size=9)\n",
      "11:05:40: Producer got message: 47\n",
      "11:05:40: Consumer storing message: 8 (size=9)\n",
      "11:05:40: Producer got message: 40\n",
      "11:05:40: Consumer storing message: 14 (size=9)\n",
      "11:05:40: Producer got message: 2\n",
      "11:05:40: Consumer storing message: 59 (size=9)\n",
      "11:05:40: Producer got message: 52\n",
      "11:05:40: Consumer storing message: 86 (size=9)\n",
      "11:05:40: Producer got message: 38\n",
      "11:05:40: Consumer storing message: 50 (size=9)\n",
      "11:05:40: Producer got message: 22\n",
      "11:05:40: Consumer storing message: 98 (size=9)\n",
      "11:05:40: Producer got message: 18\n",
      "11:05:40: Consumer storing message: 35 (size=9)\n",
      "11:05:40: Producer got message: 58\n",
      "11:05:40: Consumer storing message: 59 (size=9)\n",
      "11:05:40: Producer got message: 42\n",
      "11:05:40: Consumer storing message: 84 (size=9)\n",
      "11:05:40: Producer got message: 41\n",
      "11:05:40: Consumer storing message: 51 (size=9)\n",
      "11:05:40: Producer got message: 19\n",
      "11:05:40: Consumer storing message: 47 (size=9)\n",
      "11:05:40: Producer got message: 31\n",
      "11:05:40: Consumer storing message: 40 (size=9)\n",
      "11:05:40: Producer got message: 65\n",
      "11:05:40: Consumer storing message: 2 (size=9)\n",
      "11:05:40: Producer got message: 15\n",
      "11:05:40: Consumer storing message: 52 (size=9)\n",
      "11:05:40: Producer got message: 29\n",
      "11:05:40: Consumer storing message: 38 (size=9)\n",
      "11:05:40: Producer got message: 24\n",
      "11:05:40: Consumer storing message: 22 (size=9)\n",
      "11:05:40: Producer got message: 85\n",
      "11:05:40: Consumer storing message: 18 (size=9)\n",
      "11:05:40: Producer got message: 42\n",
      "11:05:40: Consumer storing message: 58 (size=9)\n",
      "11:05:40: Producer got message: 73\n",
      "11:05:40: Consumer storing message: 42 (size=9)\n",
      "11:05:40: Producer got message: 65\n",
      "11:05:40: Consumer storing message: 41 (size=9)\n",
      "11:05:40: Producer got message: 34\n",
      "11:05:40: Consumer storing message: 19 (size=9)\n",
      "11:05:40: Producer got message: 40\n",
      "11:05:40: Consumer storing message: 31 (size=9)\n",
      "11:05:40: Producer got message: 24\n",
      "11:05:40: Consumer storing message: 65 (size=9)\n",
      "11:05:40: Producer got message: 100\n",
      "11:05:40: Consumer storing message: 15 (size=9)\n",
      "11:05:40: Producer got message: 36\n",
      "11:05:40: Consumer storing message: 29 (size=9)\n",
      "11:05:40: Producer got message: 54\n",
      "11:05:40: Consumer storing message: 24 (size=9)\n",
      "11:05:40: Producer got message: 16\n",
      "11:05:40: Consumer storing message: 85 (size=9)\n",
      "11:05:40: Producer got message: 11\n",
      "11:05:40: Consumer storing message: 42 (size=9)\n",
      "11:05:40: Producer got message: 1\n",
      "11:05:40: Consumer storing message: 73 (size=9)\n",
      "11:05:40: Producer got message: 62\n",
      "11:05:40: Consumer storing message: 65 (size=9)\n",
      "11:05:40: Producer got message: 26\n",
      "11:05:40: Consumer storing message: 34 (size=9)\n",
      "11:05:40: Producer got message: 85\n",
      "11:05:40: Consumer storing message: 40 (size=9)\n",
      "11:05:40: Producer got message: 44\n",
      "11:05:40: Consumer storing message: 24 (size=9)\n",
      "11:05:40: Producer got message: 34\n",
      "11:05:40: Consumer storing message: 100 (size=9)\n",
      "11:05:40: Producer got message: 89\n",
      "11:05:40: Consumer storing message: 36 (size=9)\n",
      "11:05:40: Producer got message: 37\n",
      "11:05:40: Consumer storing message: 54 (size=9)\n",
      "11:05:40: Producer got message: 50\n",
      "11:05:40: Consumer storing message: 16 (size=9)\n",
      "11:05:40: Producer got message: 84\n",
      "11:05:40: Consumer storing message: 11 (size=9)\n",
      "11:05:40: Producer got message: 67\n",
      "11:05:40: Consumer storing message: 1 (size=9)\n",
      "11:05:40: Producer got message: 8\n",
      "11:05:40: Consumer storing message: 62 (size=9)\n",
      "11:05:40: Producer got message: 53\n",
      "11:05:40: Consumer storing message: 26 (size=9)\n",
      "11:05:40: Producer got message: 50\n",
      "11:05:40: Consumer storing message: 85 (size=9)\n",
      "11:05:40: Producer got message: 70\n",
      "11:05:40: Consumer storing message: 44 (size=9)\n",
      "11:05:40: Producer got message: 93\n",
      "11:05:40: Consumer storing message: 34 (size=9)\n",
      "11:05:40: Producer got message: 85\n",
      "11:05:40: Consumer storing message: 89 (size=9)\n",
      "11:05:40: Producer got message: 98\n",
      "11:05:40: Consumer storing message: 37 (size=9)\n",
      "11:05:40: Producer got message: 65\n",
      "11:05:40: Consumer storing message: 50 (size=9)\n",
      "11:05:40: Producer got message: 74\n",
      "11:05:40: Consumer storing message: 84 (size=9)\n",
      "11:05:40: Producer got message: 74\n",
      "11:05:40: Consumer storing message: 67 (size=9)\n",
      "11:05:40: Producer got message: 63\n",
      "11:05:40: Consumer storing message: 8 (size=9)\n",
      "11:05:40: Producer got message: 40\n",
      "11:05:40: Consumer storing message: 53 (size=9)\n",
      "11:05:40: Producer got message: 1\n",
      "11:05:40: Consumer storing message: 50 (size=9)\n",
      "11:05:40: Producer got message: 63\n",
      "11:05:40: Consumer storing message: 70 (size=9)\n",
      "11:05:40: Producer got message: 100\n",
      "11:05:40: Consumer storing message: 93 (size=9)\n",
      "11:05:40: Producer got message: 90\n",
      "11:05:40: Consumer storing message: 85 (size=9)\n",
      "11:05:40: Producer got message: 1\n",
      "11:05:40: Consumer storing message: 98 (size=9)\n",
      "11:05:40: Producer got message: 21\n",
      "11:05:40: Consumer storing message: 65 (size=9)\n",
      "11:05:40: Producer got message: 20\n",
      "11:05:40: Consumer storing message: 74 (size=9)\n",
      "11:05:40: Producer got message: 87\n",
      "11:05:40: Consumer storing message: 74 (size=9)\n",
      "11:05:40: Producer got message: 67\n",
      "11:05:40: Consumer storing message: 63 (size=9)\n",
      "11:05:40: Producer got message: 76\n",
      "11:05:40: Consumer storing message: 40 (size=9)\n",
      "11:05:40: Producer got message: 28\n",
      "11:05:40: Consumer storing message: 1 (size=9)\n",
      "11:05:40: Producer got message: 11\n",
      "11:05:40: Consumer storing message: 63 (size=9)\n",
      "11:05:40: Producer got message: 93\n",
      "11:05:40: Consumer storing message: 100 (size=9)\n",
      "11:05:40: Producer got message: 28\n",
      "11:05:40: Consumer storing message: 90 (size=9)\n",
      "11:05:40: Producer got message: 74\n",
      "11:05:40: Consumer storing message: 1 (size=9)\n",
      "11:05:40: Producer got message: 41\n",
      "11:05:40: Consumer storing message: 21 (size=9)\n",
      "11:05:40: Producer got message: 100\n",
      "11:05:40: Consumer storing message: 20 (size=9)\n",
      "11:05:40: Producer got message: 26\n",
      "11:05:40: Consumer storing message: 87 (size=9)\n",
      "11:05:40: Producer got message: 57\n",
      "11:05:40: Consumer storing message: 67 (size=9)\n",
      "11:05:40: Producer got message: 85\n",
      "11:05:40: Consumer storing message: 76 (size=9)\n",
      "11:05:40: Producer got message: 15\n",
      "11:05:40: Consumer storing message: 28 (size=9)\n",
      "11:05:40: Producer got message: 14\n",
      "11:05:40: Consumer storing message: 11 (size=9)\n",
      "11:05:40: Producer got message: 64\n",
      "11:05:40: Consumer storing message: 93 (size=9)\n",
      "11:05:40: Producer got message: 64\n",
      "11:05:40: Consumer storing message: 28 (size=9)\n",
      "11:05:40: Producer got message: 10\n",
      "11:05:40: Consumer storing message: 74 (size=9)\n",
      "11:05:40: Producer got message: 32\n",
      "11:05:40: Consumer storing message: 41 (size=9)\n",
      "11:05:40: Producer got message: 6\n",
      "11:05:40: Consumer storing message: 100 (size=9)\n",
      "11:05:40: Consumer storing message: 26 (size=9)\n",
      "11:05:40: Consumer storing message: 57 (size=8)\n",
      "11:05:40: Consumer storing message: 85 (size=7)\n",
      "11:05:40: Consumer storing message: 15 (size=6)\n",
      "11:05:40: Consumer storing message: 14 (size=5)\n",
      "11:05:40: Consumer storing message: 64 (size=4)\n",
      "11:05:40: Producer got message: 39\n",
      "11:05:40: Consumer storing message: 64 (size=3)\n",
      "11:05:40: Producer got message: 82\n",
      "11:05:40: Consumer storing message: 10 (size=3)\n",
      "11:05:40: Producer got message: 97\n",
      "11:05:40: Consumer storing message: 32 (size=3)\n",
      "11:05:40: Producer got message: 55\n",
      "11:05:40: Consumer storing message: 6 (size=3)\n",
      "11:05:40: Producer got message: 15\n",
      "11:05:40: Main: about to set event\n",
      "11:05:40: Consumer storing message: 39 (size=3)\n",
      "11:05:40: Producer got message: 83\n",
      "11:05:40: Consumer storing message: 82 (size=3)\n",
      "11:05:40: Producer received event. Exiting\n",
      "11:05:40: Consumer storing message: 97 (size=3)\n",
      "11:05:40: Consumer storing message: 55 (size=2)\n",
      "11:05:40: Consumer storing message: 15 (size=1)\n",
      "11:05:40: Consumer storing message: 83 (size=0)\n",
      "11:05:40: Consumer received event. Exiting\n"
     ]
    }
   ],
   "source": [
    "! python producer_consumer_queue.py"
   ]
  },
  {
   "cell_type": "markdown",
   "metadata": {
    "id": "l4FNIV3cIIl9"
   },
   "source": [
    "Example2:\n",
    "ref: https://towardsdatascience.com/dive-into-queue-module-in-python-its-more-than-fifo-ce86c40944ef"
   ]
  },
  {
   "cell_type": "code",
   "execution_count": null,
   "metadata": {
    "colab": {
     "base_uri": "https://localhost:8080/"
    },
    "executionInfo": {
     "elapsed": 314,
     "status": "ok",
     "timestamp": 1638272398953,
     "user": {
      "displayName": "Chet Sheng",
      "photoUrl": "https://lh3.googleusercontent.com/a-/AOh14Gjy_Dk7Ahwv2lZiGE0sUFyBO_xe7OiTtIJ9Qlezaw=s64",
      "userId": "02447232751254445182"
     },
     "user_tz": 0
    },
    "id": "MqnNk4ZEhYvw",
    "outputId": "c9241282-739c-4736-fd16-bcbde8887dd6"
   },
   "outputs": [
    {
     "name": "stdout",
     "output_type": "stream",
     "text": [
      "Insert element 0\n",
      "Insert element 1\n",
      "Insert element 2\n",
      "Insert element 3\n",
      "Insert element 4\n",
      "Insert sentinel\n",
      "Retrieve element 0\n",
      "Retrieve element 1\n",
      "Retrieve element 2\n",
      "Retrieve element 3\n",
      "Retrieve element 4\n",
      "Receive SENTINEL, the consumer will be closed.\n"
     ]
    }
   ],
   "source": [
    "from threading import Thread\n",
    "import time\n",
    "import queue\n",
    "\n",
    "q = queue.Queue()\n",
    "SENTINEL = \"END\"\n",
    "\n",
    "def producer(queue):\n",
    "    for i in range(5):\n",
    "        # time.sleep(0.01) # Do you think the result will be changed if I uncomment this line? \n",
    "        print(f\"Insert element {i}\")\n",
    "        queue.put(i)\n",
    "    queue.put(SENTINEL)\n",
    "    print(f\"Insert sentinel\")\n",
    "\n",
    "def consumer(queue):\n",
    "    while True:\n",
    "        item = queue.get()\n",
    "        if item != SENTINEL:\n",
    "            print(f\"Retrieve element {item}\")\n",
    "            queue.task_done()\n",
    "        else:\n",
    "            print(\"Receive SENTINEL, the consumer will be closed.\")\n",
    "            queue.task_done()\n",
    "            break\n",
    "\n",
    "threads = [Thread(target=producer, args=(q,)),Thread(target=consumer, args=(q,)),]\n",
    "\n",
    "for thread in threads:\n",
    "    thread.start()\n",
    "\n",
    "q.join()\n"
   ]
  },
  {
   "cell_type": "code",
   "execution_count": null,
   "metadata": {
    "id": "uz3XF0TVpHjS"
   },
   "outputs": [],
   "source": []
  }
 ],
 "metadata": {
  "colab": {
   "collapsed_sections": [],
   "name": "multi-threading",
   "provenance": [
    {
     "file_id": "/v2/external/notebooks/empty.ipynb",
     "timestamp": 1638190027354
    }
   ],
   "toc_visible": true
  },
  "kernelspec": {
   "display_name": "3.11.11",
   "language": "python",
   "name": "python3"
  },
  "language_info": {
   "codemirror_mode": {
    "name": "ipython",
    "version": 3
   },
   "file_extension": ".py",
   "mimetype": "text/x-python",
   "name": "python",
   "nbconvert_exporter": "python",
   "pygments_lexer": "ipython3",
   "version": "3.11.11"
  }
 },
 "nbformat": 4,
 "nbformat_minor": 0
}
