{
 "cells": [
  {
   "cell_type": "markdown",
   "id": "f3d33067",
   "metadata": {},
   "source": [
    "# Basic Corountine Example\n",
    "\n",
    "Jupyter notebook里面已经有一条 `event_loop`, `asyncio.run()`会强制再建一条. 可能会报错"
   ]
  },
  {
   "cell_type": "code",
   "execution_count": 3,
   "id": "7b919839",
   "metadata": {},
   "outputs": [],
   "source": [
    "import asyncio\n",
    "import time"
   ]
  },
  {
   "cell_type": "code",
   "execution_count": 10,
   "id": "8a587d19",
   "metadata": {},
   "outputs": [],
   "source": [
    "async def fetch_data(url: str, delay: float = 1.0) -> str:\n",
    "    \"\"\"\n",
    "    Simulates fetching data from a URL with network delay.\n",
    "    \n",
    "    This is a COROUTINE FUNCTION because it's defined with 'async def'.\n",
    "    When called, it doesn't execute immediately - it returns a coroutine object.\n",
    "    \"\"\"\n",
    "    print(f\"Fetching data from {url}...\")\n",
    "    await asyncio.sleep(delay)  # Simulate network delay\n",
    "\n",
    "    return f\"Data from {url}\"\n",
    "\n",
    "\n",
    "\n",
    "async def process_data(data: str) -> str:\n",
    "    \"\"\"\n",
    "    Simulates processing data with computation delay.\n",
    "    \n",
    "    Another coroutine function that demonstrates chaining async operations.\n",
    "    \"\"\"\n",
    "    print(f\"Processing: {data}\")\n",
    "    \n",
    "    # Another await - this coroutine will pause here\n",
    "    # The event loop can run other tasks during this delay ⭐️\n",
    "    await asyncio.sleep(1)  # Simulate processing time\n",
    "    \n",
    "    # Return the processed result\n",
    "    return f\"Processed: {data}\"\n",
    "\n",
    "\n",
    "async def basic_coroutine_example():\n",
    "    \"\"\"\n",
    "    Example of basic coroutine usage with await.\n",
    "    \n",
    "    This demonstrates the fundamental pattern of async programming:\n",
    "    1. Call async function with await\n",
    "    2. Use the returned result\n",
    "    3. Chain multiple async operations\n",
    "    \"\"\"\n",
    "    \n",
    "    # AWAIT PATTERN 1: Sequential execution\n",
    "    # This line does several things:\n",
    "    # 1. Calls fetch_data() which returns a coroutine object\n",
    "    # 2. 'await' tells the event loop to run that coroutine ⭐️\n",
    "    # 3. This function pauses until fetch_data() completes\n",
    "    # 4. The result is assigned to 'data'\n",
    "    print(\"Step 1: Starting data fetch...\")\n",
    "    data = await fetch_data(\"https://api.example.com\")\n",
    "    print(f\"Step 1 complete: {data}\")\n",
    "    \n",
    "    # AWAIT PATTERN 2: Using the result from previous await\n",
    "    # We can use the result from the previous await as input to the next\n",
    "    print(\"Step 2: Starting data processing...\")\n",
    "    result = await process_data(data)\n",
    "    print(f\"Step 2 complete: {result}\")\n",
    "    \n",
    "    print(f\"Final result: {result}\")\n",
    "    \n",
    "    # RETURN IN ASYNC FUNCTION:\n",
    "    # This return works like any function return\n",
    "    # The caller who awaits this function will get this value\n",
    "    return result"
   ]
  },
  {
   "cell_type": "code",
   "execution_count": 11,
   "id": "490e65a0",
   "metadata": {},
   "outputs": [
    {
     "name": "stdout",
     "output_type": "stream",
     "text": [
      "Step 1: Starting data fetch...\n",
      "Fetching data from https://api.example.com...\n",
      "Step 1 complete: Data from https://api.example.com\n",
      "Step 2: Starting data processing...\n",
      "Processing: Data from https://api.example.com\n",
      "Step 2 complete: Processed: Data from https://api.example.com\n",
      "Final result: Processed: Data from https://api.example.com\n"
     ]
    },
    {
     "data": {
      "text/plain": [
       "'Processed: Data from https://api.example.com'"
      ]
     },
     "execution_count": 11,
     "metadata": {},
     "output_type": "execute_result"
    }
   ],
   "source": [
    "await basic_coroutine_example()"
   ]
  },
  {
   "cell_type": "code",
   "execution_count": 12,
   "id": "52a49cbc",
   "metadata": {},
   "outputs": [
    {
     "ename": "RuntimeError",
     "evalue": "asyncio.run() cannot be called from a running event loop",
     "output_type": "error",
     "traceback": [
      "\u001b[31m---------------------------------------------------------------------------\u001b[39m",
      "\u001b[31mRuntimeError\u001b[39m                              Traceback (most recent call last)",
      "\u001b[36mCell\u001b[39m\u001b[36m \u001b[39m\u001b[32mIn[12]\u001b[39m\u001b[32m, line 1\u001b[39m\n\u001b[32m----> \u001b[39m\u001b[32m1\u001b[39m \u001b[43masyncio\u001b[49m\u001b[43m.\u001b[49m\u001b[43mrun\u001b[49m\u001b[43m(\u001b[49m\u001b[43mbasic_coroutine_example\u001b[49m\u001b[43m(\u001b[49m\u001b[43m)\u001b[49m\u001b[43m)\u001b[49m\n",
      "\u001b[36mFile \u001b[39m\u001b[32m~/.local/share/uv/python/cpython-3.11.11-macos-aarch64-none/lib/python3.11/asyncio/runners.py:186\u001b[39m, in \u001b[36mrun\u001b[39m\u001b[34m(main, debug)\u001b[39m\n\u001b[32m    161\u001b[39m \u001b[38;5;250m\u001b[39m\u001b[33;03m\"\"\"Execute the coroutine and return the result.\u001b[39;00m\n\u001b[32m    162\u001b[39m \n\u001b[32m    163\u001b[39m \u001b[33;03mThis function runs the passed coroutine, taking care of\u001b[39;00m\n\u001b[32m   (...)\u001b[39m\u001b[32m    182\u001b[39m \u001b[33;03m    asyncio.run(main())\u001b[39;00m\n\u001b[32m    183\u001b[39m \u001b[33;03m\"\"\"\u001b[39;00m\n\u001b[32m    184\u001b[39m \u001b[38;5;28;01mif\u001b[39;00m events._get_running_loop() \u001b[38;5;129;01mis\u001b[39;00m \u001b[38;5;129;01mnot\u001b[39;00m \u001b[38;5;28;01mNone\u001b[39;00m:\n\u001b[32m    185\u001b[39m     \u001b[38;5;66;03m# fail fast with short traceback\u001b[39;00m\n\u001b[32m--> \u001b[39m\u001b[32m186\u001b[39m     \u001b[38;5;28;01mraise\u001b[39;00m \u001b[38;5;167;01mRuntimeError\u001b[39;00m(\n\u001b[32m    187\u001b[39m         \u001b[33m\"\u001b[39m\u001b[33masyncio.run() cannot be called from a running event loop\u001b[39m\u001b[33m\"\u001b[39m)\n\u001b[32m    189\u001b[39m \u001b[38;5;28;01mwith\u001b[39;00m Runner(debug=debug) \u001b[38;5;28;01mas\u001b[39;00m runner:\n\u001b[32m    190\u001b[39m     \u001b[38;5;28;01mreturn\u001b[39;00m runner.run(main)\n",
      "\u001b[31mRuntimeError\u001b[39m: asyncio.run() cannot be called from a running event loop"
     ]
    }
   ],
   "source": [
    "# 下面只能在non-interactive environments执行\n",
    "# If you want to run this in a script, you need to use asyncio.run()\n",
    "asyncio.run(basic_coroutine_example())"
   ]
  },
  {
   "cell_type": "code",
   "execution_count": 20,
   "id": "2c57d5ac",
   "metadata": {},
   "outputs": [],
   "source": [
    "# DEMONSTRATION OF WHAT HAPPENS WITHOUT AWAIT:\n",
    "async def demonstrate_without_await():\n",
    "    \"\"\"Shows what happens when you forget to use await.\"\"\"\n",
    "    \n",
    "    print(\"\\n--- Demonstrating the importance of await ---\")\n",
    "    \n",
    "    # WITHOUT AWAIT - This is usually a mistake!\n",
    "    # This gets a coroutine object, not the actual result\n",
    "    coroutine_obj = fetch_data(\"https://example.com\")\n",
    "    print(f\"Without await: {coroutine_obj}\")\n",
    "    print(f\"Type: {type(coroutine_obj)}\")\n",
    "    \n",
    "    # You need to clean up unused coroutines to avoid warnings\n",
    "    # coroutine_obj.close()\n",
    "    \n",
    "    # WITH AWAIT - This gets the actual result\n",
    "    actual_result = await fetch_data(\"https://example.com\")\n",
    "    print(f\"With await: {actual_result}\")\n",
    "    print(f\"Type: {type(actual_result)}\")"
   ]
  },
  {
   "cell_type": "code",
   "execution_count": 21,
   "id": "e74b627f",
   "metadata": {},
   "outputs": [
    {
     "name": "stdout",
     "output_type": "stream",
     "text": [
      "\n",
      "--- Demonstrating the importance of await ---\n",
      "Without await: <coroutine object fetch_data at 0x107037680>\n",
      "Type: <class 'coroutine'>\n",
      "Fetching data from https://example.com...\n",
      "With await: Data from https://example.com\n",
      "Type: <class 'str'>\n"
     ]
    },
    {
     "name": "stderr",
     "output_type": "stream",
     "text": [
      "/var/folders/d0/dmh_9hp96hbdlrk_t5jh65mw0000gp/T/ipykernel_28084/4146570258.py:1: RuntimeWarning: coroutine 'fetch_data' was never awaited\n",
      "  await demonstrate_without_await()\n",
      "RuntimeWarning: Enable tracemalloc to get the object allocation traceback\n"
     ]
    }
   ],
   "source": [
    "await demonstrate_without_await()"
   ]
  },
  {
   "cell_type": "code",
   "execution_count": 23,
   "id": "a0bfa922",
   "metadata": {},
   "outputs": [
    {
     "name": "stdout",
     "output_type": "stream",
     "text": [
      "\n",
      "--- Event Loop Demonstration ---\n",
      "This coroutine will pause multiple times...\n",
      "Before first await\n",
      "After first await\n",
      "Before second await\n",
      "After second await\n",
      "Coroutine complete!\n"
     ]
    },
    {
     "data": {
      "text/plain": [
       "'Event loop demo finished'"
      ]
     },
     "execution_count": 23,
     "metadata": {},
     "output_type": "execute_result"
    }
   ],
   "source": [
    "# NOTE: EXPLANATION OF THE EVENT LOOP'S ROLE: ⭐️\n",
    "async def explain_event_loop():\n",
    "    \"\"\"\n",
    "    Demonstrates how the event loop enables concurrency.\n",
    "    \n",
    "    The event loop is the heart of async programming:\n",
    "    - It runs one coroutine at a time\n",
    "    - When a coroutine hits 'await', it pauses and the loop runs another\n",
    "    - This creates the illusion of multiple things happening at once\n",
    "    \"\"\"\n",
    "    \n",
    "    print(\"\\n--- Event Loop Demonstration ---\")\n",
    "    print(\"This coroutine will pause multiple times...\")\n",
    "    \n",
    "    print(\"Before first await\")\n",
    "    await asyncio.sleep(0.1)  # Pause here - event loop can run other code\n",
    "    print(\"After first await\")\n",
    "    \n",
    "    print(\"Before second await\") \n",
    "    await asyncio.sleep(0.1)  # Pause here again\n",
    "    print(\"After second await\")\n",
    "    \n",
    "    print(\"Coroutine complete!\")\n",
    "    \n",
    "    return \"Event loop demo finished\"\n",
    "\n",
    "await explain_event_loop()"
   ]
  },
  {
   "cell_type": "code",
   "execution_count": null,
   "id": "cce93935",
   "metadata": {},
   "outputs": [],
   "source": []
  },
  {
   "cell_type": "code",
   "execution_count": null,
   "id": "8b9d918c",
   "metadata": {},
   "outputs": [],
   "source": []
  },
  {
   "cell_type": "code",
   "execution_count": 26,
   "id": "a1510d58",
   "metadata": {},
   "outputs": [],
   "source": [
    "def get_loop() -> asyncio.AbstractEventLoop:\n",
    "    try:\n",
    "        loop = asyncio.get_running_loop()\n",
    "    except RuntimeError:\n",
    "        loop = asyncio.new_event_loop()\n",
    "        asyncio.set_event_loop(loop)\n",
    "    return loop"
   ]
  },
  {
   "cell_type": "code",
   "execution_count": 38,
   "id": "ef6a0595",
   "metadata": {},
   "outputs": [
    {
     "name": "stdout",
     "output_type": "stream",
     "text": [
      "Testing RAG class solutions...\n",
      "\n",
      "=== Testing SOLUTION 3 (Thread-based approach) ===\n",
      "✅ Success: Async search result for 'example query'\n",
      "\n",
      "=== Testing direct async call (RECOMMENDED for Jupyter) ===\n",
      "Use: await rag.async_similarity_search('query') - see next cells\n",
      "✅ Success: Async search result for 'example query'\n",
      "\n",
      "=== Testing direct async call (RECOMMENDED for Jupyter) ===\n",
      "Use: await rag.async_similarity_search('query') - see next cells\n"
     ]
    }
   ],
   "source": [
    "# Class with sync and async methods - MULTIPLE SOLUTIONS FOR JUPYTER\n",
    "\n",
    "class RAG:\n",
    "    \"\"\"Sync method is based on async method.\"\"\"\n",
    "\n",
    "    def similarity_search(self, query: str) -> str:\n",
    "        \"\"\"\n",
    "        Synchronous method that calls the async method.\n",
    "        \n",
    "        SOLUTION 1: Use asyncio.create_task() in Jupyter/IPython\n",
    "        This works because Jupyter already has a running event loop.\n",
    "        \"\"\"\n",
    "        import asyncio\n",
    "        \n",
    "        # Check if we're in an interactive environment (Jupyter/IPython)\n",
    "        try:\n",
    "            # If there's already a running loop, use create_task\n",
    "            loop = asyncio.get_running_loop()\n",
    "            \n",
    "            # Create a task and get the result using a nested approach\n",
    "            # This is a common pattern for Jupyter environments\n",
    "            import nest_asyncio\n",
    "            nest_asyncio.apply()  # This allows nested event loops\n",
    "            \n",
    "            # Now we can use run_until_complete\n",
    "            return loop.run_until_complete(self.async_similarity_search(query))\n",
    "            \n",
    "        except RuntimeError:\n",
    "            # No running loop, we can create our own\n",
    "            return asyncio.run(self.async_similarity_search(query))\n",
    "    \n",
    "    def similarity_search_v2(self, query: str) -> str:\n",
    "        \"\"\"\n",
    "        SOLUTION 2: Better approach using asyncio.create_task() and asyncio.gather()\n",
    "        This is more Jupyter-friendly without requiring nest_asyncio\n",
    "        \"\"\"\n",
    "        import asyncio\n",
    "        \n",
    "        try:\n",
    "            # If there's a running loop, we need a different approach\n",
    "            loop = asyncio.get_running_loop()\n",
    "            \n",
    "            # We can't use run_until_complete on a running loop\n",
    "            # Instead, we'll need to use a different pattern\n",
    "            \n",
    "            # For now, let's raise a helpful error with instructions\n",
    "            raise RuntimeError(\n",
    "                \"Cannot run sync method from async context. \"\n",
    "                \"Use 'await rag.async_similarity_search(query)' instead, \"\n",
    "                \"or use the async_to_sync_jupyter() helper method.\"\n",
    "            )\n",
    "            \n",
    "        except RuntimeError as e:\n",
    "            if \"already running\" in str(e) or \"Cannot run\" in str(e):\n",
    "                raise e\n",
    "            # No running loop, safe to use asyncio.run\n",
    "            return asyncio.run(self.async_similarity_search(query))\n",
    "    \n",
    "    async def async_similarity_search(self, query: str) -> str:\n",
    "        \"\"\"\n",
    "        Async method that performs a similarity search.\n",
    "        \n",
    "        This method can be awaited, allowing it to run concurrently with other tasks.\n",
    "        \"\"\"\n",
    "        # Simulate an async operation\n",
    "        await asyncio.sleep(1)\n",
    "        return f\"Async search result for '{query}'\"\n",
    "    \n",
    "    def async_to_sync_jupyter(self, query: str) -> str:\n",
    "        \"\"\"\n",
    "        SOLUTION 3: Helper method specifically for Jupyter environments\n",
    "        This uses a thread-based approach to avoid event loop conflicts.\n",
    "        \"\"\"\n",
    "        import asyncio\n",
    "        import concurrent.futures\n",
    "        import threading\n",
    "        \n",
    "        def run_in_thread():\n",
    "            # Create a new event loop in a separate thread\n",
    "            new_loop = asyncio.new_event_loop()\n",
    "            asyncio.set_event_loop(new_loop)\n",
    "            try:\n",
    "                return new_loop.run_until_complete(self.async_similarity_search(query))\n",
    "            finally:\n",
    "                new_loop.close()\n",
    "        \n",
    "        # Run the async function in a separate thread\n",
    "        with concurrent.futures.ThreadPoolExecutor() as executor:\n",
    "            future = executor.submit(run_in_thread)\n",
    "            return future.result()\n",
    "\n",
    "# Let's test the working solutions\n",
    "print(\"Testing RAG class solutions...\")\n",
    "rag = RAG()\n",
    "\n",
    "print(\"\\n=== Testing SOLUTION 3 (Thread-based approach) ===\")\n",
    "try:\n",
    "    result = rag.async_to_sync_jupyter(\"example query\")\n",
    "    print(f\"✅ Success: {result}\")\n",
    "except Exception as e:\n",
    "    print(f\"❌ Error: {e}\")\n",
    "\n",
    "print(\"\\n=== Testing direct async call (RECOMMENDED for Jupyter) ===\")\n",
    "print(\"Use: await rag.async_similarity_search('query') - see next cells\")"
   ]
  },
  {
   "cell_type": "code",
   "execution_count": 39,
   "id": "fc8bdcf3",
   "metadata": {},
   "outputs": [
    {
     "name": "stdout",
     "output_type": "stream",
     "text": [
      "=== BEST PRACTICE: Use async methods directly in Jupyter ===\n",
      "✅ Direct async call result: Async search result for 'example query'\n",
      "\n",
      "=== You can also use asyncio.gather for multiple concurrent calls ===\n",
      "✅ Direct async call result: Async search result for 'example query'\n",
      "\n",
      "=== You can also use asyncio.gather for multiple concurrent calls ===\n",
      "✅ Concurrent results: [\"Async search result for 'query 1'\", \"Async search result for 'query 2'\", \"Async search result for 'query 3'\"]\n",
      "✅ Concurrent results: [\"Async search result for 'query 1'\", \"Async search result for 'query 2'\", \"Async search result for 'query 3'\"]\n"
     ]
    }
   ],
   "source": [
    "# RECOMMENDED APPROACH FOR JUPYTER: Use async methods directly\n",
    "\n",
    "print(\"=== BEST PRACTICE: Use async methods directly in Jupyter ===\")\n",
    "\n",
    "# This is the cleanest and most efficient approach in Jupyter/IPython\n",
    "result = await rag.async_similarity_search(\"example query\")\n",
    "print(f\"✅ Direct async call result: {result}\")\n",
    "\n",
    "print(\"\\n=== You can also use asyncio.gather for multiple concurrent calls ===\")\n",
    "results = await asyncio.gather(\n",
    "    rag.async_similarity_search(\"query 1\"),\n",
    "    rag.async_similarity_search(\"query 2\"),\n",
    "    rag.async_similarity_search(\"query 3\")\n",
    ")\n",
    "print(f\"✅ Concurrent results: {results}\")"
   ]
  },
  {
   "cell_type": "code",
   "execution_count": 40,
   "id": "b1802de0",
   "metadata": {},
   "outputs": [
    {
     "name": "stdout",
     "output_type": "stream",
     "text": [
      "=== Testing SOLUTION 1 (nest_asyncio approach) ===\n",
      "✅ nest_asyncio result: Async search result for 'example query with nest_asyncio'\n",
      "✅ nest_asyncio result: Async search result for 'example query with nest_asyncio'\n"
     ]
    }
   ],
   "source": [
    "# SOLUTION 1: Using nest_asyncio (requires installation)\n",
    "# Uncomment the following line to install nest_asyncio if needed\n",
    "# !pip install nest_asyncio\n",
    "\n",
    "try:\n",
    "    import nest_asyncio\n",
    "    nest_asyncio.apply()\n",
    "    \n",
    "    print(\"=== Testing SOLUTION 1 (nest_asyncio approach) ===\")\n",
    "    \n",
    "    # Now the original similarity_search should work\n",
    "    result = rag.similarity_search(\"example query with nest_asyncio\")\n",
    "    print(f\"✅ nest_asyncio result: {result}\")\n",
    "    \n",
    "except ImportError:\n",
    "    print(\"❌ nest_asyncio not installed. Install with: pip install nest_asyncio\")\n",
    "    print(\"📝 Note: nest_asyncio allows nested event loops in Jupyter\")\n",
    "except Exception as e:\n",
    "    print(f\"❌ Error with nest_asyncio approach: {e}\")"
   ]
  },
  {
   "cell_type": "markdown",
   "id": "75816a38",
   "metadata": {},
   "source": [
    "## Summary: Running Async Code in Jupyter/IPython\n",
    "\n",
    "### ✅ **RECOMMENDED APPROACHES:**\n",
    "\n",
    "1. **Direct async/await (BEST)**: Use `await rag.async_similarity_search(query)` directly in Jupyter cells\n",
    "   - ✅ Clean and efficient\n",
    "   - ✅ Natural async programming\n",
    "   - ✅ Works out of the box\n",
    "\n",
    "2. **nest_asyncio**: Install `nest_asyncio` and call `nest_asyncio.apply()`\n",
    "   - ✅ Allows sync methods to work\n",
    "   - ⚠️ Requires additional dependency\n",
    "   - ⚠️ Can mask async design issues\n",
    "\n",
    "3. **Thread-based approach**: Use `async_to_sync_jupyter()` method\n",
    "   - ✅ No additional dependencies\n",
    "   - ⚠️ More complex and less efficient\n",
    "   - ⚠️ Loses concurrency benefits\n",
    "\n",
    "### ❌ **WHAT DOESN'T WORK IN JUPYTER:**\n",
    "- `asyncio.run()` - Creates new event loop (conflicts with Jupyter's loop)\n",
    "- `loop.run_until_complete()` on running loop - Cannot run on already running loop\n",
    "\n",
    "### 🎯 **WHY THIS HAPPENS:**\n",
    "Jupyter/IPython runs its own event loop, so:\n",
    "- `asyncio.get_running_loop()` returns Jupyter's loop\n",
    "- `loop.run_until_complete()` fails because the loop is already running\n",
    "- Direct `await` works because it uses the existing loop\n",
    "\n",
    "### 💡 **DESIGN RECOMMENDATION:**\n",
    "In modern async Python applications:\n",
    "- Prefer async methods as the primary interface\n",
    "- Provide sync wrappers only when necessary for compatibility\n",
    "- In Jupyter, embrace the async nature and use `await` directly"
   ]
  }
 ],
 "metadata": {
  "kernelspec": {
   "display_name": ".venv",
   "language": "python",
   "name": "python3"
  },
  "language_info": {
   "codemirror_mode": {
    "name": "ipython",
    "version": 3
   },
   "file_extension": ".py",
   "mimetype": "text/x-python",
   "name": "python",
   "nbconvert_exporter": "python",
   "pygments_lexer": "ipython3",
   "version": "3.11.11"
  }
 },
 "nbformat": 4,
 "nbformat_minor": 5
}
