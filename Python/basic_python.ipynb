{
 "cells": [
  {
   "cell_type": "code",
   "execution_count": null,
   "metadata": {
    "colab": {
     "base_uri": "https://localhost:8080/"
    },
    "executionInfo": {
     "elapsed": 223,
     "status": "ok",
     "timestamp": 1636655239018,
     "user": {
      "displayName": "Chet Sheng",
      "photoUrl": "https://lh3.googleusercontent.com/a-/AOh14Gjy_Dk7Ahwv2lZiGE0sUFyBO_xe7OiTtIJ9Qlezaw=s64",
      "userId": "02447232751254445182"
     },
     "user_tz": 0
    },
    "id": "Qf1TZKMaQQGm",
    "outputId": "cbcb2de8-5a2f-4cd1-c6b3-729f2e5a3707"
   },
   "outputs": [
    {
     "name": "stdout",
     "output_type": "stream",
     "text": [
      "Drive already mounted at /content/drive; to attempt to forcibly remount, call drive.mount(\"/content/drive\", force_remount=True).\n"
     ]
    }
   ],
   "source": [
    "from google.colab import drive\n",
    "drive.mount('/content/drive')"
   ]
  },
  {
   "cell_type": "code",
   "execution_count": null,
   "metadata": {
    "id": "s5XD8SRCQRhI"
   },
   "outputs": [],
   "source": [
    "# cd /content/drive/MyDrive/"
   ]
  },
  {
   "cell_type": "markdown",
   "metadata": {
    "id": "fbS3rOL3HbIW"
   },
   "source": [
    "# Links to other Notebooks\n",
    "- [Python Data Structure](https://colab.research.google.com/drive/1NII-_1t4H1gD-dI7CavJa-7VltibUyLp#scrollTo=zgIIuZ-97fLW)\n",
    "\n",
    "- [Collections Module](https://colab.research.google.com/drive/1F48ctQ05BFDvyj_pq9hqDz0wtK7TnULE#scrollTo=YRVFgtw0drhp)"
   ]
  },
  {
   "cell_type": "markdown",
   "metadata": {
    "id": "NrgR0Vta_fW8"
   },
   "source": [
    "# Shape in Python"
   ]
  },
  {
   "cell_type": "code",
   "execution_count": null,
   "metadata": {
    "id": "D5VLpfIO_fW9"
   },
   "outputs": [],
   "source": [
    "import numpy as np"
   ]
  },
  {
   "cell_type": "code",
   "execution_count": null,
   "metadata": {
    "id": "Hnq6EgUw_fXB",
    "outputId": "6e9fcab6-6362-49dd-d2b4-4e6073edcf63",
    "pycharm": {
     "is_executing": false
    }
   },
   "outputs": [
    {
     "name": "stdout",
     "output_type": "stream",
     "text": [
      "matrix:\n",
      " [[1.]\n",
      " [1.]\n",
      " [1.]]\n",
      "\n",
      "注意下, 括号的层次和matrix shape的关系.\n",
      "\n",
      "shape of matrix: (3, 1)\n"
     ]
    }
   ],
   "source": [
    "matrix = np.ones([3,1])\n",
    "\n",
    "print('matrix:\\n',matrix)\n",
    "print('\\n注意下, 括号的层次和matrix shape的关系.')\n",
    "print('\\nshape of matrix:', np.shape(matrix))"
   ]
  },
  {
   "cell_type": "code",
   "execution_count": null,
   "metadata": {
    "id": "4UAmJ-YI_fXF",
    "outputId": "86611835-a190-4ff3-ed30-29375f668a01"
   },
   "outputs": [
    {
     "name": "stdout",
     "output_type": "stream",
     "text": [
      "matrix:\n",
      " [[[1.]]\n",
      "\n",
      " [[1.]]\n",
      "\n",
      " [[1.]]]\n",
      "\n",
      "注意下, 括号的层次和matrix shape的关系.\n",
      "\n",
      "shape of matrix: (3, 1, 1)\n"
     ]
    }
   ],
   "source": [
    "matrix = np.ones([3,1,1])\n",
    "print('matrix:\\n',matrix)\n",
    "print('\\n注意下, 括号的层次和matrix shape的关系.')\n",
    "print('\\nshape of matrix:', np.shape(matrix))"
   ]
  },
  {
   "cell_type": "markdown",
   "metadata": {
    "id": "lOP_pLkO_fXH",
    "toc-hr-collapsed": true
   },
   "source": [
    "# List\n",
    "- A list allows you to create a list of values and manipulate them\n",
    "- Each value has an index with the first one starting at 0"
   ]
  },
  {
   "cell_type": "code",
   "execution_count": null,
   "metadata": {
    "id": "xXhqmMXi_fXI",
    "outputId": "f8079acd-d560-423c-954e-3faf38cb59bb"
   },
   "outputs": [
    {
     "name": "stdout",
     "output_type": "stream",
     "text": [
      "The first item is Tomatoes\n",
      "['Green Juice', 'Tomatoes', 'Potatoes', 'Bananas']\n"
     ]
    }
   ],
   "source": [
    "# LISTS -----------------------------------------------------------\n",
    "\n",
    "grocery_list = ['Juice', 'Tomatoes', 'Potatoes', 'Bananas']\n",
    "print('The first item is', grocery_list[1])\n",
    "\n",
    "# You can change the value stored in a list box\n",
    "grocery_list[0] = \"Green Juice\"\n",
    "print(grocery_list)"
   ]
  },
  {
   "cell_type": "code",
   "execution_count": null,
   "metadata": {
    "id": "T1QbIgCw_fXL",
    "outputId": "02f237ca-8884-4c07-ff3c-273b32df0581"
   },
   "outputs": [
    {
     "name": "stdout",
     "output_type": "stream",
     "text": [
      "['Tomatoes', 'Potatoes']\n",
      "[['Wash Car', 'Pick up Kids', 'Cash Check'], ['Green Juice', 'Tomatoes', 'Potatoes', 'Bananas']]\n",
      "Tomatoes\n",
      "[['Wash Car', 'Pick up Kids', 'Cash Check'], ['Green Juice', 'Tomatoes', 'Potatoes', 'Bananas', 'onions']]\n",
      "[['Wash Car', 'Pick up Kids', 'Cash Check'], ['onions', 'Tomatoes', 'Potatoes', 'Green Juice']]\n",
      "['Wash Car', 'Pick up Kids', 'Cash Check', 'onions', 'Tomatoes', 'Potatoes', 'Green Juice']\n",
      "7\n",
      "onions\n",
      "Cash Check\n"
     ]
    }
   ],
   "source": [
    "# You can get a subset of the list with [min:up to but not including max]\n",
    "\n",
    "print(grocery_list[1:3])\n",
    "\n",
    "# You can put any data type in a a list including a list\n",
    "other_events = ['Wash Car', 'Pick up Kids', 'Cash Check']\n",
    "to_do_list = [other_events, grocery_list]\n",
    "\n",
    "print(to_do_list)\n",
    "\n",
    "# Get the second item in the second list (Boxes inside of boxes)\n",
    "print(to_do_list[1][1])\n",
    "\n",
    "# You add values using append\n",
    "grocery_list.append('onions')\n",
    "print(to_do_list)\n",
    "\n",
    "# Insert item at given index\n",
    "grocery_list.insert(1, \"Pickle\")\n",
    "\n",
    "# Remove item from list\n",
    "grocery_list.remove(\"Pickle\")\n",
    "\n",
    "# Sorts items in list\n",
    "grocery_list.sort()\n",
    "\n",
    "# Reverse sort items in list\n",
    "grocery_list.reverse()\n",
    "\n",
    "# del deletes an item at specified index\n",
    "del grocery_list[4]\n",
    "print(to_do_list)\n",
    "\n",
    "# We can combine lists with a +\n",
    "to_do_list = other_events + grocery_list\n",
    "print(to_do_list)\n",
    "\n",
    "# Get length of list\n",
    "print(len(to_do_list))\n",
    "\n",
    "# Get the max item in list\n",
    "print(max(to_do_list))\n",
    "\n",
    "# Get the minimum item in list\n",
    "print(min(to_do_list))"
   ]
  },
  {
   "cell_type": "markdown",
   "metadata": {
    "id": "-vGrjfmRt0c-"
   },
   "source": [
    "## List Slicing\n",
    "```slice(start:stop[:step])```\n",
    "- `start` (inclusive): default to 0\n",
    "- `stop` (exclusive): if missing, then slicing to the end\n",
    "- `step`:  default to 1"
   ]
  },
  {
   "cell_type": "code",
   "execution_count": null,
   "metadata": {
    "colab": {
     "base_uri": "https://localhost:8080/"
    },
    "executionInfo": {
     "elapsed": 1434,
     "status": "ok",
     "timestamp": 1615741570500,
     "user": {
      "displayName": "Chet Sheng",
      "photoUrl": "https://lh3.googleusercontent.com/a-/AOh14Gjy_Dk7Ahwv2lZiGE0sUFyBO_xe7OiTtIJ9Qlezaw=s64",
      "userId": "02447232751254445182"
     },
     "user_tz": 0
    },
    "id": "pEOwtxr5qV_S",
    "outputId": "c8150b36-93ba-451e-f944-39f780b2498a"
   },
   "outputs": [
    {
     "name": "stdout",
     "output_type": "stream",
     "text": [
      "[0, 1, 2, 3, 4]\n",
      "[2, 3, 4, 5, 6, 7, 8]\n",
      "[2, 3, 4]\n",
      "[2, 4, 6]\n"
     ]
    }
   ],
   "source": [
    "a = [0, 1, 2, 3, 4, 5, 6, 7, 8]\n",
    "print(a[:5])    # prints [0, 1, 2, 3, 4]\n",
    "print(a[2:])    # prints [2, 3, 4, 5, 6, 7, 8]\n",
    "print(a[2:5])    # prints [2, 3, 4]\n",
    "print(a[2:7:2])    # prints [2, 4, 6]"
   ]
  },
  {
   "cell_type": "code",
   "execution_count": null,
   "metadata": {
    "colab": {
     "base_uri": "https://localhost:8080/"
    },
    "executionInfo": {
     "elapsed": 1183,
     "status": "ok",
     "timestamp": 1615741570502,
     "user": {
      "displayName": "Chet Sheng",
      "photoUrl": "https://lh3.googleusercontent.com/a-/AOh14Gjy_Dk7Ahwv2lZiGE0sUFyBO_xe7OiTtIJ9Qlezaw=s64",
      "userId": "02447232751254445182"
     },
     "user_tz": 0
    },
    "id": "vgMalGd7uN0V",
    "outputId": "0bb7d211-80dc-4346-b307-42de3d69683f"
   },
   "outputs": [
    {
     "name": "stdout",
     "output_type": "stream",
     "text": [
      "6\n",
      "[3, 4, 5]\n"
     ]
    }
   ],
   "source": [
    "a = [1, 2, 3, 4, 5, 6]\n",
    "print(a[-1])    # prints 6\n",
    "print(a[2:-1])    # prints [3, 4, 5]"
   ]
  },
  {
   "cell_type": "code",
   "execution_count": null,
   "metadata": {
    "colab": {
     "base_uri": "https://localhost:8080/"
    },
    "executionInfo": {
     "elapsed": 1054,
     "status": "ok",
     "timestamp": 1615741577526,
     "user": {
      "displayName": "Chet Sheng",
      "photoUrl": "https://lh3.googleusercontent.com/a-/AOh14Gjy_Dk7Ahwv2lZiGE0sUFyBO_xe7OiTtIJ9Qlezaw=s64",
      "userId": "02447232751254445182"
     },
     "user_tz": 0
    },
    "id": "wrB9KGcRwZ7s",
    "outputId": "bb23df95-1de2-459b-9374-1e4717ca7482"
   },
   "outputs": [
    {
     "name": "stdout",
     "output_type": "stream",
     "text": [
      "[1, 3, 5]\n",
      "[2, 4, 6]\n",
      "[6, 5, 4, 3, 2, 1]\n",
      "[]\n"
     ]
    }
   ],
   "source": [
    "print(a[::2])  # prints [1, 3, 5]\n",
    "print(a[1::2]) # prints [2, 4, 6]\n",
    "print(a[::-1]) # prints [6, 5, 4, 3, 2, 1]\n",
    "print(a[100:]) # this won't give you error"
   ]
  },
  {
   "cell_type": "code",
   "execution_count": null,
   "metadata": {
    "colab": {
     "base_uri": "https://localhost:8080/",
     "height": 164
    },
    "executionInfo": {
     "elapsed": 857,
     "status": "error",
     "timestamp": 1615741579979,
     "user": {
      "displayName": "Chet Sheng",
      "photoUrl": "https://lh3.googleusercontent.com/a-/AOh14Gjy_Dk7Ahwv2lZiGE0sUFyBO_xe7OiTtIJ9Qlezaw=s64",
      "userId": "02447232751254445182"
     },
     "user_tz": 0
    },
    "id": "l-t0no1rs-ak",
    "outputId": "2c5ad5e3-09ff-49d8-8ab2-c1298033b535"
   },
   "outputs": [
    {
     "ename": "IndexError",
     "evalue": "ignored",
     "output_type": "error",
     "traceback": [
      "\u001b[0;31m---------------------------------------------------------------------------\u001b[0m",
      "\u001b[0;31mIndexError\u001b[0m                                Traceback (most recent call last)",
      "\u001b[0;32m<ipython-input-6-cd7724b6c85f>\u001b[0m in \u001b[0;36m<module>\u001b[0;34m()\u001b[0m\n\u001b[0;32m----> 1\u001b[0;31m \u001b[0ma\u001b[0m\u001b[0;34m[\u001b[0m\u001b[0;36m100\u001b[0m\u001b[0;34m]\u001b[0m\u001b[0;34m\u001b[0m\u001b[0;34m\u001b[0m\u001b[0m\n\u001b[0m",
      "\u001b[0;31mIndexError\u001b[0m: list index out of range"
     ]
    }
   ],
   "source": [
    "a[100]  # IndexError: list index out of range"
   ]
  },
  {
   "cell_type": "markdown",
   "metadata": {
    "id": "IEyCxiEP_fXN"
   },
   "source": [
    "## List Conprehension"
   ]
  },
  {
   "cell_type": "code",
   "execution_count": null,
   "metadata": {
    "id": "t9CfJS4k_fXO"
   },
   "outputs": [],
   "source": [
    "import numpy as np"
   ]
  },
  {
   "cell_type": "code",
   "execution_count": null,
   "metadata": {
    "id": "KWoeJVJc_fXQ",
    "outputId": "a13b46b5-2e51-4a9b-ad49-602218685704"
   },
   "outputs": [
    {
     "data": {
      "text/plain": [
       "[[0, 1, 2], [1, 3, 5]]"
      ]
     },
     "execution_count": 7,
     "metadata": {
      "tags": []
     },
     "output_type": "execute_result"
    }
   ],
   "source": [
    "tmp = [list(range(3)), list(np.array(range(3))*2+1)]\n",
    "tmp"
   ]
  },
  {
   "cell_type": "code",
   "execution_count": null,
   "metadata": {
    "id": "eUVR3VNc_fXT",
    "outputId": "1d1c8a7e-28b1-4162-a39f-e18d41a0e978"
   },
   "outputs": [
    {
     "data": {
      "text/plain": [
       "[0, 1, 2, 1, 3, 5]"
      ]
     },
     "execution_count": 8,
     "metadata": {
      "tags": []
     },
     "output_type": "execute_result"
    }
   ],
   "source": [
    "# sequencial condition from left to right must have all variables defined\n",
    "[item for transactions in tmp for item in transactions]"
   ]
  },
  {
   "cell_type": "code",
   "execution_count": null,
   "metadata": {
    "id": "Fal20LK4_fXV",
    "outputId": "1a3fd0d6-b707-4dff-e1f1-7aa1054b3158"
   },
   "outputs": [
    {
     "data": {
      "text/plain": [
       "[[0, 1, 2], [1, 3, 5]]"
      ]
     },
     "execution_count": 9,
     "metadata": {
      "tags": []
     },
     "output_type": "execute_result"
    }
   ],
   "source": [
    "# computation sequence: from outer list to inner list\n",
    "[[item for item in transactions] for transactions in tmp]"
   ]
  },
  {
   "cell_type": "markdown",
   "metadata": {
    "id": "wKTXICn0_fXY"
   },
   "source": [
    "# Tuples\n",
    "Value in a tuple can't change like lists. Kind of store only?"
   ]
  },
  {
   "cell_type": "code",
   "execution_count": null,
   "metadata": {
    "id": "Pw7qDrrx_fXY",
    "outputId": "f82d6d23-c71f-4dd9-f893-6561fa4129d6"
   },
   "outputs": [
    {
     "name": "stdout",
     "output_type": "stream",
     "text": [
      "(3, 1, 4, 1, 5, 9)\n",
      "[3, 1, 4, 1, 5, 9]\n",
      "('onions', 'Tomatoes', 'Potatoes', 'Green Juice')\n",
      "len(tuple): 6\n",
      "min(tuple): 1\n",
      "max(tuple): 9\n"
     ]
    }
   ],
   "source": [
    "# TUPLES -------------\n",
    "# Values in a tuple can't change like lists\n",
    "\n",
    "pi_tuple = (3, 1, 4, 1, 5, 9)\n",
    "print(pi_tuple)\n",
    "\n",
    "# Convert tuple into a list\n",
    "new_tuple = list(pi_tuple)\n",
    "print(new_tuple)\n",
    "\n",
    "# Convert a list into a tuple\n",
    "new_list = tuple(grocery_list)\n",
    "print(new_list)\n",
    "\n",
    "# tuples also have len(tuple), min(tuple) and max(tuple)\n",
    "print('len(tuple):',len(pi_tuple))\n",
    "print('min(tuple):',min(pi_tuple))\n",
    "print('max(tuple):',max(pi_tuple))"
   ]
  },
  {
   "cell_type": "code",
   "execution_count": null,
   "metadata": {
    "id": "UW0EqLv__fXb",
    "jupyter": {
     "outputs_hidden": true
    }
   },
   "outputs": [],
   "source": [
    "arrays = [['bar', 'bar', 'baz', 'baz', 'foo', 'foo', 'qux', 'qux'],\\\n",
    "          ['one', 'two', 'one', 'two', 'one', 'two', 'one', 'two']]"
   ]
  },
  {
   "cell_type": "code",
   "execution_count": null,
   "metadata": {
    "id": "1n0sU8mk_fXe",
    "outputId": "6fa4935c-0230-452f-9a01-da0d5416e5fa"
   },
   "outputs": [
    {
     "data": {
      "text/plain": [
       "[(['bar', 'bar', 'baz', 'baz', 'foo', 'foo', 'qux', 'qux'],),\n",
       " (['one', 'two', 'one', 'two', 'one', 'two', 'one', 'two'],)]"
      ]
     },
     "execution_count": 12,
     "metadata": {
      "tags": []
     },
     "output_type": "execute_result"
    }
   ],
   "source": [
    "list(zip(arrays))"
   ]
  },
  {
   "cell_type": "code",
   "execution_count": null,
   "metadata": {
    "id": "3H_f1zKe_fXh",
    "outputId": "fd10bedb-293d-4b74-ee3e-4b4b6114cbea"
   },
   "outputs": [
    {
     "data": {
      "text/plain": [
       "[('bar', 'one'),\n",
       " ('bar', 'two'),\n",
       " ('baz', 'one'),\n",
       " ('baz', 'two'),\n",
       " ('foo', 'one'),\n",
       " ('foo', 'two'),\n",
       " ('qux', 'one'),\n",
       " ('qux', 'two')]"
      ]
     },
     "execution_count": 13,
     "metadata": {
      "tags": []
     },
     "output_type": "execute_result"
    }
   ],
   "source": [
    "list(zip(*arrays))"
   ]
  },
  {
   "cell_type": "markdown",
   "metadata": {
    "id": "XJ7rD8_p_fXj"
   },
   "source": [
    "# Dictionary / MAP\n",
    "- Made up of values with a unique key for each value\n",
    "- Similar to lists, but you can't join dicts with a +\n",
    "\n",
    "Items **before colon** is the key (referer); Items **after colon** is the result (value)."
   ]
  },
  {
   "cell_type": "code",
   "execution_count": null,
   "metadata": {
    "id": "8lMYXRy5_fXk",
    "outputId": "a698ce12-e6ba-44c4-a104-7616a42148ae"
   },
   "outputs": [
    {
     "name": "stdout",
     "output_type": "stream",
     "text": [
      "Leonard Snart\n",
      "{'Captain Cold': 'Leonard Snart', 'Weather Wizard': 'Mark Mardon', 'Mirror Master': 'Sam Scudder', 'Pied Piper': 'Thomas Peterson'}\n",
      "4\n"
     ]
    }
   ],
   "source": [
    "# DICTIONARY or MAP -------------\n",
    "\n",
    "super_villains = {'Fiddler' : 'Isaac Bowin',\n",
    "                  'Captain Cold' : 'Leonard Snart',\n",
    "                  'Weather Wizard' : 'Mark Mardon',\n",
    "                  'Mirror Master' : 'Sam Scudder',\n",
    "                  'Pied Piper' : 'Thomas Peterson'}\n",
    "\n",
    "print(super_villains['Captain Cold'])\n",
    "\n",
    "# Delete an entry\n",
    "del super_villains['Fiddler']\n",
    "print(super_villains)\n",
    "\n",
    "# Replace a value\n",
    "super_villains['Pied Piper'] = 'Hartley Rathaway'\n",
    "\n",
    "# Print the number of items in the dictionary\n",
    "print(len(super_villains))"
   ]
  },
  {
   "cell_type": "markdown",
   "metadata": {
    "id": "2d51ea7V_fXm"
   },
   "source": [
    "**Call Values:**"
   ]
  },
  {
   "cell_type": "code",
   "execution_count": null,
   "metadata": {
    "id": "9Ckux8vy_fXn",
    "outputId": "3b3b7360-1d44-4c83-e2e0-302d23648755"
   },
   "outputs": [
    {
     "name": "stdout",
     "output_type": "stream",
     "text": [
      "Hartley Rathaway\n",
      "Hartley Rathaway\n",
      "dict_keys(['Captain Cold', 'Weather Wizard', 'Mirror Master', 'Pied Piper'])\n",
      "dict_values(['Leonard Snart', 'Mark Mardon', 'Sam Scudder', 'Hartley Rathaway'])\n"
     ]
    }
   ],
   "source": [
    "# Get the value for the passed key\n",
    "print(super_villains.get('Pied Piper'))\n",
    "# or \n",
    "print(super_villains['Pied Piper'])\n",
    "\n",
    "# Get a list of dictionary keys\n",
    "print(super_villains.keys())\n",
    "\n",
    "# Get a list of dictionary values\n",
    "print(super_villains.values())"
   ]
  },
  {
   "cell_type": "code",
   "execution_count": null,
   "metadata": {
    "id": "GuRHxxIO_fXp",
    "outputId": "fc0a11fa-8d6f-4483-c114-9943649dc026"
   },
   "outputs": [
    {
     "data": {
      "text/plain": [
       "{(0, 0): 1, (0, 1): 2, (1, 0): 3, (1, 1): 4}"
      ]
     },
     "execution_count": 16,
     "metadata": {
      "tags": []
     },
     "output_type": "execute_result"
    }
   ],
   "source": [
    "a = dict()\n",
    "a[0,0]=1\n",
    "a[0,1]=2\n",
    "a[1,0]=3\n",
    "a[1,1]=4\n",
    "a"
   ]
  },
  {
   "cell_type": "markdown",
   "metadata": {
    "id": "02DxH1iqh4pQ"
   },
   "source": [
    "## Dictionary Orders\n",
    "https://docs.python.org/3/library/stdtypes.html#mapping-types-dict\n",
    "\n",
    "Dictionaries compare equal if and only if they have the same (key, value) pairs (regardless of ordering). Order comparisons (‘<’, ‘<=’, ‘>=’, ‘>’) raise `TypeError`.\n",
    "\n",
    "Dictionaries __preserve insertion order__. Note that updating a key does not affect the order. Keys added after deletion are inserted at the end.\n",
    "\n",
    "Changed in version `3.7`: Dictionary order is guaranteed to be insertion order. This behavior was an implementation detail of CPython from `3.6`.\n",
    "\n",
    "> I expect that using OrderedDict to communicate intent to other developers and third-party libraries will remain a best practice for several years. ref: https://gandenberger.org/2018/03/10/ordered-dicts-vs-ordereddict/\n",
    "\n",
    "\n"
   ]
  },
  {
   "cell_type": "code",
   "execution_count": null,
   "metadata": {
    "id": "VAnGxPhkhQcY"
   },
   "outputs": [],
   "source": [
    "mylist = [u'nowplaying', u'PBS', u'PBS', u'nowplaying', u'job', u'debate', u'thenandnow']\n",
    "unique = list(dict.fromkeys(mylist))"
   ]
  },
  {
   "cell_type": "markdown",
   "metadata": {
    "id": "PTYNNKCE_fXs"
   },
   "source": [
    "## Defaultdict\n",
    "- A `defaultdict` works exactly like a normal `dict`;\n",
    "- But it is initialized with a function (“default factory”) that takes no arguments and provides the default value for a nonexistent key.\n",
    "- 所以defaultdict的好处就是可以给dict设置value的初始默认值\n",
    "- 要保证defaultdict()括号里面的是callable的"
   ]
  },
  {
   "cell_type": "markdown",
   "metadata": {
    "id": "IaNffKvz_fXs"
   },
   "source": [
    "### defaultdict for refering\n",
    "定义默认值后, 没有key也可以call, 不会报错."
   ]
  },
  {
   "cell_type": "code",
   "execution_count": null,
   "metadata": {
    "collapsed": true,
    "id": "vs_mZeKY_fXt",
    "jupyter": {
     "outputs_hidden": true
    }
   },
   "outputs": [],
   "source": [
    "from collections import defaultdict"
   ]
  },
  {
   "cell_type": "code",
   "execution_count": null,
   "metadata": {
    "id": "R7ILCT9Z_fXw",
    "outputId": "ea500b36-0622-4eff-b5d6-42eec3d20be0"
   },
   "outputs": [
    {
     "name": "stdout",
     "output_type": "stream",
     "text": [
      "Chunky Monkey\n"
     ]
    }
   ],
   "source": [
    "# assign values to non-available keys:\n",
    "ice_cream = defaultdict(lambda: 'Vanilla') # anonymous functions always return 'Vanilla'\n",
    "\n",
    "ice_cream['Sarah'] = 'Chunky Monkey'\n",
    "ice_cream['Abdul'] = 'Butter Pecan'\n",
    "print(ice_cream['Sarah'])"
   ]
  },
  {
   "cell_type": "code",
   "execution_count": null,
   "metadata": {
    "id": "8MveN7Ic_fX0",
    "outputId": "0f1cbff6-0133-4676-ddf0-3c563c9c1a78"
   },
   "outputs": [
    {
     "data": {
      "text/plain": [
       "'Vanilla'"
      ]
     },
     "execution_count": 19,
     "metadata": {
      "tags": []
     },
     "output_type": "execute_result"
    }
   ],
   "source": [
    "# in this case, any non-available keys would have value 'Vanilla'\n",
    "ice_cream['Any Non-available Keys']"
   ]
  },
  {
   "cell_type": "code",
   "execution_count": null,
   "metadata": {
    "id": "_t1F3MME_fX3",
    "outputId": "835332c9-5320-404d-98a4-1e397bb843f0"
   },
   "outputs": [
    {
     "ename": "TypeError",
     "evalue": "first argument must be callable or None",
     "output_type": "error",
     "traceback": [
      "\u001b[0;31m---------------------------------------------------------------------------\u001b[0m",
      "\u001b[0;31mTypeError\u001b[0m                                 Traceback (most recent call last)",
      "\u001b[0;32m<ipython-input-20-814c6b658167>\u001b[0m in \u001b[0;36m<module>\u001b[0;34m\u001b[0m\n\u001b[0;32m----> 1\u001b[0;31m \u001b[0mtest_2\u001b[0m\u001b[0;34m=\u001b[0m\u001b[0mdefaultdict\u001b[0m\u001b[0;34m(\u001b[0m\u001b[0;36m1\u001b[0m\u001b[0;34m)\u001b[0m\u001b[0;34m\u001b[0m\u001b[0;34m\u001b[0m\u001b[0m\n\u001b[0m\u001b[1;32m      2\u001b[0m \u001b[0mtest_2\u001b[0m\u001b[0;34m[\u001b[0m\u001b[0;34m'2'\u001b[0m\u001b[0;34m]\u001b[0m\u001b[0;34m\u001b[0m\u001b[0;34m\u001b[0m\u001b[0m\n\u001b[1;32m      3\u001b[0m \u001b[0;34m\u001b[0m\u001b[0m\n\u001b[1;32m      4\u001b[0m \u001b[0;31m# Errors. Therefore, we need the argument to be callable.\u001b[0m\u001b[0;34m\u001b[0m\u001b[0;34m\u001b[0m\u001b[0;34m\u001b[0m\u001b[0m\n",
      "\u001b[0;31mTypeError\u001b[0m: first argument must be callable or None"
     ]
    }
   ],
   "source": [
    "test_2=defaultdict(1)\n",
    "test_2['2']\n",
    "\n",
    "# Errors. Therefore, we need the argument to be callable."
   ]
  },
  {
   "cell_type": "code",
   "execution_count": null,
   "metadata": {
    "id": "_kOPiXLc_fX5",
    "outputId": "dab829f1-671e-497a-e4d6-989f094d365a"
   },
   "outputs": [
    {
     "data": {
      "text/plain": [
       "True"
      ]
     },
     "execution_count": 21,
     "metadata": {
      "tags": []
     },
     "output_type": "execute_result"
    }
   ],
   "source": [
    "# int is callable\n",
    "callable(int)"
   ]
  },
  {
   "cell_type": "code",
   "execution_count": null,
   "metadata": {
    "id": "obXfjwjX_fX7",
    "outputId": "a7c732e7-293b-49cf-dcea-195e8b9aabba"
   },
   "outputs": [
    {
     "data": {
      "text/plain": [
       "0"
      ]
     },
     "execution_count": 22,
     "metadata": {
      "tags": []
     },
     "output_type": "execute_result"
    }
   ],
   "source": [
    "# int itself is a function\n",
    "int()"
   ]
  },
  {
   "cell_type": "markdown",
   "metadata": {
    "id": "JVp_k3WU_fX-"
   },
   "source": [
    "### defaultdict for counting\n",
    "**用来数数**\n",
    "\n",
    "**In the following example, a defaultdict is used for counting. **\n",
    "- The default factory is int, which in turn has a default value of zero. (Note: “lambda: 0″ would also work in this situation). \n",
    "- For each food in the list, the value is incremented by one where the key is the food. \n",
    "- We do not need to make sure the food is already a key – it will use the default value of zero."
   ]
  },
  {
   "cell_type": "code",
   "execution_count": null,
   "metadata": {
    "id": "RWAOFY2q_fX_",
    "outputId": "4db2ccba-6a6d-420d-fd06-d279407a4889"
   },
   "outputs": [
    {
     "data": {
      "text/plain": [
       "['spam', 'spam', 'spam', 'spam', 'spam', 'spam', 'eggs', 'spam']"
      ]
     },
     "execution_count": 23,
     "metadata": {
      "tags": []
     },
     "output_type": "execute_result"
    }
   ],
   "source": [
    "food_list = 'spam spam spam spam spam spam eggs spam'.split()\n",
    "food_list"
   ]
  },
  {
   "cell_type": "code",
   "execution_count": null,
   "metadata": {
    "id": "y8s3fXta_fYB",
    "outputId": "30331c93-ef66-4961-e6c3-32935ad1a569"
   },
   "outputs": [
    {
     "data": {
      "text/plain": [
       "defaultdict(int, {})"
      ]
     },
     "execution_count": 24,
     "metadata": {
      "tags": []
     },
     "output_type": "execute_result"
    }
   ],
   "source": [
    "food_count = defaultdict(int) # default value of int is 0\n",
    "food_count"
   ]
  },
  {
   "cell_type": "code",
   "execution_count": null,
   "metadata": {
    "collapsed": true,
    "id": "_zQiQJmJ_fYD",
    "jupyter": {
     "outputs_hidden": true
    }
   },
   "outputs": [],
   "source": [
    "for food in food_list:\n",
    "    food_count[food] += 1 # increment element's value by 1"
   ]
  },
  {
   "cell_type": "code",
   "execution_count": null,
   "metadata": {
    "id": "TfCqd3z2_fYF",
    "outputId": "018762ae-53fe-42c3-f624-25ed19b61dfb"
   },
   "outputs": [
    {
     "data": {
      "text/plain": [
       "defaultdict(int, {'spam': 7, 'eggs': 1})"
      ]
     },
     "execution_count": 26,
     "metadata": {
      "tags": []
     },
     "output_type": "execute_result"
    }
   ],
   "source": [
    "food_count"
   ]
  },
  {
   "cell_type": "markdown",
   "metadata": {
    "id": "wQ5u4x7s_fYH"
   },
   "source": [
    "### defaultdict for listing\n",
    "**算是用来分类吧**\n",
    "\n",
    "**In the next example, we start with a list of states and cities.**\n",
    "- We want to build a dictionary where the keys are the state abbreviations and the values are lists of all cities for that state. \n",
    "- To build this dictionary of lists, we use a defaultdict with a default factory of list. \n",
    "- A new list is created for each new key."
   ]
  },
  {
   "cell_type": "code",
   "execution_count": null,
   "metadata": {
    "id": "qvYUzrnG_fYI",
    "outputId": "c55104bc-5741-461e-9868-670985806c2b"
   },
   "outputs": [
    {
     "data": {
      "text/plain": [
       "[('TX', 'Austin'),\n",
       " ('TX', 'Houston'),\n",
       " ('NY', 'Albany'),\n",
       " ('NY', 'Syracuse'),\n",
       " ('NY', 'Buffalo'),\n",
       " ('NY', 'Rochester'),\n",
       " ('TX', 'Dallas'),\n",
       " ('CA', 'Sacramento'),\n",
       " ('CA', 'Palo Alto'),\n",
       " ('GA', 'Atlanta')]"
      ]
     },
     "execution_count": 27,
     "metadata": {
      "tags": []
     },
     "output_type": "execute_result"
    }
   ],
   "source": [
    "city_list = [('TX','Austin'), ('TX','Houston'), ('NY','Albany'), ('NY', 'Syracuse'), ('NY', 'Buffalo'), \n",
    "        ('NY', 'Rochester'), ('TX', 'Dallas'), ('CA','Sacramento'), ('CA', 'Palo Alto'), ('GA', 'Atlanta')]\n",
    "city_list"
   ]
  },
  {
   "cell_type": "code",
   "execution_count": null,
   "metadata": {
    "id": "i7tUOvqZ_fYL",
    "outputId": "6c0e700c-da04-47df-9a3d-2fe04dd95320"
   },
   "outputs": [
    {
     "data": {
      "text/plain": [
       "True"
      ]
     },
     "execution_count": 28,
     "metadata": {
      "tags": []
     },
     "output_type": "execute_result"
    }
   ],
   "source": [
    "# list is callable\n",
    "callable(list)"
   ]
  },
  {
   "cell_type": "code",
   "execution_count": null,
   "metadata": {
    "id": "95RNTT_Z_fYN",
    "outputId": "8b216c5c-5bb2-47ad-ba3b-b336a3d45a95"
   },
   "outputs": [
    {
     "data": {
      "text/plain": [
       "[]"
      ]
     },
     "execution_count": 29,
     "metadata": {
      "tags": []
     },
     "output_type": "execute_result"
    }
   ],
   "source": [
    "# list itself is a function\n",
    "list()"
   ]
  },
  {
   "cell_type": "code",
   "execution_count": null,
   "metadata": {
    "collapsed": true,
    "id": "l2M7Lnnk_fYQ",
    "jupyter": {
     "outputs_hidden": true
    }
   },
   "outputs": [],
   "source": [
    "cities_by_state = defaultdict(list)"
   ]
  },
  {
   "cell_type": "code",
   "execution_count": null,
   "metadata": {
    "collapsed": true,
    "id": "nMG6I12C_fYS",
    "jupyter": {
     "outputs_hidden": true
    }
   },
   "outputs": [],
   "source": [
    "for state, city in city_list:\n",
    "    cities_by_state[state].append(city)"
   ]
  },
  {
   "cell_type": "code",
   "execution_count": null,
   "metadata": {
    "id": "DY9xczhf_fYU",
    "outputId": "ca4a8b77-0060-4986-c11a-7f368a31a6e2"
   },
   "outputs": [
    {
     "data": {
      "text/plain": [
       "defaultdict(list,\n",
       "            {'TX': ['Austin', 'Houston', 'Dallas'],\n",
       "             'NY': ['Albany', 'Syracuse', 'Buffalo', 'Rochester'],\n",
       "             'CA': ['Sacramento', 'Palo Alto'],\n",
       "             'GA': ['Atlanta']})"
      ]
     },
     "execution_count": 32,
     "metadata": {
      "tags": []
     },
     "output_type": "execute_result"
    }
   ],
   "source": [
    "cities_by_state"
   ]
  },
  {
   "cell_type": "markdown",
   "metadata": {
    "id": "eCfmMb9G_fYW"
   },
   "source": [
    "# If else Statement"
   ]
  },
  {
   "cell_type": "markdown",
   "metadata": {
    "id": "m5oV3zSg_fYW"
   },
   "source": [
    "- The if, else and elif statements\n",
    "- Comparison Operators : ==, !=, >, <, >=, <="
   ]
  },
  {
   "cell_type": "code",
   "execution_count": null,
   "metadata": {
    "id": "ECff4K1I_fYX",
    "outputId": "8a155ae8-35c8-48f5-cd5f-43597df3bb41"
   },
   "outputs": [
    {
     "name": "stdout",
     "output_type": "stream",
     "text": [
      "You are old enough to drive\n",
      "You are old enough to drive\n",
      "You are old enough to drive a tractor trailer\n",
      "You get a birthday party yeah\n"
     ]
    }
   ],
   "source": [
    "# CONDITIONALS -------------\n",
    "\n",
    "# The if statement will execute code if a condition is met\n",
    "# White space is used to group blocks of code in Python\n",
    "# Use the same number of proceeding spaces for blocks of code\n",
    "\n",
    "age = 30\n",
    "if age > 16 :\n",
    "    print('You are old enough to drive')\n",
    "\n",
    "# Use an if statement if you want to execute different code regardless\n",
    "# of whether the condition ws met or not\n",
    "\n",
    "if age > 16 :\n",
    "    print('You are old enough to drive')\n",
    "else :\n",
    "    print('You are not old enough to drive')\n",
    "\n",
    "# If you want to check for multiple conditions use elif\n",
    "# If the first matches it won't check other conditions that follow\n",
    "\n",
    "if age >= 21 :\n",
    "    print('You are old enough to drive a tractor trailer')\n",
    "elif age >= 16:\n",
    "    print('You are old enough to drive a car')\n",
    "else :\n",
    "    print('You are not old enough to drive')\n",
    "\n",
    "# You can combine conditions with logical operators\n",
    "# Logical Operators : and, or, not\n",
    "\n",
    "if ((age >= 1) and (age <= 18)):\n",
    "    print(\"You get a birthday party\")\n",
    "elif (age == 21) or (age >= 65):\n",
    "    print(\"You get a birthday party\")\n",
    "elif not(age == 30):\n",
    "    print(\"You don't get a birthday party\")\n",
    "else:\n",
    "    print(\"You get a birthday party yeah\")"
   ]
  },
  {
   "cell_type": "markdown",
   "metadata": {
    "id": "w8xg3JAN_fYc"
   },
   "source": [
    "**if else loop in same line**"
   ]
  },
  {
   "cell_type": "code",
   "execution_count": null,
   "metadata": {
    "id": "dMzqUqKY_fYd",
    "outputId": "5c1bf122-6f8c-406e-d74b-ba249873819a"
   },
   "outputs": [
    {
     "name": "stdout",
     "output_type": "stream",
     "text": [
      "wow!\n"
     ]
    }
   ],
   "source": [
    "a=1\n",
    "count = 'wow!' if a == 1 else a\n",
    "print(count)"
   ]
  },
  {
   "cell_type": "markdown",
   "metadata": {
    "id": "uWw4TfFdoJDR"
   },
   "source": [
    "# Try, Except, else and Finally\n",
    "- `Try`: This block will test the excepted error to occur\n",
    "- `Except`:  Here you can handle the error\n",
    "- `Else`: If there is no exception then this block will be executed\n",
    "- `Finally`: Finally block always gets executed either exception is generated or not\n",
    "\n",
    "Syntax:\n",
    "```python\n",
    "try:\n",
    "       # Some Code.... \n",
    "\n",
    "except:\n",
    "       # optional block\n",
    "       # Handling of exception (if required)\n",
    "\n",
    "else:\n",
    "       # execute if no exception\n",
    "\n",
    "finally:\n",
    "      # Some code .....(always executed)\n",
    "```\n",
    "\n",
    "ref: https://www.geeksforgeeks.org/try-except-else-and-finally-in-python/"
   ]
  },
  {
   "cell_type": "code",
   "execution_count": null,
   "metadata": {
    "colab": {
     "base_uri": "https://localhost:8080/"
    },
    "executionInfo": {
     "elapsed": 3,
     "status": "ok",
     "timestamp": 1663756976201,
     "user": {
      "displayName": "Chet Sheng",
      "userId": "02447232751254445182"
     },
     "user_tz": -60
    },
    "id": "HGOX27qVo56U",
    "outputId": "a3ef5598-3a78-4661-f6f6-8f0e128ba753"
   },
   "outputs": [
    {
     "name": "stdout",
     "output_type": "stream",
     "text": [
      "Yeah ! Your answer is : 1\n",
      "This is always executed\n"
     ]
    }
   ],
   "source": [
    "# Python code to illustrate\n",
    "# working of try() \n",
    "def divide(x, y):\n",
    "    try:\n",
    "        # Floor Division : Gives only Fractional\n",
    "        # Part as Answer\n",
    "        result = x // y\n",
    "    except ZeroDivisionError:\n",
    "        print(\"Sorry ! You are dividing by zero \")\n",
    "    else:\n",
    "        # execute if no exception\n",
    "        print(\"Yeah ! Your answer is :\", result)\n",
    "    finally: \n",
    "        # this block is always executed  \n",
    "        # regardless of exception generation. \n",
    "        print('This is always executed')  \n",
    " \n",
    "# Look at parameters and note the working of Program\n",
    "divide(3, 2)"
   ]
  },
  {
   "cell_type": "code",
   "execution_count": null,
   "metadata": {
    "colab": {
     "base_uri": "https://localhost:8080/"
    },
    "executionInfo": {
     "elapsed": 1,
     "status": "ok",
     "timestamp": 1663756978321,
     "user": {
      "displayName": "Chet Sheng",
      "userId": "02447232751254445182"
     },
     "user_tz": -60
    },
    "id": "pEXgdXqhpAQJ",
    "outputId": "95f5eaec-ceb8-42d9-fe98-620dcc4852d9"
   },
   "outputs": [
    {
     "name": "stdout",
     "output_type": "stream",
     "text": [
      "Sorry ! You are dividing by zero \n",
      "This is always executed\n"
     ]
    }
   ],
   "source": [
    "divide(3, 0)"
   ]
  },
  {
   "cell_type": "markdown",
   "metadata": {
    "id": "3rEvchff_fYf"
   },
   "source": [
    "# For Loops\n",
    "- Allows you to perform an action a set number of times\n",
    "- range(0, 10) performs the action 10 times 0 - 9 (right bound was not included as usual)"
   ]
  },
  {
   "cell_type": "code",
   "execution_count": null,
   "metadata": {
    "id": "ocmCv5U3_fYf",
    "outputId": "861d6664-66b6-4f76-bc23-262c1f04497c"
   },
   "outputs": [
    {
     "name": "stdout",
     "output_type": "stream",
     "text": [
      "0  1  2  3  4  5  6  7  8  9  \n",
      "-------------------\n",
      "Juice\n",
      "Tomatoes\n",
      "Potatoes\n",
      "Bananas\n",
      "-------------------\n",
      "2\n",
      "4\n",
      "6\n",
      "8\n",
      "10\n",
      "-------------------\n",
      "1\n",
      "2\n",
      "3\n",
      "\n",
      "\n",
      "10\n",
      "20\n",
      "30\n",
      "\n",
      "\n",
      "100\n",
      "200\n",
      "300\n",
      "\n",
      "\n"
     ]
    }
   ],
   "source": [
    "# For Loops -------------\n",
    "for x in range(0, 10):\n",
    "    print(x , ' ', end=\"\")\n",
    "\n",
    "print('\\n-------------------')\n",
    "\n",
    "# You can use for loops to cycle through a list\n",
    "grocery_list = ['Juice', 'Tomatoes', 'Potatoes', 'Bananas']\n",
    "\n",
    "for y in grocery_list:\n",
    "    print(y)\n",
    "print('-------------------')\n",
    "# You can also define a list of numbers to cycle through\n",
    "for x in [2,4,6,8,10]:\n",
    "    print(x)\n",
    "print('-------------------')\n",
    "# You can double up for loops to cycle through lists\n",
    "num_list =[[1,2,3],[10,20,30],[100,200,300]];\n",
    "\n",
    "for x in range(0,3):\n",
    "    for y in range(0,3):\n",
    "        print(num_list[x][y])\n",
    "    print('\\n')"
   ]
  },
  {
   "cell_type": "markdown",
   "metadata": {
    "id": "8uhA1VhA_fYh"
   },
   "source": [
    "## tqdm in For Loop"
   ]
  },
  {
   "cell_type": "code",
   "execution_count": null,
   "metadata": {
    "collapsed": true,
    "id": "wktUJ0oY_fYi",
    "jupyter": {
     "outputs_hidden": true
    },
    "outputId": "baabbec6-d25f-4f22-9d32-f5bd81346428"
   },
   "outputs": [
    {
     "ename": "NameError",
     "evalue": "name 'df_url' is not defined",
     "output_type": "error",
     "traceback": [
      "\u001b[0;31m---------------------------------------------------------------------------\u001b[0m",
      "\u001b[0;31mNameError\u001b[0m                                 Traceback (most recent call last)",
      "\u001b[0;32m<ipython-input-37-5c9ed295ce53>\u001b[0m in \u001b[0;36m<module>\u001b[0;34m\u001b[0m\n\u001b[1;32m      2\u001b[0m \u001b[0;34m\u001b[0m\u001b[0m\n\u001b[1;32m      3\u001b[0m \u001b[0mtqdm\u001b[0m\u001b[0;34m.\u001b[0m\u001b[0mpandas\u001b[0m\u001b[0;34m(\u001b[0m\u001b[0mdesc\u001b[0m\u001b[0;34m=\u001b[0m\u001b[0;34m\"Progress Bar\"\u001b[0m\u001b[0;34m)\u001b[0m\u001b[0;34m\u001b[0m\u001b[0;34m\u001b[0m\u001b[0m\n\u001b[0;32m----> 4\u001b[0;31m \u001b[0mPage_URL\u001b[0m \u001b[0;34m=\u001b[0m \u001b[0mdf_url\u001b[0m\u001b[0;34m.\u001b[0m\u001b[0mprogress_apply\u001b[0m\u001b[0;34m(\u001b[0m\u001b[0;32mlambda\u001b[0m \u001b[0mx\u001b[0m\u001b[0;34m:\u001b[0m \u001b[0murllib\u001b[0m\u001b[0;34m.\u001b[0m\u001b[0mparse\u001b[0m\u001b[0;34m.\u001b[0m\u001b[0munquote\u001b[0m\u001b[0;34m(\u001b[0m\u001b[0mx\u001b[0m\u001b[0;34m)\u001b[0m\u001b[0;34m)\u001b[0m\u001b[0;34m\u001b[0m\u001b[0;34m\u001b[0m\u001b[0m\n\u001b[0m",
      "\u001b[0;31mNameError\u001b[0m: name 'df_url' is not defined"
     ]
    }
   ],
   "source": [
    "from tqdm import tqdm, trange, tqdm_pandas\n",
    "\n",
    "tqdm.pandas(desc=\"Progress Bar\")\n",
    "Page_URL = df_url.progress_apply(lambda x: urllib.parse.unquote(x))"
   ]
  },
  {
   "cell_type": "code",
   "execution_count": null,
   "metadata": {
    "collapsed": true,
    "id": "x245iRMo_fYk",
    "jupyter": {
     "outputs_hidden": true
    },
    "outputId": "20490f8b-3f52-4308-952d-767d7a404c5c"
   },
   "outputs": [
    {
     "ename": "SyntaxError",
     "evalue": "invalid syntax (<ipython-input-38-b94cc46c1067>, line 1)",
     "output_type": "error",
     "traceback": [
      "\u001b[0;36m  File \u001b[0;32m\"<ipython-input-38-b94cc46c1067>\"\u001b[0;36m, line \u001b[0;32m1\u001b[0m\n\u001b[0;31m    For i in tqdm.tqdm(range(10)):\u001b[0m\n\u001b[0m        ^\u001b[0m\n\u001b[0;31mSyntaxError\u001b[0m\u001b[0;31m:\u001b[0m invalid syntax\n"
     ]
    }
   ],
   "source": [
    "For i in tqdm.tqdm(range(10)):"
   ]
  },
  {
   "cell_type": "markdown",
   "metadata": {
    "id": "ZfN4o1YK_fYm"
   },
   "source": [
    "## Enumerate"
   ]
  },
  {
   "cell_type": "code",
   "execution_count": null,
   "metadata": {
    "id": "wKfcmy2Q_fYn",
    "outputId": "d9ef0a39-c342-4b87-93f3-d242078ee93f"
   },
   "outputs": [
    {
     "name": "stdout",
     "output_type": "stream",
     "text": [
      "1 apple\n",
      "2 banana\n",
      "3 grapes\n",
      "4 pear\n"
     ]
    }
   ],
   "source": [
    "my_list = ['apple', 'banana', 'grapes', 'pear']\n",
    "for c, value in enumerate(my_list,1):\n",
    "    print(c, value)"
   ]
  },
  {
   "cell_type": "code",
   "execution_count": null,
   "metadata": {
    "id": "8mOhV70a_fYq",
    "outputId": "b3319672-d156-4bcc-cd12-6036ffc81117"
   },
   "outputs": [
    {
     "name": "stdout",
     "output_type": "stream",
     "text": [
      "0 apple\n",
      "1 banana\n",
      "2 grapes\n",
      "3 pear\n"
     ]
    }
   ],
   "source": [
    "my_list = ['apple', 'banana', 'grapes', 'pear']\n",
    "for c, value in enumerate(my_list):\n",
    "    print(c, value)"
   ]
  },
  {
   "cell_type": "markdown",
   "metadata": {
    "id": "ZDi-QHld_fYt"
   },
   "source": [
    "# While Loops\n",
    "While loops are used when you don't know ahead of time how many times you'll have to loop."
   ]
  },
  {
   "cell_type": "code",
   "execution_count": null,
   "metadata": {
    "id": "Vj9eNFKP_fYt",
    "outputId": "2964241c-5e42-4a9f-b0e3-56bcd0eb28cc",
    "scrolled": true
   },
   "outputs": [
    {
     "name": "stdout",
     "output_type": "stream",
     "text": [
      "0\n",
      "2\n"
     ]
    }
   ],
   "source": [
    "# While Loops -------------\n",
    "# times you'll have to loop\n",
    "import random\n",
    "random_num = random.randrange(0,10)\n",
    "\n",
    "# while (random_num != 5):\n",
    "#     print(random_num)\n",
    "#     random_num = random.randrange(0,100)\n",
    "\n",
    "# An iterator for a while loop is defined before the loop\n",
    "i = 0;\n",
    "while (i <= 5):\n",
    "    if(i%2 == 0):\n",
    "        print(i)\n",
    "    elif(i == 3):\n",
    "        # Forces the loop to end all together\n",
    "        break\n",
    "    else:\n",
    "        # Shorthand for i = i + 1\n",
    "        i += 1\n",
    "        # Skips to the next iteration of the loop\n",
    "        continue\n",
    "\n",
    "    i += 1"
   ]
  },
  {
   "cell_type": "markdown",
   "metadata": {
    "id": "x_6Pe6Gg_fYv"
   },
   "source": [
    "#  Functions\n",
    "- Functions allow you to reuse and write readable code\n",
    "- Type def (define), function name and parameters it receives\n",
    "- return is used to return something to the caller of the function"
   ]
  },
  {
   "cell_type": "code",
   "execution_count": null,
   "metadata": {
    "id": "TL3IKJ02_fYw",
    "outputId": "4c0e2fdb-2c58-4b71-e147-7de1dc2ffb03"
   },
   "outputs": [
    {
     "name": "stdout",
     "output_type": "stream",
     "text": [
      "5\n",
      "-3\n"
     ]
    }
   ],
   "source": [
    "# Functions -------------\n",
    "def addNumbers(fNum, sNum):\n",
    "    sumNum = fNum + sNum\n",
    "    return sumNum\n",
    "\n",
    "print(addNumbers(1, 4))\n",
    "\n",
    "# Can't get the value of rNum because it was created in a function\n",
    "# It is said to be out of scope\n",
    "# print(sumNum)\n",
    "\n",
    "# If you define a variable outside of the function it works every place\n",
    "newNum = 0;\n",
    "def subNumbers(fNum, sNum):\n",
    "    newNum = fNum - sNum\n",
    "    return newNum\n",
    "\n",
    "print(subNumbers(1, 4))"
   ]
  },
  {
   "cell_type": "markdown",
   "metadata": {
    "id": "VOOUNvaD_fYy"
   },
   "source": [
    "# User Input"
   ]
  },
  {
   "cell_type": "code",
   "execution_count": null,
   "metadata": {
    "id": "oQFTJP0c_fYy",
    "outputId": "343e49dd-3699-49d9-cbd8-e2ca8eae0358"
   },
   "outputs": [
    {
     "name": "stdout",
     "output_type": "stream",
     "text": [
      "What is your name?\n",
      "Hello \n"
     ]
    }
   ],
   "source": [
    "# USER INPUT -------------\n",
    "import sys\n",
    "print('What is your name?')\n",
    "\n",
    "# Stores everything typed up until ENTER\n",
    "name = sys.stdin.readline()\n",
    "# Above seems to be wrong. Not working in Spyder.\n",
    "\n",
    "print('Hello', name)"
   ]
  },
  {
   "cell_type": "markdown",
   "metadata": {
    "id": "1PAjOjin_fY4"
   },
   "source": [
    "# Strings"
   ]
  },
  {
   "cell_type": "code",
   "execution_count": null,
   "metadata": {
    "id": "usmFUC4a_fY4",
    "outputId": "db7ebad6-0120-46d5-cca3-b19d8649070e"
   },
   "outputs": [
    {
     "name": "stdout",
     "output_type": "stream",
     "text": [
      "I'll\n",
      "Floor\n",
      "I'll catch you if you fall - The \n",
      "I'll be there\n"
     ]
    }
   ],
   "source": [
    "# STRINGS -------------\n",
    "# A string is a series of characters surrounded by ' or \"\n",
    "long_string = \"I'll catch you if you fall - The Floor\"\n",
    "\n",
    "# Retrieve the first 4 characters\n",
    "print(long_string[0:4])\n",
    "\n",
    "# Get the last 5 characters\n",
    "print(long_string[-5:])\n",
    "\n",
    "# Everything up to the last 5 characters\n",
    "print(long_string[:-5])\n",
    "\n",
    "# Concatenate part of a string to another\n",
    "print(long_string[:4] + \" be there\")"
   ]
  },
  {
   "cell_type": "markdown",
   "metadata": {
    "id": "Sw9I1AeB_fY7"
   },
   "source": [
    "## String Formatting"
   ]
  },
  {
   "cell_type": "code",
   "execution_count": null,
   "metadata": {
    "id": "AhwjTqxP_fY8",
    "outputId": "d490a978-a774-4f5d-cab6-6df6baf7f6b2"
   },
   "outputs": [
    {
     "name": "stdout",
     "output_type": "stream",
     "text": [
      "X is my favorite letter and my number 1 number is 0.14000\n"
     ]
    }
   ],
   "source": [
    "# String formatting\n",
    "print(\"%c is my %s letter and my number %d number is %.5f\" % ('X', 'favorite', 1, .14))\n",
    "# below by order\n",
    "# c: Character\n",
    "# s: String\n",
    "# d: Decimal Integer\n",
    "# f: Floating Number"
   ]
  },
  {
   "cell_type": "markdown",
   "metadata": {
    "id": "GmalkcWG_fY_"
   },
   "source": [
    "## String Attribute\n",
    "More attributes here (search 'String Methods'):\n",
    "https://docs.python.org/3/library/stdtypes.html"
   ]
  },
  {
   "cell_type": "code",
   "execution_count": null,
   "metadata": {
    "id": "23uBuKEv_fY_",
    "outputId": "101462c6-4416-48f6-abc7-3702a4c53828"
   },
   "outputs": [
    {
     "name": "stdout",
     "output_type": "stream",
     "text": [
      "Ex1: I'll catch you if you fall - The Floor\n",
      "Ex2: I'll catch you if you fall - the floor\n",
      "Ex3: 33\n",
      "Ex4: False\n",
      "Ex5: False\n",
      "Ex6: 38\n",
      "Ex7: I'll catch you if you fall - The Ground\n",
      "Ex8: I'll catch you if you fall - The Floor\n",
      "Ex9: 'll catch you if you fall - The Floo\n",
      "Ex10: [\"I'll\", 'catch', 'you', 'if', 'you', 'fall', '-', 'The', 'Floor']\n"
     ]
    }
   ],
   "source": [
    "# Base string\n",
    "print('Ex1:',long_string)\n",
    "\n",
    "# Capitalizes the first letter\n",
    "print('Ex2:',long_string.capitalize())\n",
    "\n",
    "# Returns the index of the start of the string\n",
    "# case sensitive\n",
    "print('Ex3:',long_string.find(\"Floor\"))\n",
    "\n",
    "# Returns true if all characters are alphabetic characters(letter) only\n",
    "print('Ex4:',long_string.isalpha())\n",
    "\n",
    "# Returns true if all characters are numbers\n",
    "print('Ex5:',long_string.isalnum())\n",
    "\n",
    "# Returns the string length\n",
    "print('Ex6:',len(long_string))\n",
    "\n",
    "# Replace the first word with the second (Add a number to replace more)\n",
    "print('Ex7:',long_string.replace(\"Floor\", \"Ground\"))\n",
    "\n",
    "# Remove white space from front and end\n",
    "print('Ex8:',long_string.strip())\n",
    "\n",
    "# Remove letters 'I' & 'r' from front and end. Capital or not also matters\n",
    "print('Ex9:',long_string.strip('Ir'))\n",
    "\n",
    "# Split a string into a list based on the delimiter you provide\n",
    "quote_list = long_string.split(\" \")\n",
    "print('Ex10:',quote_list)"
   ]
  },
  {
   "cell_type": "markdown",
   "metadata": {
    "id": "bpD0WV7i_fZC"
   },
   "source": [
    "## Examples\n",
    "### Naming File"
   ]
  },
  {
   "cell_type": "code",
   "execution_count": null,
   "metadata": {
    "id": "ith0vaYF_fZD",
    "outputId": "6943b1d2-a6fa-4c7e-a6f9-694d6fdf73b3"
   },
   "outputs": [
    {
     "name": "stdout",
     "output_type": "stream",
     "text": [
      "file_1.dat\n",
      "file_1.dat\n",
      "file_1.dat\n"
     ]
    }
   ],
   "source": [
    "i=1\n",
    "tmp1=\"file_\" + str(i) + \".dat\"\n",
    "tmp2=\"file_%s.dat\" % i\n",
    "tmp3=\"file_{}.dat\".format(i)\n",
    "# c: Character\n",
    "# s: String\n",
    "# d: Decimal Integer\n",
    "# f: Floating Number\n",
    "print(tmp1)\n",
    "print(tmp2)\n",
    "print(tmp3)"
   ]
  },
  {
   "cell_type": "markdown",
   "metadata": {
    "id": "WcsrmmeD_fZF"
   },
   "source": [
    "### Print out"
   ]
  },
  {
   "cell_type": "code",
   "execution_count": null,
   "metadata": {
    "id": "Nb4bLUIu_fZF",
    "outputId": "283c51e0-36cf-4abf-affd-bb08937b9a6f"
   },
   "outputs": [
    {
     "name": "stdout",
     "output_type": "stream",
     "text": [
      "001.json\n",
      "002.json\n",
      "003.json\n",
      "004.json\n",
      "--------\n",
      "1.json\n",
      "2.json\n",
      "3.json\n",
      "4.json\n"
     ]
    }
   ],
   "source": [
    "for id in range(1,5):\n",
    "    print('%03d.json' %id)\n",
    "    # This Wildcard can be used globally even for loop value assignment.\n",
    "\n",
    "print('--------')\n",
    "\n",
    "for id in range(1,5):\n",
    "    print('%d.json' %id)"
   ]
  },
  {
   "cell_type": "markdown",
   "metadata": {
    "id": "Ab_fLQM4_fZI"
   },
   "source": [
    "# File I/O"
   ]
  },
  {
   "cell_type": "markdown",
   "metadata": {
    "id": "irWnmbDtFLZf"
   },
   "source": [
    "###File Handling"
   ]
  },
  {
   "cell_type": "code",
   "execution_count": null,
   "metadata": {
    "id": "wy12mad1E_cI"
   },
   "outputs": [],
   "source": [
    "import sys\n",
    "\n",
    "f = open('text.txt', 'w')\n",
    "for i in range(10):\n",
    "     f.write(\"This is line %d\\r\\n\" % (i+1))"
   ]
  },
  {
   "cell_type": "code",
   "execution_count": null,
   "metadata": {
    "colab": {
     "base_uri": "https://localhost:8080/",
     "height": 34
    },
    "executionInfo": {
     "elapsed": 869,
     "status": "ok",
     "timestamp": 1587731125405,
     "user": {
      "displayName": "Huafeng Sheng",
      "photoUrl": "https://lh3.googleusercontent.com/a-/AOh14Gjy_Dk7Ahwv2lZiGE0sUFyBO_xe7OiTtIJ9Qlezaw=s64",
      "userId": "02447232751254445182"
     },
     "user_tz": -60
    },
    "id": "83oAvAdaFJqf",
    "outputId": "e3c9ae11-001e-4cce-ccbd-c5356e988899"
   },
   "outputs": [
    {
     "data": {
      "text/plain": [
       "2"
      ]
     },
     "execution_count": 16,
     "metadata": {
      "tags": []
     },
     "output_type": "execute_result"
    }
   ],
   "source": [
    "# get variable reference count:\n",
    "sys.getrefcount(f)"
   ]
  },
  {
   "cell_type": "code",
   "execution_count": null,
   "metadata": {
    "colab": {
     "base_uri": "https://localhost:8080/",
     "height": 34
    },
    "executionInfo": {
     "elapsed": 798,
     "status": "ok",
     "timestamp": 1587731126885,
     "user": {
      "displayName": "Huafeng Sheng",
      "photoUrl": "https://lh3.googleusercontent.com/a-/AOh14Gjy_Dk7Ahwv2lZiGE0sUFyBO_xe7OiTtIJ9Qlezaw=s64",
      "userId": "02447232751254445182"
     },
     "user_tz": -60
    },
    "id": "rX3EcY__Jh43",
    "outputId": "c3de9d88-8436-4eca-fb1d-5cbe4456678b"
   },
   "outputs": [
    {
     "data": {
      "text/plain": [
       "216"
      ]
     },
     "execution_count": 17,
     "metadata": {
      "tags": []
     },
     "output_type": "execute_result"
    }
   ],
   "source": [
    "# return size of object (pointer + garbage collection overhead) in bytes (object)\n",
    "sys.getsizeof(f)"
   ]
  },
  {
   "cell_type": "code",
   "execution_count": null,
   "metadata": {
    "id": "ovn-7-80J9al"
   },
   "outputs": [],
   "source": [
    "f.close()"
   ]
  },
  {
   "cell_type": "markdown",
   "metadata": {
    "id": "N6wEDLMpFQV-"
   },
   "source": [
    "Examples"
   ]
  },
  {
   "cell_type": "code",
   "execution_count": null,
   "metadata": {
    "collapsed": true,
    "id": "vhdwR_zh_fZI",
    "jupyter": {
     "outputs_hidden": true
    },
    "outputId": "ea2166ba-35ee-46e1-a69a-45a6babee17f"
   },
   "outputs": [
    {
     "name": "stdout",
     "output_type": "stream",
     "text": [
      "wb\n",
      "test.txt\n",
      "Write me to the file\n",
      "\n"
     ]
    }
   ],
   "source": [
    "import os\n",
    "\n",
    "# Overwrite or create a file for writing\n",
    "test_file = open(\"test.txt\", \"wb\")\n",
    "\n",
    "# Get the file mode used\n",
    "print(test_file.mode)\n",
    "\n",
    "# Get the files name\n",
    "print(test_file.name)\n",
    "\n",
    "# Write text to a file with a newline\n",
    "test_file.write(bytes(\"Write me to the file\\n\", 'UTF-8'))\n",
    "\n",
    "# Close the file\n",
    "test_file.close()\n",
    "\n",
    "# Opens a file for reading and writing\n",
    "test_file = open(\"test.txt\", \"r+\")\n",
    "\n",
    "# Read text from the file\n",
    "text_in_file = test_file.read()\n",
    "\n",
    "print(text_in_file)\n",
    "\n",
    "# Delete the file\n",
    "os.remove(\"test.txt\")"
   ]
  },
  {
   "cell_type": "markdown",
   "metadata": {
    "id": "wrnbfcwA_fZK"
   },
   "source": [
    "## Path \n",
    "- Default path depends on where the python kernal is. \n",
    "- Python的默认文件夹(dir)在哪里, 默认的location就在哪里\n",
    "- More about os:\\ https://docs.python.org/3/library/os.path.html"
   ]
  },
  {
   "cell_type": "code",
   "execution_count": null,
   "metadata": {
    "id": "pkJDh6hI_fZK",
    "outputId": "3bcac8b3-4405-4c6f-b503-3d09e4a4c1fc"
   },
   "outputs": [
    {
     "name": "stdout",
     "output_type": "stream",
     "text": [
      "argparse_test.py  pipenv_jupyter.sh  Python_Numpy.ipynb   Unit_Test\n",
      "Coursera\t  Pipfile\t     Python_Pandas.ipynb  Untitled.ipynb\n",
      "Data\t\t  Pipfile.lock\t     README.md\n",
      "Dockerfile\t  Python_Base.ipynb  run_argparse.sh\n",
      "Dockerfile01\t  Python_JSON.py     Tensorflow\n"
     ]
    }
   ],
   "source": [
    "# show existing files in current folder\n",
    "!ls"
   ]
  },
  {
   "cell_type": "code",
   "execution_count": null,
   "metadata": {
    "id": "7eqE7q9s_fZM",
    "outputId": "c6aa5ca1-29f3-4f21-9d73-192b3916028a"
   },
   "outputs": [
    {
     "name": "stdout",
     "output_type": "stream",
     "text": [
      "/home/huafeng/Desktop/Python_Code\n"
     ]
    }
   ],
   "source": [
    "# show current path\n",
    "!pwd"
   ]
  },
  {
   "cell_type": "code",
   "execution_count": null,
   "metadata": {
    "colab": {
     "base_uri": "https://localhost:8080/"
    },
    "executionInfo": {
     "elapsed": 9,
     "status": "ok",
     "timestamp": 1676973732502,
     "user": {
      "displayName": "Chet Sheng",
      "userId": "02447232751254445182"
     },
     "user_tz": 0
    },
    "id": "CRmFwOax_fZN",
    "outputId": "5d4ff47c-3f54-4db0-b402-535b54da476a"
   },
   "outputs": [
    {
     "name": "stdout",
     "output_type": "stream",
     "text": [
      "A good way to get path of a file based on current dictionary:\n",
      "1st Print: \n",
      "2nd Print: /content\n",
      "3rd Print: /content/../lib\n",
      "4th Print: /usr/lib\n"
     ]
    }
   ],
   "source": [
    "import os\n",
    "import numpy as np\n",
    "import glob\n",
    "\n",
    "print('A good way to get path of a file based on current dictionary:')\n",
    "\n",
    "# os.path.dirname: Return the directory name of pathname path\n",
    "print('1st Print:',os.path.dirname('__file__'))\n",
    "print('2nd Print:',os.path.abspath(os.path.dirname('__file__')))\n",
    "print('3rd Print:',os.path.join(os.path.abspath(os.path.dirname('__file__')), '..', 'lib'))\n",
    "lib_path = os.path.realpath(os.path.join(os.path.abspath(os.path.dirname('__file__')), '..', 'lib'))\n",
    "print('4th Print:',lib_path)"
   ]
  },
  {
   "cell_type": "code",
   "execution_count": null,
   "metadata": {
    "colab": {
     "base_uri": "https://localhost:8080/",
     "height": 35
    },
    "executionInfo": {
     "elapsed": 7,
     "status": "ok",
     "timestamp": 1676973732502,
     "user": {
      "displayName": "Chet Sheng",
      "userId": "02447232751254445182"
     },
     "user_tz": 0
    },
    "id": "Wy1vN_Ha_fZP",
    "outputId": "8585cd8b-fd8a-4c96-f9bb-c024038d3e5b"
   },
   "outputs": [
    {
     "data": {
      "application/vnd.google.colaboratory.intrinsic+json": {
       "type": "string"
      },
      "text/plain": [
       "'/usr/lib'"
      ]
     },
     "execution_count": 2,
     "metadata": {},
     "output_type": "execute_result"
    }
   ],
   "source": [
    "lib_path"
   ]
  },
  {
   "cell_type": "markdown",
   "metadata": {
    "id": "6mLZPYXLbCYN"
   },
   "source": [
    "**Or Use `pathlib.Path`**"
   ]
  },
  {
   "cell_type": "code",
   "execution_count": null,
   "metadata": {
    "colab": {
     "base_uri": "https://localhost:8080/"
    },
    "executionInfo": {
     "elapsed": 4,
     "status": "ok",
     "timestamp": 1676973823417,
     "user": {
      "displayName": "Chet Sheng",
      "userId": "02447232751254445182"
     },
     "user_tz": 0
    },
    "id": "RZ0NRLBtbK4l",
    "outputId": "d63dbb07-1824-4da6-b3dc-00e5d6f0aec2"
   },
   "outputs": [
    {
     "data": {
      "text/plain": [
       "PosixPath('/content')"
      ]
     },
     "execution_count": 6,
     "metadata": {},
     "output_type": "execute_result"
    }
   ],
   "source": [
    "from pathlib import Path\n",
    "\n",
    "Path.cwd()"
   ]
  },
  {
   "cell_type": "code",
   "execution_count": null,
   "metadata": {
    "colab": {
     "base_uri": "https://localhost:8080/"
    },
    "executionInfo": {
     "elapsed": 4,
     "status": "ok",
     "timestamp": 1676973823769,
     "user": {
      "displayName": "Chet Sheng",
      "userId": "02447232751254445182"
     },
     "user_tz": 0
    },
    "id": "QYd8Pm94bY0H",
    "outputId": "27d589bc-72f2-4eef-feb5-98dcef5ee1e0"
   },
   "outputs": [
    {
     "data": {
      "text/plain": [
       "PosixPath('/content/tmp')"
      ]
     },
     "execution_count": 7,
     "metadata": {},
     "output_type": "execute_result"
    }
   ],
   "source": [
    "Path.cwd() / \"tmp\""
   ]
  },
  {
   "cell_type": "code",
   "execution_count": null,
   "metadata": {
    "colab": {
     "base_uri": "https://localhost:8080/"
    },
    "executionInfo": {
     "elapsed": 331,
     "status": "ok",
     "timestamp": 1676973993515,
     "user": {
      "displayName": "Chet Sheng",
      "userId": "02447232751254445182"
     },
     "user_tz": 0
    },
    "id": "jtWdO7yfbdih",
    "outputId": "307129fb-56ad-41cd-9189-f0861d36f9ba"
   },
   "outputs": [
    {
     "name": "stdout",
     "output_type": "stream",
     "text": [
      "/content/tmp\n"
     ]
    }
   ],
   "source": [
    "dir = Path.cwd() / \"tmp\"\n",
    "dir.mkdir(exist_ok=True)\n",
    "print(dir)"
   ]
  },
  {
   "cell_type": "code",
   "execution_count": null,
   "metadata": {
    "colab": {
     "base_uri": "https://localhost:8080/"
    },
    "executionInfo": {
     "elapsed": 323,
     "status": "ok",
     "timestamp": 1676973996606,
     "user": {
      "displayName": "Chet Sheng",
      "userId": "02447232751254445182"
     },
     "user_tz": 0
    },
    "id": "1nSdUg_YcD0X",
    "outputId": "46f0956a-a87a-4cc8-9ae8-373b863632a4"
   },
   "outputs": [
    {
     "name": "stdout",
     "output_type": "stream",
     "text": [
      "/content/tmp/tmp_file.txt\n"
     ]
    }
   ],
   "source": [
    "path = dir / \"tmp_file.txt\"\n",
    "print(path)"
   ]
  },
  {
   "cell_type": "code",
   "execution_count": null,
   "metadata": {
    "colab": {
     "base_uri": "https://localhost:8080/"
    },
    "executionInfo": {
     "elapsed": 2,
     "status": "ok",
     "timestamp": 1676974053498,
     "user": {
      "displayName": "Chet Sheng",
      "userId": "02447232751254445182"
     },
     "user_tz": 0
    },
    "id": "OAAFals8bwPo",
    "outputId": "d2a53f96-231b-4b7e-c3c6-997657370673"
   },
   "outputs": [
    {
     "data": {
      "text/plain": [
       "12"
      ]
     },
     "execution_count": 20,
     "metadata": {},
     "output_type": "execute_result"
    }
   ],
   "source": [
    "CONTENT = \"This is Chet\"\n",
    "path.write_text(CONTENT)"
   ]
  },
  {
   "cell_type": "code",
   "execution_count": null,
   "metadata": {
    "colab": {
     "base_uri": "https://localhost:8080/",
     "height": 35
    },
    "executionInfo": {
     "elapsed": 6,
     "status": "ok",
     "timestamp": 1676974056040,
     "user": {
      "displayName": "Chet Sheng",
      "userId": "02447232751254445182"
     },
     "user_tz": 0
    },
    "id": "l6GfmW1PcVhM",
    "outputId": "4e507ec8-156e-41f2-d85d-89443bea3278"
   },
   "outputs": [
    {
     "data": {
      "application/vnd.google.colaboratory.intrinsic+json": {
       "type": "string"
      },
      "text/plain": [
       "'This is Chet'"
      ]
     },
     "execution_count": 21,
     "metadata": {},
     "output_type": "execute_result"
    }
   ],
   "source": [
    "path.read_text()"
   ]
  },
  {
   "cell_type": "markdown",
   "metadata": {
    "id": "WzF8wOXr_fZR"
   },
   "source": [
    "## Multiple Files"
   ]
  },
  {
   "cell_type": "code",
   "execution_count": null,
   "metadata": {
    "id": "0QU009z-_fZT",
    "outputId": "e7ea04b4-1bd0-4ecb-c642-e392b919a3b2"
   },
   "outputs": [
    {
     "data": {
      "text/plain": [
       "'/home/huafeng/Desktop/Python_Code/Data/ProductData/*'"
      ]
     },
     "execution_count": 57,
     "metadata": {
      "tags": []
     },
     "output_type": "execute_result"
    }
   ],
   "source": [
    "path_json=os.path.realpath(os.path.join(os.path.abspath(os.path.dirname('__file__')),'Data','ProductData','*'))\n",
    "path_json"
   ]
  },
  {
   "cell_type": "code",
   "execution_count": null,
   "metadata": {
    "id": "87TstWUr_fZV",
    "outputId": "0d7f5c55-2733-4212-ae30-2b34d265fb18"
   },
   "outputs": [
    {
     "name": "stdout",
     "output_type": "stream",
     "text": [
      "glob.glob would give multiple files in a list:\n"
     ]
    },
    {
     "data": {
      "text/plain": [
       "[]"
      ]
     },
     "metadata": {
      "tags": []
     },
     "output_type": "display_data"
    },
    {
     "name": "stdout",
     "output_type": "stream",
     "text": [
      "Sorted data:\n",
      " []\n"
     ]
    }
   ],
   "source": [
    "print('glob.glob would give multiple files in a list:')\n",
    "display(glob.glob(path_json))\n",
    "print('Sorted data:\\n',np.sort(glob.glob(path_json)))"
   ]
  },
  {
   "cell_type": "markdown",
   "metadata": {
    "id": "R47v9I2X_fZW"
   },
   "source": [
    "## Pickle Save & Load"
   ]
  },
  {
   "cell_type": "code",
   "execution_count": null,
   "metadata": {
    "id": "90KA7dP4_fZX",
    "jupyter": {
     "outputs_hidden": true
    },
    "outputId": "de29ea5b-eb23-4bde-a4d3-14551fa5758e"
   },
   "outputs": [
    {
     "ename": "NameError",
     "evalue": "name 'df' is not defined",
     "output_type": "error",
     "traceback": [
      "\u001b[0;31m---------------------------------------------------------------------------\u001b[0m",
      "\u001b[0;31mNameError\u001b[0m                                 Traceback (most recent call last)",
      "\u001b[0;32m<ipython-input-63-f5adfd585c41>\u001b[0m in \u001b[0;36m<module>\u001b[0;34m\u001b[0m\n\u001b[1;32m      3\u001b[0m \u001b[0;31m# Pickle Save\u001b[0m\u001b[0;34m\u001b[0m\u001b[0;34m\u001b[0m\u001b[0;34m\u001b[0m\u001b[0m\n\u001b[1;32m      4\u001b[0m \u001b[0;32mwith\u001b[0m \u001b[0mopen\u001b[0m\u001b[0;34m(\u001b[0m \u001b[0;34m\"Data/df.p\"\u001b[0m\u001b[0;34m,\u001b[0m \u001b[0;34m\"wb\"\u001b[0m \u001b[0;34m)\u001b[0m  \u001b[0;32mas\u001b[0m \u001b[0mf\u001b[0m\u001b[0;34m:\u001b[0m\u001b[0;34m\u001b[0m\u001b[0;34m\u001b[0m\u001b[0m\n\u001b[0;32m----> 5\u001b[0;31m     \u001b[0mpickle\u001b[0m\u001b[0;34m.\u001b[0m\u001b[0mdump\u001b[0m\u001b[0;34m(\u001b[0m\u001b[0mdf\u001b[0m\u001b[0;34m,\u001b[0m \u001b[0mf\u001b[0m\u001b[0;34m)\u001b[0m\u001b[0;34m\u001b[0m\u001b[0;34m\u001b[0m\u001b[0m\n\u001b[0m\u001b[1;32m      6\u001b[0m \u001b[0;34m\u001b[0m\u001b[0m\n\u001b[1;32m      7\u001b[0m \u001b[0;31m#Pickle Load\u001b[0m\u001b[0;34m\u001b[0m\u001b[0;34m\u001b[0m\u001b[0;34m\u001b[0m\u001b[0m\n",
      "\u001b[0;31mNameError\u001b[0m: name 'df' is not defined"
     ]
    }
   ],
   "source": [
    "import pickle\n",
    "\n",
    "# Pickle Save \n",
    "with open( \"Data/df.p\", \"wb\" )  as f:\n",
    "    pickle.dump(df, f)\n",
    "\n",
    "#Pickle Load\n",
    "with open( \"Data/df.p\", \"rb\" ) as f:\n",
    "    data0=pickle.load(f)"
   ]
  },
  {
   "cell_type": "code",
   "execution_count": 1,
   "metadata": {
    "executionInfo": {
     "elapsed": 5,
     "status": "ok",
     "timestamp": 1678277162282,
     "user": {
      "displayName": "Chet Sheng",
      "userId": "02447232751254445182"
     },
     "user_tz": 0
    },
    "id": "PKPKuKK3G_Lv"
   },
   "outputs": [],
   "source": [
    "import pickle\n",
    "\n",
    "# before change\n",
    "class Person:\n",
    "    def __init__(self, name, age):\n",
    "        self.name = name\n",
    "        self.age = age\n",
    "\n",
    "# after change, this will casue pickle load problem        \n",
    "class Person:\n",
    "    def __init__(self, name, age, email):\n",
    "        self.name = name\n",
    "        self.age = age\n",
    "        self.email = email\n",
    "\n",
    "# person = Person('Alice', 30)\n",
    "person = Person('Alice', 30, \"@gmail\")"
   ]
  },
  {
   "cell_type": "code",
   "execution_count": 2,
   "metadata": {
    "executionInfo": {
     "elapsed": 4,
     "status": "ok",
     "timestamp": 1678277162282,
     "user": {
      "displayName": "Chet Sheng",
      "userId": "02447232751254445182"
     },
     "user_tz": 0
    },
    "id": "f9VZpwObHLgA"
   },
   "outputs": [],
   "source": [
    "with open(\"test.pkl\", \"wb\") as f:\n",
    "    pickle.dump(person, f)"
   ]
  },
  {
   "cell_type": "code",
   "execution_count": 3,
   "metadata": {
    "executionInfo": {
     "elapsed": 237,
     "status": "ok",
     "timestamp": 1678277175963,
     "user": {
      "displayName": "Chet Sheng",
      "userId": "02447232751254445182"
     },
     "user_tz": 0
    },
    "id": "jsPXcMVfHPoJ"
   },
   "outputs": [],
   "source": [
    "with open(\"test.pkl\", \"rb\") as f:\n",
    "    a= pickle.load(f)\n",
    "\n",
    "# 必须load前面的class才能运行pickle load, 具体的可以去问chatgpt, pickle class serialization\n",
    "# ---------------------------------------------------------------------------\n",
    "# AttributeError                            Traceback (most recent call last)\n",
    "# <ipython-input-2-46a6f7860462> in <module>\n",
    "#       1 with open(\"test.pkl\", \"rb\") as f:\n",
    "# ----> 2     a= pickle.load(f)\n",
    "\n",
    "# AttributeError: Can't get attribute 'Person' on <module '__main__'>"
   ]
  },
  {
   "cell_type": "markdown",
   "metadata": {
    "id": "075kaoWy_fZY",
    "toc-hr-collapsed": true
   },
   "source": [
    "# Functional Programming\n",
    "https://www.liaoxuefeng.com/wiki/0014316089557264a6b348958f449949df42a6d3a2e542c000/0014317848428125ae6aa24068b4c50a7e71501ab275d52000"
   ]
  },
  {
   "cell_type": "markdown",
   "metadata": {
    "id": "bPmiaawS_fZZ"
   },
   "source": [
    "## Decorator\n",
    "- https://zhuanlan.zhihu.com/p/39983849\n",
    "- 提供了一个语法糖 @，在每个被装饰的函数上方使用这个语法糖就可以省掉这一句代码 name = status(name)"
   ]
  },
  {
   "cell_type": "code",
   "execution_count": null,
   "metadata": {
    "id": "f61aAEkq_fZZ"
   },
   "outputs": [],
   "source": [
    "'''\n",
    "装饰器作用就是：german_team = guess_win(german_team)\n",
    "'''\n",
    "\n",
    "def guess_win(func):\n",
    "    def rooftop_status(*args, **kwargs):\n",
    "        result = func(*args, **kwargs)\n",
    "        print('天台已满，请排队！')\n",
    "        return result\n",
    "    return rooftop_status\n",
    "\n",
    "@guess_win\n",
    "def german_team(arg):\n",
    "    print('{}必胜！'.format(arg))\n",
    "    return '赢了会所嫩模！输了下海干活！'"
   ]
  },
  {
   "cell_type": "code",
   "execution_count": null,
   "metadata": {
    "id": "BTwhYSLM_fZb",
    "outputId": "5d516716-b5b9-4703-ccb8-754f703ca21e"
   },
   "outputs": [
    {
     "name": "stdout",
     "output_type": "stream",
     "text": [
      "德国必胜！\n",
      "天台已满，请排队！\n",
      "西班牙必胜！\n",
      "天台已满，请排队！\n"
     ]
    }
   ],
   "source": [
    "x = german_team('德国')\n",
    "y = german_team('西班牙')"
   ]
  },
  {
   "cell_type": "code",
   "execution_count": null,
   "metadata": {
    "id": "ye_Wu7GO_fZc",
    "outputId": "29376a79-068b-4a09-8b8d-5302646b03af"
   },
   "outputs": [
    {
     "name": "stdout",
     "output_type": "stream",
     "text": [
      "赢了会所嫩模！输了下海干活！\n"
     ]
    }
   ],
   "source": [
    "print(x)"
   ]
  },
  {
   "cell_type": "markdown",
   "metadata": {
    "id": "c4ATdIBHIFEv"
   },
   "source": [
    "# Object Oriented Programming - OOP\n",
    "See [Notebook](https://colab.research.google.com/drive/1SrvU7-YrSoDcbK52N3BT0RyM51DVImoj#scrollTo=eIjBumVf_QnC)"
   ]
  },
  {
   "cell_type": "markdown",
   "metadata": {
    "id": "wlPLur5otn7c"
   },
   "source": [
    "# enum"
   ]
  },
  {
   "cell_type": "code",
   "execution_count": null,
   "metadata": {
    "colab": {
     "base_uri": "https://localhost:8080/"
    },
    "executionInfo": {
     "elapsed": 4,
     "status": "ok",
     "timestamp": 1661979782459,
     "user": {
      "displayName": "Chet Sheng",
      "userId": "02447232751254445182"
     },
     "user_tz": -60
    },
    "id": "ANoRfQo-tpjB",
    "outputId": "0a404042-e737-43ce-f546-136b449affdf"
   },
   "outputs": [
    {
     "name": "stdout",
     "output_type": "stream",
     "text": [
      "Sequences.list\n",
      "tuple\n",
      "3\n"
     ]
    }
   ],
   "source": [
    "from enum import Enum\n",
    "\n",
    "class Sequences(Enum): # We create the class Sequences, the parent class \n",
    "    list = 1 # of which is an Enum class\n",
    "    tuple = 2\n",
    "    dict = 3\n",
    "print(Sequences.list) # print the values\n",
    "print(Sequences.tuple.name)\n",
    "print(Sequences.dict.value)\n"
   ]
  },
  {
   "cell_type": "code",
   "execution_count": null,
   "metadata": {
    "colab": {
     "base_uri": "https://localhost:8080/"
    },
    "executionInfo": {
     "elapsed": 6,
     "status": "ok",
     "timestamp": 1661979786436,
     "user": {
      "displayName": "Chet Sheng",
      "userId": "02447232751254445182"
     },
     "user_tz": -60
    },
    "id": "QOr-BBijtvMZ",
    "outputId": "44124357-14af-4801-f157-30033a3811cc"
   },
   "outputs": [
    {
     "data": {
      "text/plain": [
       "<Sequences.list: 1>"
      ]
     },
     "execution_count": 2,
     "metadata": {},
     "output_type": "execute_result"
    }
   ],
   "source": [
    "Sequences.list"
   ]
  },
  {
   "cell_type": "markdown",
   "metadata": {
    "id": "8_Yq9duEuINL"
   },
   "source": [
    "The programmer may not prescribe element values, instead he may use the `auto()` function, which automatically assigns a value of “1” to an element and one more to each subsequent one:"
   ]
  },
  {
   "cell_type": "code",
   "execution_count": null,
   "metadata": {
    "id": "6CfSJtHRt5vd"
   },
   "outputs": [],
   "source": [
    "from enum import Enum, auto\n",
    "class Sequences(Enum):\n",
    "    list = auto() # 1\n",
    "    tuple = auto() # 1 + 1 = 2\n",
    "    dict = auto() # 2 + 1 = 3\n"
   ]
  },
  {
   "cell_type": "code",
   "execution_count": null,
   "metadata": {
    "colab": {
     "base_uri": "https://localhost:8080/"
    },
    "executionInfo": {
     "elapsed": 459,
     "status": "ok",
     "timestamp": 1661979861540,
     "user": {
      "displayName": "Chet Sheng",
      "userId": "02447232751254445182"
     },
     "user_tz": -60
    },
    "id": "d6AzrKzpt9E7",
    "outputId": "f1fce307-6242-4254-d057-54cc3255702a"
   },
   "outputs": [
    {
     "data": {
      "text/plain": [
       "<Sequences.list: 1>"
      ]
     },
     "execution_count": 6,
     "metadata": {},
     "output_type": "execute_result"
    }
   ],
   "source": [
    "Sequences.list"
   ]
  },
  {
   "cell_type": "code",
   "execution_count": null,
   "metadata": {
    "colab": {
     "base_uri": "https://localhost:8080/"
    },
    "executionInfo": {
     "elapsed": 397,
     "status": "ok",
     "timestamp": 1661979869274,
     "user": {
      "displayName": "Chet Sheng",
      "userId": "02447232751254445182"
     },
     "user_tz": -60
    },
    "id": "8UpZKdKOuCXM",
    "outputId": "46fae015-d4c9-49b4-918d-69a04020edf9"
   },
   "outputs": [
    {
     "data": {
      "text/plain": [
       "<Sequences.tuple: 2>"
      ]
     },
     "execution_count": 7,
     "metadata": {},
     "output_type": "execute_result"
    }
   ],
   "source": [
    "Sequences.tuple"
   ]
  },
  {
   "cell_type": "code",
   "execution_count": null,
   "metadata": {
    "colab": {
     "base_uri": "https://localhost:8080/"
    },
    "executionInfo": {
     "elapsed": 398,
     "status": "ok",
     "timestamp": 1661979873465,
     "user": {
      "displayName": "Chet Sheng",
      "userId": "02447232751254445182"
     },
     "user_tz": -60
    },
    "id": "mJmDhUJcuDs1",
    "outputId": "91cc42e1-5258-4619-fd56-79c33cb51a41"
   },
   "outputs": [
    {
     "data": {
      "text/plain": [
       "<Sequences.dict: 3>"
      ]
     },
     "execution_count": 8,
     "metadata": {},
     "output_type": "execute_result"
    }
   ],
   "source": [
    "Sequences.dict"
   ]
  },
  {
   "cell_type": "code",
   "execution_count": null,
   "metadata": {
    "colab": {
     "base_uri": "https://localhost:8080/"
    },
    "executionInfo": {
     "elapsed": 364,
     "status": "ok",
     "timestamp": 1661979928153,
     "user": {
      "displayName": "Chet Sheng",
      "userId": "02447232751254445182"
     },
     "user_tz": -60
    },
    "id": "QNt1i9tquR1t",
    "outputId": "aec67db0-4992-480a-a387-c30c9c1a9891"
   },
   "outputs": [
    {
     "name": "stdout",
     "output_type": "stream",
     "text": [
      "Num.one\n",
      "Num.two\n",
      "Num.three\n"
     ]
    }
   ],
   "source": [
    "# Iteration Support\n",
    "\n",
    "from enum import Enum\n",
    "class Num(Enum):\n",
    "    one = 1\n",
    "    two = 2\n",
    "    three = 3\n",
    "for n in Num:\n",
    "    print(n)"
   ]
  },
  {
   "cell_type": "code",
   "execution_count": null,
   "metadata": {
    "colab": {
     "base_uri": "https://localhost:8080/"
    },
    "executionInfo": {
     "elapsed": 400,
     "status": "ok",
     "timestamp": 1661980071650,
     "user": {
      "displayName": "Chet Sheng",
      "userId": "02447232751254445182"
     },
     "user_tz": -60
    },
    "id": "Q8r5ttHGupXG",
    "outputId": "ce311f23-73a7-42c5-a461-57753b604cf5"
   },
   "outputs": [
    {
     "name": "stdout",
     "output_type": "stream",
     "text": [
      "<SectionType.ABSTRACT: 'abstract'>\n",
      "<SectionType.BODY: 'body'>\n"
     ]
    }
   ],
   "source": [
    "class SectionType(str, Enum):\n",
    "    ABSTRACT: str = \"abstract\"\n",
    "    BODY: str = \"body\"\n",
    "\n",
    "print(repr(SectionType.ABSTRACT))\n",
    "print(repr(SectionType.BODY))"
   ]
  },
  {
   "cell_type": "code",
   "execution_count": null,
   "metadata": {
    "colab": {
     "base_uri": "https://localhost:8080/"
    },
    "executionInfo": {
     "elapsed": 346,
     "status": "ok",
     "timestamp": 1661980083583,
     "user": {
      "displayName": "Chet Sheng",
      "userId": "02447232751254445182"
     },
     "user_tz": -60
    },
    "id": "52KviHAgu2cK",
    "outputId": "4c97d774-cf52-45b6-94e0-025aa380a9ae"
   },
   "outputs": [
    {
     "name": "stdout",
     "output_type": "stream",
     "text": [
      "SectionType.ABSTRACT\n",
      "SectionType.BODY\n"
     ]
    }
   ],
   "source": [
    "for i in SectionType:\n",
    "    print(i)"
   ]
  },
  {
   "cell_type": "code",
   "execution_count": null,
   "metadata": {
    "colab": {
     "base_uri": "https://localhost:8080/",
     "height": 35
    },
    "executionInfo": {
     "elapsed": 442,
     "status": "ok",
     "timestamp": 1661980105499,
     "user": {
      "displayName": "Chet Sheng",
      "userId": "02447232751254445182"
     },
     "user_tz": -60
    },
    "id": "LXf9SjIDu8-Z",
    "outputId": "bd48aa09-63fc-4579-99bd-641f24637233"
   },
   "outputs": [
    {
     "data": {
      "application/vnd.google.colaboratory.intrinsic+json": {
       "type": "string"
      },
      "text/plain": [
       "<SectionType.BODY: 'body'>"
      ]
     },
     "execution_count": 20,
     "metadata": {},
     "output_type": "execute_result"
    }
   ],
   "source": [
    "i"
   ]
  },
  {
   "cell_type": "code",
   "execution_count": null,
   "metadata": {
    "colab": {
     "base_uri": "https://localhost:8080/"
    },
    "executionInfo": {
     "elapsed": 4,
     "status": "ok",
     "timestamp": 1661980116540,
     "user": {
      "displayName": "Chet Sheng",
      "userId": "02447232751254445182"
     },
     "user_tz": -60
    },
    "id": "eMHC-K3Eu9gn",
    "outputId": "f0811542-fd34-4874-dd05-4cb5068a843a"
   },
   "outputs": [
    {
     "name": "stdout",
     "output_type": "stream",
     "text": [
      "BODY\n",
      "body\n"
     ]
    }
   ],
   "source": [
    "print(i.name)\n",
    "print(i.value)"
   ]
  },
  {
   "cell_type": "markdown",
   "metadata": {
    "id": "TEtMfL-V_fav"
   },
   "source": [
    "# Terminal"
   ]
  },
  {
   "cell_type": "markdown",
   "metadata": {
    "id": "277mn8H-_fav"
   },
   "source": [
    "In this case, the top-level code is an if block.  __name__ is a built-in variable which evaluates to the name of the current module. However, if a module is being run directly (as in myscript.py above), then __name__ instead is set to the string \"__main__\". Thus, you can test whether your script is being run directly or being imported by something else by testing"
   ]
  },
  {
   "cell_type": "code",
   "execution_count": null,
   "metadata": {
    "id": "l7V_99tl_faw",
    "jupyter": {
     "outputs_hidden": true
    }
   },
   "outputs": [],
   "source": [
    "# avoid the script to be run if it is imported.\n",
    "if __name__ == \"__main__\":\n",
    "  main()\n",
    "  "
   ]
  },
  {
   "cell_type": "markdown",
   "metadata": {
    "id": "WBZmTDoz_faw"
   },
   "source": [
    "This will open this file and enter python environment:"
   ]
  },
  {
   "cell_type": "code",
   "execution_count": null,
   "metadata": {
    "id": "6M8nkJAF_fax",
    "jupyter": {
     "outputs_hidden": true
    }
   },
   "outputs": [],
   "source": [
    "python3 -i file.py"
   ]
  }
 ],
 "metadata": {
  "colab": {
   "collapsed_sections": [
    "IaNffKvz_fXs",
    "JVp_k3WU_fX-",
    "wQ5u4x7s_fYH",
    "8uhA1VhA_fYh",
    "ZfN4o1YK_fYm",
    "x_6Pe6Gg_fYv",
    "Sw9I1AeB_fY7",
    "GmalkcWG_fY_",
    "bpD0WV7i_fZC",
    "WcsrmmeD_fZF"
   ],
   "provenance": [],
   "toc_visible": true
  },
  "kernelspec": {
   "display_name": "Python 3",
   "language": "python",
   "name": "python3"
  },
  "language_info": {
   "codemirror_mode": {
    "name": "ipython",
    "version": 3
   },
   "file_extension": ".py",
   "mimetype": "text/x-python",
   "name": "python",
   "nbconvert_exporter": "python",
   "pygments_lexer": "ipython3",
   "version": "3.6.8"
  },
  "pycharm": {
   "stem_cell": {
    "cell_type": "raw",
    "metadata": {
     "collapsed": false
    },
    "source": []
   }
  },
  "toc": {
   "base_numbering": 1,
   "nav_menu": {
    "height": "396px",
    "width": "195px"
   },
   "number_sections": true,
   "sideBar": true,
   "skip_h1_title": false,
   "title_cell": "Table of Contents",
   "title_sidebar": "Contents",
   "toc_cell": true,
   "toc_position": {
    "height": "850px",
    "left": "0px",
    "right": "1458px",
    "top": "111px",
    "width": "296px"
   },
   "toc_section_display": "block",
   "toc_window_display": true
  },
  "toc-autonumbering": true,
  "toc-showcode": false,
  "toc-showmarkdowntxt": false,
  "toc-showtags": false
 },
 "nbformat": 4,
 "nbformat_minor": 0
}
