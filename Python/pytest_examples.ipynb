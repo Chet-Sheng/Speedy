{
 "cells": [
  {
   "cell_type": "markdown",
   "metadata": {
    "id": "d-QMzqo-VNnh"
   },
   "source": [
    "# Pytest Examples\n",
    "- This notebook summarise some commonly used pytest features\n",
    "- Exhaustice Pytest Examples see [Official Doc](https://docs.pytest.org/en/stable/example/index.html)"
   ]
  },
  {
   "cell_type": "code",
   "execution_count": null,
   "metadata": {
    "colab": {
     "base_uri": "https://localhost:8080/"
    },
    "executionInfo": {
     "elapsed": 504,
     "status": "ok",
     "timestamp": 1605624664660,
     "user": {
      "displayName": "Chet Sheng",
      "photoUrl": "https://lh3.googleusercontent.com/a-/AOh14Gjy_Dk7Ahwv2lZiGE0sUFyBO_xe7OiTtIJ9Qlezaw=s64",
      "userId": "02447232751254445182"
     },
     "user_tz": 0
    },
    "id": "Msyp8QEGr-76",
    "outputId": "9b4ba37a-4d8f-4847-bf05-fbd2d7a5c1f9"
   },
   "outputs": [
    {
     "name": "stdout",
     "output_type": "stream",
     "text": [
      "Python 3.6.9\n"
     ]
    }
   ],
   "source": [
    "!python -V"
   ]
  },
  {
   "cell_type": "markdown",
   "metadata": {
    "id": "GYoC8sVmrYr9"
   },
   "source": [
    "## Pytest with pdb"
   ]
  },
  {
   "cell_type": "code",
   "execution_count": null,
   "metadata": {
    "id": "lwxBICZq3TTu"
   },
   "outputs": [],
   "source": [
    "import pytest"
   ]
  },
  {
   "cell_type": "code",
   "execution_count": null,
   "metadata": {
    "colab": {
     "base_uri": "https://localhost:8080/"
    },
    "executionInfo": {
     "elapsed": 564,
     "status": "ok",
     "timestamp": 1605624243365,
     "user": {
      "displayName": "Chet Sheng",
      "photoUrl": "https://lh3.googleusercontent.com/a-/AOh14Gjy_Dk7Ahwv2lZiGE0sUFyBO_xe7OiTtIJ9Qlezaw=s64",
      "userId": "02447232751254445182"
     },
     "user_tz": 0
    },
    "id": "zV2JFIa7pR_N",
    "outputId": "2f8f7965-9963-40c3-bf9b-c0416b5ea1a8"
   },
   "outputs": [
    {
     "name": "stdout",
     "output_type": "stream",
     "text": [
      "Overwriting example_0.py\n"
     ]
    }
   ],
   "source": [
    "%%writefile example_0.py\n",
    "def my_sum(a, b):\n",
    "  c = a + b\n",
    "  return c"
   ]
  },
  {
   "cell_type": "code",
   "execution_count": null,
   "metadata": {
    "colab": {
     "base_uri": "https://localhost:8080/"
    },
    "executionInfo": {
     "elapsed": 925,
     "status": "ok",
     "timestamp": 1605624387887,
     "user": {
      "displayName": "Chet Sheng",
      "photoUrl": "https://lh3.googleusercontent.com/a-/AOh14Gjy_Dk7Ahwv2lZiGE0sUFyBO_xe7OiTtIJ9Qlezaw=s64",
      "userId": "02447232751254445182"
     },
     "user_tz": 0
    },
    "id": "x4rwKMFYphZH",
    "outputId": "897586a9-aa8e-4bba-b2df-5cf8dac93647"
   },
   "outputs": [
    {
     "name": "stdout",
     "output_type": "stream",
     "text": [
      "Overwriting test_example_0.py\n"
     ]
    }
   ],
   "source": [
    "%%writefile test_example_0.py\n",
    "\n",
    "from example_0 import my_sum\n",
    "\n",
    "def test_my_sum():\n",
    "  res1 = my_sum(1, 2)\n",
    "  import pdb; pdb.set_trace() # use breakpint() if >= python 3.7\n",
    "  res2 = my_sum(1, 3)\n",
    "  import pdb; pdb.set_trace()\n",
    "  assert res1 == 3\n",
    "  assert res2 == 4\n"
   ]
  },
  {
   "cell_type": "code",
   "execution_count": null,
   "metadata": {
    "colab": {
     "base_uri": "https://localhost:8080/"
    },
    "executionInfo": {
     "elapsed": 40964,
     "status": "ok",
     "timestamp": 1605624429153,
     "user": {
      "displayName": "Chet Sheng",
      "photoUrl": "https://lh3.googleusercontent.com/a-/AOh14Gjy_Dk7Ahwv2lZiGE0sUFyBO_xe7OiTtIJ9Qlezaw=s64",
      "userId": "02447232751254445182"
     },
     "user_tz": 0
    },
    "id": "bglonfLFqK_S",
    "outputId": "4a2be4fa-b229-4290-e76a-f1143f86aa34"
   },
   "outputs": [
    {
     "name": "stdout",
     "output_type": "stream",
     "text": [
      "\u001b[1m============================= test session starts ==============================\u001b[0m\n",
      "platform linux2 -- Python 2.7.17, pytest-3.6.4, py-1.8.0, pluggy-0.7.1\n",
      "rootdir: /content, inifile:\n",
      "\u001b[1m\rcollecting 0 items                                                             \u001b[0m\u001b[1m\rcollecting 1 item                                                              \u001b[0m\u001b[1m\rcollected 1 item                                                               \u001b[0m\n",
      "\n",
      "test_example_0.py \n",
      ">>>>>>>>>>>>>>>>>>> PDB set_trace (IO-capturing turned off) >>>>>>>>>>>>>>>>>>>>\n",
      "> /content/test_example_0.py(7)test_my_sum()\n",
      "-> res2 = my_sum(1, 3)\n",
      "(Pdb) ll\n",
      "*** NameError: name 'll' is not defined\n",
      "(Pdb) l\n",
      "  2  \tfrom example_0 import my_sum\n",
      "  3  \t\n",
      "  4  \tdef test_my_sum():\n",
      "  5  \t  res1 = my_sum(1, 2)\n",
      "  6  \t  import pdb; pdb.set_trace()\n",
      "  7  ->\t  res2 = my_sum(1, 3)\n",
      "  8  \t  import pdb; pdb.set_trace()\n",
      "  9  \t  assert res1 == 3\n",
      " 10  \t  assert res2 == 4\n",
      "[EOF]\n",
      "(Pdb) res1\n",
      "3\n",
      "(Pdb) res2\n",
      "*** NameError: name 'res2' is not defined\n",
      "(Pdb) res1\n",
      "3\n",
      "(Pdb) c\n",
      "\n",
      ">>>>>>>>>>>>>>>>>>> PDB set_trace (IO-capturing turned off) >>>>>>>>>>>>>>>>>>>>\n",
      "> /content/test_example_0.py(9)test_my_sum()\n",
      "-> assert res1 == 3\n",
      "(Pdb) l\n",
      "  4  \tdef test_my_sum():\n",
      "  5  \t  res1 = my_sum(1, 2)\n",
      "  6  \t  import pdb; pdb.set_trace()\n",
      "  7  \t  res2 = my_sum(1, 3)\n",
      "  8  \t  import pdb; pdb.set_trace()\n",
      "  9  ->\t  assert res1 == 3\n",
      " 10  \t  assert res2 == 4\n",
      "[EOF]\n",
      "(Pdb) res2\n",
      "4\n",
      "(Pdb) c\n",
      ".\u001b[36m                                                      [100%]\u001b[0m\n",
      "\n",
      "\u001b[32m\u001b[1m========================== 1 passed in 39.85 seconds ===========================\u001b[0m\n"
     ]
    }
   ],
   "source": [
    "!pytest -k test_example_0 --pdb"
   ]
  },
  {
   "cell_type": "markdown",
   "metadata": {
    "id": "R9JoYtmK3IXx"
   },
   "source": [
    "# [Pytest Fixture](https://realpython.com/pytest-python-testing/#fixtures-managing-state-and-dependencies)\n",
    "\n",
    "- pytest fixtures are a way of providing data, test doubles, or state setup to your tests. \n",
    "- Fixtures are functions that can return a wide range of values. \n",
    "- Each test that depends on a fixture must explicitly accept that fixture as an argument."
   ]
  },
  {
   "cell_type": "markdown",
   "metadata": {
    "id": "qcPQ1yqtVLmm"
   },
   "source": [
    "## [Fixtures as Function arguments](https://docs.pytest.org/en/stable/fixture.html#fixtures-as-function-arguments)\n",
    "Test functions can receive fixture objects by naming them as an input argument. For each argument name, a fixture function with that name provides the fixture object. \n",
    "\n",
    "\n",
    "Fixture functions are registered by marking them with `@pytest.fixture`. "
   ]
  },
  {
   "cell_type": "code",
   "execution_count": null,
   "metadata": {
    "colab": {
     "base_uri": "https://localhost:8080/"
    },
    "executionInfo": {
     "elapsed": 883,
     "status": "ok",
     "timestamp": 1605461269262,
     "user": {
      "displayName": "Chet Sheng",
      "photoUrl": "https://lh3.googleusercontent.com/a-/AOh14Gjy_Dk7Ahwv2lZiGE0sUFyBO_xe7OiTtIJ9Qlezaw=s64",
      "userId": "02447232751254445182"
     },
     "user_tz": 0
    },
    "id": "n-uMo8TP3RR2",
    "outputId": "318e7de4-9bd3-44c1-82df-bbd5a62df1a8"
   },
   "outputs": [
    {
     "name": "stdout",
     "output_type": "stream",
     "text": [
      "Overwriting sample.py\n"
     ]
    }
   ],
   "source": [
    "# %%writefile sample.py\n",
    "def format_data_for_display(people):\n",
    "  result = []\n",
    "  for i in people:\n",
    "    # s = f\"{i['given_name']} {i['family_name']}: {i['title']}\"  # fstring doesn' work well in pytest/unittest\n",
    "    s = \"%s %s: %s\"%(i['given_name'], i['family_name'], i['title'])\n",
    "    result.append(s)\n",
    "  return result\n",
    "\n",
    "\n",
    "def format_data_for_excel(people):\n",
    "  result_list = []\n",
    "\n",
    "  header = \",\".join(people[0].keys())\n",
    "  result_list.append(header)\n",
    "  \n",
    "  header = \",\".join(people[0].keys())\n",
    "  for i in people:\n",
    "    line = \",\".join(i.values())\n",
    "    result_list.append(line)\n",
    "  result = \"\\n\".join(result_list)\n",
    "  return result\n"
   ]
  },
  {
   "cell_type": "code",
   "execution_count": null,
   "metadata": {
    "colab": {
     "base_uri": "https://localhost:8080/"
    },
    "executionInfo": {
     "elapsed": 1033,
     "status": "ok",
     "timestamp": 1605463582778,
     "user": {
      "displayName": "Chet Sheng",
      "photoUrl": "https://lh3.googleusercontent.com/a-/AOh14Gjy_Dk7Ahwv2lZiGE0sUFyBO_xe7OiTtIJ9Qlezaw=s64",
      "userId": "02447232751254445182"
     },
     "user_tz": 0
    },
    "id": "E-m6trtv3R1v",
    "outputId": "7f94b00f-e586-46ae-d234-dec677d9df0c"
   },
   "outputs": [
    {
     "name": "stdout",
     "output_type": "stream",
     "text": [
      "Overwriting test_sample.py\n"
     ]
    }
   ],
   "source": [
    "# %%writefile test_sample.py\n",
    "from collections import OrderedDict\n",
    "\n",
    "import pytest\n",
    "from sample import format_data_for_display, format_data_for_excel\n",
    "\n",
    "@pytest.fixture\n",
    "def example_people_data():\n",
    "    # use OrderedDict to avoid errors caused by dictionary orders\n",
    "    d1 = OrderedDict([(\"given_name\", \"Alfonsa\"), \n",
    "                      (\"family_name\", \"Ruiz\"), \n",
    "                      (\"title\", \"Senior Software Engineer\")\n",
    "                      ])\n",
    "    \n",
    "    d2 = OrderedDict(\n",
    "        [\n",
    "         (\"given_name\", \"Sayid\"),\n",
    "         (\"family_name\", \"Khan\"),\n",
    "         (\"title\", \"Project Manager\"),\n",
    "        ]\n",
    "    )\n",
    "    return [d1, d2]\n",
    "\n",
    "\n",
    "# You can use the fixture by adding it as an argument to your tests. Its value will be the return value of the fixture function:\n",
    "def test_format_data_for_display(example_people_data):\n",
    "  res = [\"Alfonsa Ruiz: Senior Software Engineer\", \"Sayid Khan: Project Manager\"]\n",
    "  assert format_data_for_display(example_people_data) == res\n",
    "\n",
    "\n",
    "def test_format_data_for_excel(example_people_data):\n",
    "    res = \"given_name,family_name,title\\n\"\\\n",
    "    \"Alfonsa,Ruiz,Senior Software Engineer\\n\"\\\n",
    "    \"Sayid,Khan,Project Manager\"\n",
    "    # assert 0 \n",
    "    assert format_data_for_excel(example_people_data) == res"
   ]
  },
  {
   "cell_type": "code",
   "execution_count": null,
   "metadata": {
    "colab": {
     "base_uri": "https://localhost:8080/"
    },
    "executionInfo": {
     "elapsed": 1365,
     "status": "ok",
     "timestamp": 1605463583504,
     "user": {
      "displayName": "Chet Sheng",
      "photoUrl": "https://lh3.googleusercontent.com/a-/AOh14Gjy_Dk7Ahwv2lZiGE0sUFyBO_xe7OiTtIJ9Qlezaw=s64",
      "userId": "02447232751254445182"
     },
     "user_tz": 0
    },
    "id": "86yFCRTnxe3o",
    "outputId": "83332a40-e9cd-442e-e366-5e4cd5e1b6cc"
   },
   "outputs": [
    {
     "name": "stdout",
     "output_type": "stream",
     "text": [
      "\u001b[1m============================= test session starts ==============================\u001b[0m\n",
      "platform linux2 -- Python 2.7.17, pytest-3.6.4, py-1.8.0, pluggy-0.7.1\n",
      "rootdir: /content, inifile:\n",
      "\u001b[1m\rcollecting 0 items                                                             \u001b[0m\u001b[1m\rcollecting 2 items                                                             \u001b[0m\u001b[1m\rcollected 2 items                                                              \u001b[0m\n",
      "\n",
      "test_sample.py ..\u001b[36m                                                        [100%]\u001b[0m\n",
      "\n",
      "\u001b[32m\u001b[1m=========================== 2 passed in 0.02 seconds ===========================\u001b[0m\n"
     ]
    }
   ],
   "source": [
    "!python3 -m pytest -k test_sample"
   ]
  },
  {
   "cell_type": "markdown",
   "metadata": {
    "id": "PKiUXgbTdE_7"
   },
   "source": [
    "## [`tmp_path` Fixture Example](https://pytest.org/en/7.2.x/how-to/tmp_path.html)"
   ]
  },
  {
   "cell_type": "code",
   "execution_count": 9,
   "metadata": {
    "colab": {
     "base_uri": "https://localhost:8080/"
    },
    "executionInfo": {
     "elapsed": 4,
     "status": "ok",
     "timestamp": 1676974456776,
     "user": {
      "displayName": "Chet Sheng",
      "userId": "02447232751254445182"
     },
     "user_tz": 0
    },
    "id": "4AuHtPpxdH1k",
    "outputId": "feefd1cb-8b9a-490d-d081-e3213456a196"
   },
   "outputs": [
    {
     "name": "stdout",
     "output_type": "stream",
     "text": [
      "Overwriting test_tmp_path.py\n"
     ]
    }
   ],
   "source": [
    "%%writefile test_tmp_path.py\n",
    "import pytest\n",
    "CONTENT = \"content\"\n",
    "\n",
    "\n",
    "def test_create_file(tmp_path):\n",
    "    dir = tmp_path / \"sub\"\n",
    "    dir.mkdir()\n",
    "    path = dir / \"hello.txt\"\n",
    "    path.write_text(CONTENT)\n",
    "    assert path.read_text() == CONTENT\n",
    "    assert len(list(tmp_path.iterdir())) == 1"
   ]
  },
  {
   "cell_type": "code",
   "execution_count": 10,
   "metadata": {
    "colab": {
     "base_uri": "https://localhost:8080/"
    },
    "executionInfo": {
     "elapsed": 918,
     "status": "ok",
     "timestamp": 1676974459002,
     "user": {
      "displayName": "Chet Sheng",
      "userId": "02447232751254445182"
     },
     "user_tz": 0
    },
    "id": "5KOXlKUXdWi5",
    "outputId": "549f1846-36d7-4deb-977b-6630c77369a2"
   },
   "outputs": [
    {
     "name": "stdout",
     "output_type": "stream",
     "text": [
      "\u001b[1m============================= test session starts ==============================\u001b[0m\n",
      "platform linux -- Python 3.8.10, pytest-3.6.4, py-1.11.0, pluggy-0.7.1\n",
      "rootdir: /content, inifile:\n",
      "plugins: typeguard-2.7.1\n",
      "\u001b[1m\rcollecting 0 items                                                             \u001b[0m\u001b[1m\rcollecting 1 item                                                              \u001b[0m\u001b[1m\rcollected 1 item                                                               \u001b[0m\n",
      "\n",
      "test_tmp_path.py E\u001b[36m                                                       [100%]\u001b[0m\n",
      "\n",
      "==================================== ERRORS ====================================\n",
      "______________________ ERROR at setup of test_create_file ______________________\n",
      "file /content/test_tmp_path.py, line 5\n",
      "  def test_create_file(tmp_path):\n",
      "\u001b[31mE       fixture 'tmp_path' not found\u001b[0m\n",
      "\u001b[31m>       available fixtures: cache, capfd, capfdbinary, caplog, capsys, capsysbinary, doctest_namespace, monkeypatch, pytestconfig, record_property, record_xml_attribute, record_xml_property, recwarn, tmpdir, tmpdir_factory\u001b[0m\n",
      "\u001b[31m>       use 'pytest --fixtures [testpath]' for help on them.\u001b[0m\n",
      "\n",
      "/content/test_tmp_path.py:5\n",
      "\u001b[31m\u001b[1m=========================== 1 error in 0.03 seconds ============================\u001b[0m\n"
     ]
    }
   ],
   "source": [
    "!python3 -m pytest -k test_tmp_path"
   ]
  },
  {
   "cell_type": "markdown",
   "metadata": {
    "id": "VHCdXI4kPNgx"
   },
   "source": [
    "# Monkeypatch Fixture\n",
    "- monkeypatch is a **pytest `fixture`**"
   ]
  },
  {
   "cell_type": "markdown",
   "metadata": {
    "id": "Eo2ZjsVfRKCA"
   },
   "source": [
    "## [Monkeypatching functions](https://docs.pytest.org/en/stable/monkeypatch.html#simple-example-monkeypatching-functions)\n",
    "- Use `monkeypatch.setattr` to patch the __function__ or __property__ with your desired testing behavior"
   ]
  },
  {
   "cell_type": "code",
   "execution_count": null,
   "metadata": {
    "colab": {
     "base_uri": "https://localhost:8080/"
    },
    "executionInfo": {
     "elapsed": 979,
     "status": "ok",
     "timestamp": 1619645723911,
     "user": {
      "displayName": "Chet Sheng",
      "photoUrl": "https://lh3.googleusercontent.com/a-/AOh14Gjy_Dk7Ahwv2lZiGE0sUFyBO_xe7OiTtIJ9Qlezaw=s64",
      "userId": "02447232751254445182"
     },
     "user_tz": -60
    },
    "id": "YeMohcq6PNKR",
    "outputId": "7d49d200-d0e5-4042-c56d-ae39cb8afa11"
   },
   "outputs": [
    {
     "name": "stdout",
     "output_type": "stream",
     "text": [
      "/chet\n",
      "/root\n",
      "/root/.ssh\n"
     ]
    }
   ],
   "source": [
    "# quick example run to show outputs\n",
    "from pathlib import Path\n",
    "\n",
    "print(Path(\"/chet\"))\n",
    "print(Path.home())\n",
    "print(Path.home() / \".ssh\")"
   ]
  },
  {
   "cell_type": "code",
   "execution_count": null,
   "metadata": {
    "colab": {
     "base_uri": "https://localhost:8080/"
    },
    "executionInfo": {
     "elapsed": 1360,
     "status": "ok",
     "timestamp": 1619645669420,
     "user": {
      "displayName": "Chet Sheng",
      "photoUrl": "https://lh3.googleusercontent.com/a-/AOh14Gjy_Dk7Ahwv2lZiGE0sUFyBO_xe7OiTtIJ9Qlezaw=s64",
      "userId": "02447232751254445182"
     },
     "user_tz": -60
    },
    "id": "5FOKEoKsYsWc",
    "outputId": "2f2a324f-8795-447e-e720-36bf6d498e31"
   },
   "outputs": [
    {
     "name": "stdout",
     "output_type": "stream",
     "text": [
      "Writing ssh.py\n"
     ]
    }
   ],
   "source": [
    "# %%writefile ssh.py\n",
    "from pathlib import Path\n",
    "\n",
    "def getssh():\n",
    "    \"\"\"Simple function to return expanded homedir ssh path.\"\"\"\n",
    "    return Path.home() / \".ssh\""
   ]
  },
  {
   "cell_type": "code",
   "execution_count": null,
   "metadata": {
    "colab": {
     "base_uri": "https://localhost:8080/"
    },
    "executionInfo": {
     "elapsed": 4772,
     "status": "ok",
     "timestamp": 1619646081437,
     "user": {
      "displayName": "Chet Sheng",
      "photoUrl": "https://lh3.googleusercontent.com/a-/AOh14Gjy_Dk7Ahwv2lZiGE0sUFyBO_xe7OiTtIJ9Qlezaw=s64",
      "userId": "02447232751254445182"
     },
     "user_tz": -60
    },
    "id": "epGYZbuhZ55F",
    "outputId": "6f31cc96-07e9-4c63-8657-0fbf29f4e863"
   },
   "outputs": [
    {
     "name": "stdout",
     "output_type": "stream",
     "text": [
      "Overwriting test_ssh.py\n"
     ]
    }
   ],
   "source": [
    "# %%writefile test_ssh.py\n",
    "from pathlib import Path\n",
    "\n",
    "from ssh import getssh\n",
    "\n",
    "def test_getssh(monkeypatch):\n",
    "    \n",
    "    # mocked return function to replace Path.home\n",
    "    def mockreturn():\n",
    "        return Path(\"/abc\")  # output: '/abc'\n",
    "\n",
    "    # patch `Path.home` by `mockreturn`:\n",
    "    monkeypatch.setattr(Path, \"home\", mockreturn)\n",
    "\n",
    "    # Calling getssh() will use mockreturn in place of `Path.home` for this test with the monkeypatch.\n",
    "    x = getssh()\n",
    "    assert x == Path(\"/abc/.ssh\")"
   ]
  },
  {
   "cell_type": "code",
   "execution_count": null,
   "metadata": {
    "colab": {
     "base_uri": "https://localhost:8080/"
    },
    "executionInfo": {
     "elapsed": 1036,
     "status": "ok",
     "timestamp": 1619646085143,
     "user": {
      "displayName": "Chet Sheng",
      "photoUrl": "https://lh3.googleusercontent.com/a-/AOh14Gjy_Dk7Ahwv2lZiGE0sUFyBO_xe7OiTtIJ9Qlezaw=s64",
      "userId": "02447232751254445182"
     },
     "user_tz": -60
    },
    "id": "VoEgXknOadHo",
    "outputId": "c754c2e0-a2ba-48ae-e090-b101d7585a47"
   },
   "outputs": [
    {
     "name": "stdout",
     "output_type": "stream",
     "text": [
      "\u001b[1m============================= test session starts ==============================\u001b[0m\n",
      "platform linux -- Python 3.7.10, pytest-3.6.4, py-1.10.0, pluggy-0.7.1\n",
      "rootdir: /content, inifile:\n",
      "plugins: typeguard-2.7.1\n",
      "\u001b[1m\rcollecting 0 items                                                             \u001b[0m\u001b[1m\rcollecting 1 item                                                              \u001b[0m\u001b[1m\rcollected 1 item                                                               \u001b[0m\n",
      "\n",
      "test_ssh.py .\u001b[36m                                                            [100%]\u001b[0m\n",
      "\n",
      "\u001b[32m\u001b[1m=========================== 1 passed in 0.03 seconds ===========================\u001b[0m\n"
     ]
    }
   ],
   "source": [
    "!python3 -m pytest -k test_ssh"
   ]
  },
  {
   "cell_type": "markdown",
   "metadata": {
    "id": "pBqOaBU7cjEQ"
   },
   "source": [
    "### [More example: build mock classes](https://docs.pytest.org/en/stable/monkeypatch.html#monkeypatching-returned-objects-building-mock-classes)"
   ]
  },
  {
   "cell_type": "code",
   "execution_count": null,
   "metadata": {
    "colab": {
     "base_uri": "https://localhost:8080/"
    },
    "executionInfo": {
     "elapsed": 426,
     "status": "ok",
     "timestamp": 1619646404821,
     "user": {
      "displayName": "Chet Sheng",
      "photoUrl": "https://lh3.googleusercontent.com/a-/AOh14Gjy_Dk7Ahwv2lZiGE0sUFyBO_xe7OiTtIJ9Qlezaw=s64",
      "userId": "02447232751254445182"
     },
     "user_tz": -60
    },
    "id": "AVpKv5cdcqt3",
    "outputId": "34ec49ac-7bd3-44d8-9a19-0d56c276ddc9"
   },
   "outputs": [
    {
     "name": "stdout",
     "output_type": "stream",
     "text": [
      "Writing app.py\n"
     ]
    }
   ],
   "source": [
    "# %%writefile app.py\n",
    "import requests\n",
    "\n",
    "def get_json(url):\n",
    "    \"\"\"Takes a URL, and returns the JSON.\"\"\"\n",
    "    r = requests.get(url)\n",
    "    return r.json()"
   ]
  },
  {
   "cell_type": "code",
   "execution_count": null,
   "metadata": {
    "colab": {
     "base_uri": "https://localhost:8080/"
    },
    "executionInfo": {
     "elapsed": 362,
     "status": "ok",
     "timestamp": 1619646711011,
     "user": {
      "displayName": "Chet Sheng",
      "photoUrl": "https://lh3.googleusercontent.com/a-/AOh14Gjy_Dk7Ahwv2lZiGE0sUFyBO_xe7OiTtIJ9Qlezaw=s64",
      "userId": "02447232751254445182"
     },
     "user_tz": -60
    },
    "id": "I_4-QsW6cqcA",
    "outputId": "bb22427e-09e6-4cd3-b578-e252d1da3f5e"
   },
   "outputs": [
    {
     "name": "stdout",
     "output_type": "stream",
     "text": [
      "Writing test_app_v1.py\n"
     ]
    }
   ],
   "source": [
    "# %%writefile test_app_v1.py\n",
    "import requests\n",
    "\n",
    "import app\n",
    "\n",
    "# custom class to be the mock return value\n",
    "# will override the `requests.Response` returned from `requests.get`\n",
    "class MockResponse:\n",
    "\n",
    "    # mock json() method always returns a specific testing dictionary\n",
    "    @staticmethod\n",
    "    def json():\n",
    "        return {\"mock_key\": \"mock_response\"}\n",
    "\n",
    "\n",
    "def test_get_json(monkeypatch):\n",
    "\n",
    "    # Any arguments may be passed and mock_get() will always return our\n",
    "    # mocked object, which only has the .json() method.\n",
    "    def mock_get(*args, **kwargs):\n",
    "        return MockResponse()\n",
    "\n",
    "    # apply the monkeypatch for `requests.get` to `mock_get`\n",
    "    monkeypatch.setattr(requests, \"get\", mock_get)\n",
    "\n",
    "    # `app.get_json`, which contains `requests.get`, uses the monkeypatch\n",
    "    result = app.get_json(\"https://fakeurl\")  # = mock_get.json\n",
    "    assert result[\"mock_key\"] == \"mock_response\""
   ]
  },
  {
   "cell_type": "code",
   "execution_count": null,
   "metadata": {
    "colab": {
     "base_uri": "https://localhost:8080/"
    },
    "executionInfo": {
     "elapsed": 1202,
     "status": "ok",
     "timestamp": 1619646712453,
     "user": {
      "displayName": "Chet Sheng",
      "photoUrl": "https://lh3.googleusercontent.com/a-/AOh14Gjy_Dk7Ahwv2lZiGE0sUFyBO_xe7OiTtIJ9Qlezaw=s64",
      "userId": "02447232751254445182"
     },
     "user_tz": -60
    },
    "id": "eZlHOYO3dLHK",
    "outputId": "f98a93eb-08c8-4f99-9bea-2abb33fb9584"
   },
   "outputs": [
    {
     "name": "stdout",
     "output_type": "stream",
     "text": [
      "\u001b[1m============================= test session starts ==============================\u001b[0m\n",
      "platform linux -- Python 3.7.10, pytest-3.6.4, py-1.10.0, pluggy-0.7.1\n",
      "rootdir: /content, inifile:\n",
      "plugins: typeguard-2.7.1\n",
      "\u001b[1m\rcollecting 0 items                                                             \u001b[0m\u001b[1m\rcollecting 1 item                                                              \u001b[0m\u001b[1m\rcollecting 2 items                                                             \u001b[0m\u001b[1m\rcollecting 3 items                                                             \u001b[0m\u001b[1m\rcollecting 4 items                                                             \u001b[0m\u001b[1m\rcollected 4 items / 3 deselected                                               \u001b[0m\n",
      "\n",
      "test_app_v1.py .\u001b[36m                                                         [100%]\u001b[0m\n",
      "\n",
      "\u001b[32m\u001b[1m==================== 1 passed, 3 deselected in 0.09 seconds ====================\u001b[0m\n"
     ]
    }
   ],
   "source": [
    "!python3 -m pytest -k test_app_v1"
   ]
  },
  {
   "cell_type": "markdown",
   "metadata": {
    "id": "BTtvd9-qd7vj"
   },
   "source": [
    "This mock can be shared across tests using a **fixture**:\n"
   ]
  },
  {
   "cell_type": "code",
   "execution_count": null,
   "metadata": {
    "colab": {
     "base_uri": "https://localhost:8080/"
    },
    "executionInfo": {
     "elapsed": 467,
     "status": "ok",
     "timestamp": 1619646714682,
     "user": {
      "displayName": "Chet Sheng",
      "photoUrl": "https://lh3.googleusercontent.com/a-/AOh14Gjy_Dk7Ahwv2lZiGE0sUFyBO_xe7OiTtIJ9Qlezaw=s64",
      "userId": "02447232751254445182"
     },
     "user_tz": -60
    },
    "id": "KmAiS4Wndmh6",
    "outputId": "aa32714c-773d-4dcd-aed9-415b8eb3b3a4"
   },
   "outputs": [
    {
     "name": "stdout",
     "output_type": "stream",
     "text": [
      "Overwriting test_app_v2.py\n"
     ]
    }
   ],
   "source": [
    "%%writefile test_app_v2.py\n",
    "import pytest\n",
    "import requests\n",
    "\n",
    "# app.py that includes the get_json() function\n",
    "import app\n",
    "\n",
    "# custom class to be the mock return value of requests.get()\n",
    "class MockResponse:\n",
    "    @staticmethod\n",
    "    def json():\n",
    "        return {\"mock_key\": \"mock_response\"}\n",
    "\n",
    "\n",
    "# monkeypatched requests.get moved to a fixture\n",
    "@pytest.fixture\n",
    "def mock_response(monkeypatch):\n",
    "    \"\"\"Requests.get() mocked to return {'mock_key':'mock_response'}.\"\"\"\n",
    "\n",
    "    def mock_get(*args, **kwargs):\n",
    "        return MockResponse()\n",
    "\n",
    "    monkeypatch.setattr(requests, \"get\", mock_get)\n",
    "\n",
    "\n",
    "# notice our test uses the custom fixture instead of monkeypatch directly\n",
    "def test_get_json(mock_response):\n",
    "    result = app.get_json(\"https://fakeurl\")\n",
    "    assert result[\"mock_key\"] == \"mock_response\""
   ]
  },
  {
   "cell_type": "code",
   "execution_count": null,
   "metadata": {
    "colab": {
     "base_uri": "https://localhost:8080/"
    },
    "executionInfo": {
     "elapsed": 1102,
     "status": "ok",
     "timestamp": 1619646715701,
     "user": {
      "displayName": "Chet Sheng",
      "photoUrl": "https://lh3.googleusercontent.com/a-/AOh14Gjy_Dk7Ahwv2lZiGE0sUFyBO_xe7OiTtIJ9Qlezaw=s64",
      "userId": "02447232751254445182"
     },
     "user_tz": -60
    },
    "id": "Dl4LaIu5dvKr",
    "outputId": "2efdc24e-bbce-43a7-c3d0-3aebdc3b7aa1"
   },
   "outputs": [
    {
     "name": "stdout",
     "output_type": "stream",
     "text": [
      "\u001b[1m============================= test session starts ==============================\u001b[0m\n",
      "platform linux -- Python 3.7.10, pytest-3.6.4, py-1.10.0, pluggy-0.7.1\n",
      "rootdir: /content, inifile:\n",
      "plugins: typeguard-2.7.1\n",
      "\u001b[1m\rcollecting 0 items                                                             \u001b[0m\u001b[1m\rcollecting 1 item                                                              \u001b[0m\u001b[1m\rcollecting 2 items                                                             \u001b[0m\u001b[1m\rcollecting 3 items                                                             \u001b[0m\u001b[1m\rcollecting 4 items                                                             \u001b[0m\u001b[1m\rcollected 4 items / 3 deselected                                               \u001b[0m\n",
      "\n",
      "test_app_v2.py .\u001b[36m                                                         [100%]\u001b[0m\n",
      "\n",
      "\u001b[32m\u001b[1m==================== 1 passed, 3 deselected in 0.09 seconds ====================\u001b[0m\n"
     ]
    }
   ],
   "source": [
    "!python -m pytest -k test_app_v2"
   ]
  },
  {
   "cell_type": "markdown",
   "metadata": {
    "id": "jdCM2oE1eBvE"
   },
   "source": [
    "[**Global patch** example](https://docs.pytest.org/en/stable/monkeypatch.html#global-patch-example-preventing-requests-from-remote-operations):\n",
    "\n",
    "If you want to prevent the “requests” library from performing http requests in all your tests, you can do:\n",
    "\n"
   ]
  },
  {
   "cell_type": "code",
   "execution_count": null,
   "metadata": {
    "id": "7dq7yyEleFMe"
   },
   "outputs": [],
   "source": [
    "%%writefile conftest.py\n",
    "import pytest\n",
    "\n",
    "@pytest.fixture(autouse=True)\n",
    "def no_requests(monkeypatch):\n",
    "    \"\"\"Remove requests.sessions.Session.request for all tests.\"\"\"\n",
    "    monkeypatch.delattr(\"requests.sessions.Session.request\")"
   ]
  },
  {
   "cell_type": "markdown",
   "metadata": {
    "id": "iR-UV35ZeXd-"
   },
   "source": [
    "## [Monkeypatching environment variables](https://docs.pytest.org/en/stable/monkeypatch.html#monkeypatching-environment-variables)\n",
    "1. Use`monkeypatch.setenv`\n",
    "2. Alternative ways: [with unittest](https://adamj.eu/tech/2020/10/13/how-to-mock-environment-variables-with-pythons-unittest/)"
   ]
  },
  {
   "cell_type": "code",
   "execution_count": null,
   "metadata": {
    "colab": {
     "base_uri": "https://localhost:8080/"
    },
    "executionInfo": {
     "elapsed": 4911,
     "status": "ok",
     "timestamp": 1619647316092,
     "user": {
      "displayName": "Chet Sheng",
      "photoUrl": "https://lh3.googleusercontent.com/a-/AOh14Gjy_Dk7Ahwv2lZiGE0sUFyBO_xe7OiTtIJ9Qlezaw=s64",
      "userId": "02447232751254445182"
     },
     "user_tz": -60
    },
    "id": "cT9OIq4KgHwE",
    "outputId": "59397b84-6162-4b3e-ddc9-134b5a5b31ad"
   },
   "outputs": [
    {
     "name": "stdout",
     "output_type": "stream",
     "text": [
      "Collecting django-environ\n",
      "  Downloading https://files.pythonhosted.org/packages/9f/32/76295a1a5d00bf556c495216581c6997e7fa5f533b2229e0a9d6cbaa95ae/django_environ-0.4.5-py2.py3-none-any.whl\n",
      "Installing collected packages: django-environ\n",
      "Successfully installed django-environ-0.4.5\n"
     ]
    }
   ],
   "source": [
    "! pip install django-environ"
   ]
  },
  {
   "cell_type": "code",
   "execution_count": null,
   "metadata": {
    "colab": {
     "base_uri": "https://localhost:8080/"
    },
    "executionInfo": {
     "elapsed": 391,
     "status": "ok",
     "timestamp": 1619647724791,
     "user": {
      "displayName": "Chet Sheng",
      "photoUrl": "https://lh3.googleusercontent.com/a-/AOh14Gjy_Dk7Ahwv2lZiGE0sUFyBO_xe7OiTtIJ9Qlezaw=s64",
      "userId": "02447232751254445182"
     },
     "user_tz": -60
    },
    "id": "OVEUn8G5edjf",
    "outputId": "231bf29b-ccc0-4884-a9c1-0b2e642adc71"
   },
   "outputs": [
    {
     "name": "stdout",
     "output_type": "stream",
     "text": [
      "Overwriting code.py\n"
     ]
    }
   ],
   "source": [
    "%%writefile code.py\n",
    "import os\n",
    "import environ\n",
    "\n",
    "env = environ.Env()\n",
    "\n",
    "def get_os_user_lower():\n",
    "    \"\"\"Simple retrieval function.\n",
    "    Returns lowercase USER or raises OSError.\"\"\"\n",
    "    username = os.getenv(\"USER\")\n",
    "\n",
    "    if username is None:\n",
    "        raise OSError(\"USER environment is not set.\")\n",
    "\n",
    "    return username.lower()\n",
    "\n",
    "def get_catalog_url():\n",
    "    is_dev = env.bool(\"IS_DEV\", default=False)\n",
    "    catalog_url = env.str(\"CATALOG_URL\", default=None)\n",
    "    if is_dev:\n",
    "        return catalog_url"
   ]
  },
  {
   "cell_type": "markdown",
   "metadata": {
    "id": "REbmsETEe1ca"
   },
   "source": [
    "There are two potential paths: \n",
    "1. the `USER` environment variable is set to a value. \n",
    "2. the `USER` environment variable does not exist. \n",
    "\n",
    "Using `monkeypatch` both paths can be safely tested without impacting the running environment:"
   ]
  },
  {
   "cell_type": "code",
   "execution_count": null,
   "metadata": {
    "colab": {
     "base_uri": "https://localhost:8080/"
    },
    "executionInfo": {
     "elapsed": 347,
     "status": "ok",
     "timestamp": 1619647725568,
     "user": {
      "displayName": "Chet Sheng",
      "photoUrl": "https://lh3.googleusercontent.com/a-/AOh14Gjy_Dk7Ahwv2lZiGE0sUFyBO_xe7OiTtIJ9Qlezaw=s64",
      "userId": "02447232751254445182"
     },
     "user_tz": -60
    },
    "id": "Djhoby4Nejgt",
    "outputId": "413bca5e-b5cc-45fb-a7bd-5666be1e3395"
   },
   "outputs": [
    {
     "name": "stdout",
     "output_type": "stream",
     "text": [
      "Overwriting test_code_v1.py\n"
     ]
    }
   ],
   "source": [
    "%%writefile test_code_v1.py\n",
    "import pytest\n",
    "\n",
    "from code import get_os_user_lower, get_catalog_url\n",
    "\n",
    "def test_upper_to_lower(monkeypatch):\n",
    "    \"\"\"Set the USER env var to assert the behavior.\"\"\"\n",
    "    monkeypatch.setenv(\"USER\", \"TestingUser\")\n",
    "    assert get_os_user_lower() == \"testinguser\"\n",
    "\n",
    "\n",
    "def test_raise_exception(monkeypatch):\n",
    "    \"\"\"Remove the USER env var and assert OSError is raised.\"\"\"\n",
    "    monkeypatch.delenv(\"USER\", raising=False)\n",
    "\n",
    "    with pytest.raises(OSError):\n",
    "        _ = get_os_user_lower()\n",
    "\n",
    "def test_get_url(monkeypatch):\n",
    "    monkeypatch.setenv(\"IS_DEV\", True)\n",
    "    monkeypatch.setenv(\"CATALOG_URL\", \"www.bingo.com\")\n",
    "    catalog_url = get_catalog_url()\n",
    "    assert catalog_url == \"www.bingo.com\""
   ]
  },
  {
   "cell_type": "code",
   "execution_count": null,
   "metadata": {
    "colab": {
     "base_uri": "https://localhost:8080/"
    },
    "executionInfo": {
     "elapsed": 1089,
     "status": "ok",
     "timestamp": 1619647727099,
     "user": {
      "displayName": "Chet Sheng",
      "photoUrl": "https://lh3.googleusercontent.com/a-/AOh14Gjy_Dk7Ahwv2lZiGE0sUFyBO_xe7OiTtIJ9Qlezaw=s64",
      "userId": "02447232751254445182"
     },
     "user_tz": -60
    },
    "id": "FwXdaY_UejGN",
    "outputId": "a06c1698-3416-4a21-e470-fcfba319edd5"
   },
   "outputs": [
    {
     "name": "stdout",
     "output_type": "stream",
     "text": [
      "\u001b[1m============================= test session starts ==============================\u001b[0m\n",
      "platform linux -- Python 3.7.10, pytest-3.6.4, py-1.10.0, pluggy-0.7.1\n",
      "rootdir: /content, inifile:\n",
      "plugins: typeguard-2.7.1\n",
      "\u001b[1m\rcollecting 0 items                                                             \u001b[0m\u001b[1m\rcollecting 1 item                                                              \u001b[0m\u001b[1m\rcollecting 2 items                                                             \u001b[0m\u001b[1m\rcollecting 3 items                                                             \u001b[0m\u001b[1m\rcollecting 5 items                                                             \u001b[0m\u001b[1m\rcollecting 8 items                                                             \u001b[0m\u001b[1m\rcollecting 10 items                                                            \u001b[0m\u001b[1m\rcollecting 11 items                                                            \u001b[0m\u001b[1m\rcollected 11 items / 8 deselected                                              \u001b[0m\n",
      "\n",
      "test_code_v1.py ...\u001b[36m                                                      [100%]\u001b[0m\n",
      "\n",
      "\u001b[32m\u001b[1m==================== 3 passed, 8 deselected in 0.10 seconds ====================\u001b[0m\n"
     ]
    }
   ],
   "source": [
    "!python -m pytest -k test_code_v1"
   ]
  },
  {
   "cell_type": "markdown",
   "metadata": {
    "id": "yjAnnIEakKyl"
   },
   "source": [
    "This behavior can be moved into __fixture__ structures and shared across tests:"
   ]
  },
  {
   "cell_type": "code",
   "execution_count": null,
   "metadata": {
    "colab": {
     "base_uri": "https://localhost:8080/"
    },
    "executionInfo": {
     "elapsed": 514,
     "status": "ok",
     "timestamp": 1619647059969,
     "user": {
      "displayName": "Chet Sheng",
      "photoUrl": "https://lh3.googleusercontent.com/a-/AOh14Gjy_Dk7Ahwv2lZiGE0sUFyBO_xe7OiTtIJ9Qlezaw=s64",
      "userId": "02447232751254445182"
     },
     "user_tz": -60
    },
    "id": "1x68v8yxfDGA",
    "outputId": "340d236d-7a61-4633-aec3-ff277737da45"
   },
   "outputs": [
    {
     "name": "stdout",
     "output_type": "stream",
     "text": [
      "Writing test_code_v2.py\n"
     ]
    }
   ],
   "source": [
    "%%writefile test_code_v2.py\n",
    "import pytest\n",
    "\n",
    "from code import get_os_user_lower\n",
    "\n",
    "@pytest.fixture\n",
    "def mock_env_user(monkeypatch):\n",
    "    monkeypatch.setenv(\"USER\", \"TestingUser\")\n",
    "\n",
    "\n",
    "@pytest.fixture\n",
    "def mock_env_missing(monkeypatch):\n",
    "    monkeypatch.delenv(\"USER\", raising=False)\n",
    "\n",
    "\n",
    "# notice the tests reference the fixtures for mocks\n",
    "def test_upper_to_lower(mock_env_user):\n",
    "    assert get_os_user_lower() == \"testinguser\"\n",
    "\n",
    "\n",
    "def test_raise_exception(mock_env_missing):\n",
    "    with pytest.raises(OSError):\n",
    "        _ = get_os_user_lower()"
   ]
  },
  {
   "cell_type": "code",
   "execution_count": null,
   "metadata": {
    "colab": {
     "base_uri": "https://localhost:8080/"
    },
    "executionInfo": {
     "elapsed": 1087,
     "status": "ok",
     "timestamp": 1619647069429,
     "user": {
      "displayName": "Chet Sheng",
      "photoUrl": "https://lh3.googleusercontent.com/a-/AOh14Gjy_Dk7Ahwv2lZiGE0sUFyBO_xe7OiTtIJ9Qlezaw=s64",
      "userId": "02447232751254445182"
     },
     "user_tz": -60
    },
    "id": "F36u9W7DfN1B",
    "outputId": "40903458-d080-4e68-96b8-60f4b55def9d"
   },
   "outputs": [
    {
     "name": "stdout",
     "output_type": "stream",
     "text": [
      "\u001b[1m============================= test session starts ==============================\u001b[0m\n",
      "platform linux -- Python 3.7.10, pytest-3.6.4, py-1.10.0, pluggy-0.7.1\n",
      "rootdir: /content, inifile:\n",
      "plugins: typeguard-2.7.1\n",
      "\u001b[1m\rcollecting 0 items                                                             \u001b[0m\u001b[1m\rcollecting 1 item                                                              \u001b[0m\u001b[1m\rcollecting 2 items                                                             \u001b[0m\u001b[1m\rcollecting 3 items                                                             \u001b[0m\u001b[1m\rcollecting 5 items                                                             \u001b[0m\u001b[1m\rcollecting 7 items                                                             \u001b[0m\u001b[1m\rcollecting 9 items                                                             \u001b[0m\u001b[1m\rcollecting 10 items                                                            \u001b[0m\u001b[1m\rcollected 10 items / 8 deselected                                              \u001b[0m\n",
      "\n",
      "test_code_v2.py ..\u001b[36m                                                       [100%]\u001b[0m\n",
      "\n",
      "\u001b[32m\u001b[1m==================== 2 passed, 8 deselected in 0.10 seconds ====================\u001b[0m\n"
     ]
    }
   ],
   "source": [
    "!python -m pytest -k test_code_v2"
   ]
  },
  {
   "cell_type": "markdown",
   "metadata": {
    "id": "ScciyZUiosRo"
   },
   "source": [
    "## [Monkeypatching dictionaries](https://docs.pytest.org/en/stable/monkeypatch.html#monkeypatching-dictionaries)\n",
    "\n",
    "`monkeypatch.setitem` can be used to safely set the values of dictionaries to specific values during tests"
   ]
  },
  {
   "cell_type": "code",
   "execution_count": null,
   "metadata": {
    "colab": {
     "base_uri": "https://localhost:8080/"
    },
    "executionInfo": {
     "elapsed": 402,
     "status": "ok",
     "timestamp": 1619649619344,
     "user": {
      "displayName": "Chet Sheng",
      "photoUrl": "https://lh3.googleusercontent.com/a-/AOh14Gjy_Dk7Ahwv2lZiGE0sUFyBO_xe7OiTtIJ9Qlezaw=s64",
      "userId": "02447232751254445182"
     },
     "user_tz": -60
    },
    "id": "aTiLkpA4o579",
    "outputId": "71b7f830-8be8-46d8-ec14-68edb447e862"
   },
   "outputs": [
    {
     "name": "stdout",
     "output_type": "stream",
     "text": [
      "Overwriting app.py\n"
     ]
    }
   ],
   "source": [
    "%%writefile app.py\n",
    "DEFAULT_CONFIG = {\"user\": \"user1\", \"database\": \"db1\"}\n",
    "\n",
    "def create_connection_string(config=None):\n",
    "    \"\"\"Creates a connection string from input or defaults.\"\"\"\n",
    "    config = config or DEFAULT_CONFIG\n",
    "    return f\"User Id={config['user']}; Location={config['database']};\""
   ]
  },
  {
   "cell_type": "code",
   "execution_count": null,
   "metadata": {
    "colab": {
     "base_uri": "https://localhost:8080/"
    },
    "executionInfo": {
     "elapsed": 446,
     "status": "ok",
     "timestamp": 1619649737646,
     "user": {
      "displayName": "Chet Sheng",
      "photoUrl": "https://lh3.googleusercontent.com/a-/AOh14Gjy_Dk7Ahwv2lZiGE0sUFyBO_xe7OiTtIJ9Qlezaw=s64",
      "userId": "02447232751254445182"
     },
     "user_tz": -60
    },
    "id": "wXz_npCAo5yW",
    "outputId": "3f1537c6-0dc1-4dab-f7f7-662a2e7f306f"
   },
   "outputs": [
    {
     "name": "stdout",
     "output_type": "stream",
     "text": [
      "Overwriting test_app_v1.py\n"
     ]
    }
   ],
   "source": [
    "# %%writefile test_app_v1.py\n",
    "import pytest\n",
    "\n",
    "import app\n",
    "\n",
    "def test_connection(monkeypatch):\n",
    "\n",
    "    # Patch the values of DEFAULT_CONFIG to specific testing values only for this test.\n",
    "    monkeypatch.setitem(app.DEFAULT_CONFIG, \"user\", \"test_user\")\n",
    "    monkeypatch.setitem(app.DEFAULT_CONFIG, \"database\", \"test_db\")\n",
    "\n",
    "    expected = \"User Id=test_user; Location=test_db;\"\n",
    "\n",
    "    # the test uses the monkeypatched dictionary settings\n",
    "    result = app.create_connection_string()\n",
    "    assert result == expected\n",
    "\n",
    "def test_missing_user(monkeypatch):\n",
    "\n",
    "    # patch the DEFAULT_CONFIG t be missing the 'user' key\n",
    "    monkeypatch.delitem(app.DEFAULT_CONFIG, \"user\", raising=False)\n",
    "\n",
    "    # Key error expected because a config is not passed, and the default is now missing the 'user' entry.\n",
    "    with pytest.raises(KeyError):  # catch expected Exception\n",
    "        _ = app.create_connection_string()"
   ]
  },
  {
   "cell_type": "code",
   "execution_count": null,
   "metadata": {
    "colab": {
     "base_uri": "https://localhost:8080/"
    },
    "executionInfo": {
     "elapsed": 1115,
     "status": "ok",
     "timestamp": 1619649740036,
     "user": {
      "displayName": "Chet Sheng",
      "photoUrl": "https://lh3.googleusercontent.com/a-/AOh14Gjy_Dk7Ahwv2lZiGE0sUFyBO_xe7OiTtIJ9Qlezaw=s64",
      "userId": "02447232751254445182"
     },
     "user_tz": -60
    },
    "id": "ZferPJN8pEp-",
    "outputId": "f8510535-3d0d-4817-e4b6-62d8f5a166f9"
   },
   "outputs": [
    {
     "name": "stdout",
     "output_type": "stream",
     "text": [
      "\u001b[1m============================= test session starts ==============================\u001b[0m\n",
      "platform linux -- Python 3.7.10, pytest-3.6.4, py-1.10.0, pluggy-0.7.1\n",
      "rootdir: /content, inifile:\n",
      "plugins: typeguard-2.7.1\n",
      "\u001b[1m\rcollecting 0 items                                                             \u001b[0m\u001b[1m\rcollecting 1 item                                                              \u001b[0m\u001b[1m\rcollecting 3 items                                                             \u001b[0m\u001b[1m\rcollecting 4 items                                                             \u001b[0m\u001b[1m\rcollecting 6 items                                                             \u001b[0m\u001b[1m\rcollecting 9 items                                                             \u001b[0m\u001b[1m\rcollecting 11 items                                                            \u001b[0m\u001b[1m\rcollecting 12 items                                                            \u001b[0m\u001b[1m\rcollected 12 items / 10 deselected                                             \u001b[0m\n",
      "\n",
      "test_app_v1.py ..\u001b[36m                                                        [100%]\u001b[0m\n",
      "\n",
      "\u001b[32m\u001b[1m=================== 2 passed, 10 deselected in 0.10 seconds ====================\u001b[0m\n"
     ]
    }
   ],
   "source": [
    "!python -m pytest -k test_app_v1"
   ]
  },
  {
   "cell_type": "markdown",
   "metadata": {
    "id": "-w9B_89OpsHs"
   },
   "source": [
    "Use modularity of **fixture** to have more flexibility: \n"
   ]
  },
  {
   "cell_type": "code",
   "execution_count": null,
   "metadata": {
    "colab": {
     "base_uri": "https://localhost:8080/"
    },
    "executionInfo": {
     "elapsed": 571,
     "status": "ok",
     "timestamp": 1619649856188,
     "user": {
      "displayName": "Chet Sheng",
      "photoUrl": "https://lh3.googleusercontent.com/a-/AOh14Gjy_Dk7Ahwv2lZiGE0sUFyBO_xe7OiTtIJ9Qlezaw=s64",
      "userId": "02447232751254445182"
     },
     "user_tz": -60
    },
    "id": "4YfwlrSZpHg3",
    "outputId": "f2b3db53-bb92-46d5-a540-6fa69da50559"
   },
   "outputs": [
    {
     "name": "stdout",
     "output_type": "stream",
     "text": [
      "Overwriting test_app_v2.py\n"
     ]
    }
   ],
   "source": [
    "%%writefile test_app_v2.py\n",
    "import pytest\n",
    "\n",
    "# app.py with the connection string function\n",
    "import app\n",
    "\n",
    "# all of the mocks are moved into separated fixtures\n",
    "@pytest.fixture\n",
    "def mock_test_user(monkeypatch):\n",
    "    \"\"\"Set the DEFAULT_CONFIG user to test_user.\"\"\"\n",
    "    monkeypatch.setitem(app.DEFAULT_CONFIG, \"user\", \"test_user\")\n",
    "\n",
    "\n",
    "@pytest.fixture\n",
    "def mock_test_database(monkeypatch):\n",
    "    \"\"\"Set the DEFAULT_CONFIG database to test_db.\"\"\"\n",
    "    monkeypatch.setitem(app.DEFAULT_CONFIG, \"database\", \"test_db\")\n",
    "\n",
    "\n",
    "@pytest.fixture\n",
    "def mock_missing_default_user(monkeypatch):\n",
    "    \"\"\"Remove the user key from DEFAULT_CONFIG\"\"\"\n",
    "    monkeypatch.delitem(app.DEFAULT_CONFIG, \"user\", raising=False)\n",
    "\n",
    "\n",
    "# tests reference only the fixture mocks that are needed\n",
    "def test_connection(mock_test_user, mock_test_database):\n",
    "\n",
    "    expected = \"User Id=test_user; Location=test_db;\"\n",
    "\n",
    "    result = app.create_connection_string()\n",
    "    assert result == expected\n",
    "\n",
    "\n",
    "def test_missing_user(mock_missing_default_user):\n",
    "\n",
    "    with pytest.raises(KeyError):\n",
    "        _ = app.create_connection_string()\n"
   ]
  },
  {
   "cell_type": "code",
   "execution_count": null,
   "metadata": {
    "colab": {
     "base_uri": "https://localhost:8080/"
    },
    "executionInfo": {
     "elapsed": 1091,
     "status": "ok",
     "timestamp": 1619649867497,
     "user": {
      "displayName": "Chet Sheng",
      "photoUrl": "https://lh3.googleusercontent.com/a-/AOh14Gjy_Dk7Ahwv2lZiGE0sUFyBO_xe7OiTtIJ9Qlezaw=s64",
      "userId": "02447232751254445182"
     },
     "user_tz": -60
    },
    "id": "GYGUeGEMp4WD",
    "outputId": "23e4061e-1b5a-4b72-e355-870a507141fc"
   },
   "outputs": [
    {
     "name": "stdout",
     "output_type": "stream",
     "text": [
      "\u001b[1m============================= test session starts ==============================\u001b[0m\n",
      "platform linux -- Python 3.7.10, pytest-3.6.4, py-1.10.0, pluggy-0.7.1\n",
      "rootdir: /content, inifile:\n",
      "plugins: typeguard-2.7.1\n",
      "\u001b[1m\rcollecting 0 items                                                             \u001b[0m\u001b[1m\rcollecting 1 item                                                              \u001b[0m\u001b[1m\rcollecting 3 items                                                             \u001b[0m\u001b[1m\rcollecting 5 items                                                             \u001b[0m\u001b[1m\rcollecting 7 items                                                             \u001b[0m\u001b[1m\rcollecting 10 items                                                            \u001b[0m\u001b[1m\rcollecting 12 items                                                            \u001b[0m\u001b[1m\rcollecting 13 items                                                            \u001b[0m\u001b[1m\rcollected 13 items / 11 deselected                                             \u001b[0m\n",
      "\n",
      "test_app_v2.py ..\u001b[36m                                                        [100%]\u001b[0m\n",
      "\n",
      "\u001b[32m\u001b[1m=================== 2 passed, 11 deselected in 0.11 seconds ====================\u001b[0m\n"
     ]
    }
   ],
   "source": [
    "!python -m pytest -k test_app_v2"
   ]
  },
  {
   "cell_type": "markdown",
   "metadata": {
    "id": "H4jQfA1lYF7n"
   },
   "source": [
    "## `Monkeypatch` 和 `pytest.mark.parametrize`一起\n",
    "先`Monkeypath`, 后`parametrize`"
   ]
  },
  {
   "cell_type": "code",
   "execution_count": null,
   "metadata": {
    "id": "xdKLu6QAYFSH"
   },
   "outputs": [],
   "source": [
    "@pytest.mark.parametrize(\n",
    "    [\"image\", \"expected_result\"],\n",
    "    [\n",
    "        (\n",
    "            image2bytes(\"/home/lyst/code/tests/gucci-buckle.jpeg\"),\n",
    "            \"26c946ce58d6c4b8cf2d2139a50cc130\",\n",
    "        ),\n",
    "    ],\n",
    ")\n",
    "def test_hash_image__md5(monkeypatch, image, expected_result):\n",
    "    monkeypatch.setattr(images.settings, \"IMAGE_HASH_ALGO\", \"MD5\")\n",
    "    assert images.hash_image(image) == expected_result"
   ]
  },
  {
   "cell_type": "markdown",
   "metadata": {
    "id": "S-UTirATYBiA"
   },
   "source": [
    "# `unittest.mock.patch`\n",
    "- https://realpython.com/python-mock-library/#patch-as-a-context-manager\n",
    "- `Monkeypatch`还没有看到可以`mock`而不出`side_effect`/ `return_value`的情况\n",
    "- patched argument放在所有fixture之前\n"
   ]
  },
  {
   "cell_type": "markdown",
   "metadata": {
    "id": "QBuR8OSbYJwH"
   },
   "source": [
    "\n",
    "## Patch as decorators\n",
    "**Monkey patching** is the replacement of one object with another at runtime. Now, you’ll use `patch()` to replace your objects in `my_calendar.py`"
   ]
  },
  {
   "cell_type": "code",
   "execution_count": null,
   "metadata": {
    "colab": {
     "base_uri": "https://localhost:8080/"
    },
    "executionInfo": {
     "elapsed": 7,
     "status": "ok",
     "timestamp": 1627590136187,
     "user": {
      "displayName": "Chet Sheng",
      "photoUrl": "https://lh3.googleusercontent.com/a-/AOh14Gjy_Dk7Ahwv2lZiGE0sUFyBO_xe7OiTtIJ9Qlezaw=s64",
      "userId": "02447232751254445182"
     },
     "user_tz": -60
    },
    "id": "2Ch2N9vLYdHc",
    "outputId": "7f018352-cf9c-4a3a-f1e4-7f057ee1deba"
   },
   "outputs": [
    {
     "name": "stdout",
     "output_type": "stream",
     "text": [
      "Writing my_calendar.py\n"
     ]
    }
   ],
   "source": [
    "# %%writefile my_calendar.py\n",
    "\n",
    "import requests\n",
    "from datetime import datetime\n",
    "\n",
    "def is_weekday():\n",
    "    today = datetime.today()\n",
    "    # Python's datetime library treats Monday as 0 and Sunday as 6\n",
    "    return (0 <= today.weekday() < 5)\n",
    "\n",
    "def get_holidays():\n",
    "    r = requests.get('http://localhost/api/holidays')\n",
    "    if r.status_code == 200:\n",
    "        return r.json()\n",
    "    return None"
   ]
  },
  {
   "cell_type": "code",
   "execution_count": null,
   "metadata": {
    "colab": {
     "base_uri": "https://localhost:8080/"
    },
    "executionInfo": {
     "elapsed": 1260,
     "status": "ok",
     "timestamp": 1614255840608,
     "user": {
      "displayName": "Chet Sheng",
      "photoUrl": "https://lh3.googleusercontent.com/a-/AOh14Gjy_Dk7Ahwv2lZiGE0sUFyBO_xe7OiTtIJ9Qlezaw=s64",
      "userId": "02447232751254445182"
     },
     "user_tz": 0
    },
    "id": "k8iD2SYZYc3r",
    "outputId": "6d6ebfea-03c0-4bd3-d67c-32f4ca45a0e2"
   },
   "outputs": [
    {
     "name": "stdout",
     "output_type": "stream",
     "text": [
      "Writing test_my_calender.py\n"
     ]
    }
   ],
   "source": [
    "# %%writefile test_my_calender.py\n",
    "\n",
    "from requests.exceptions import Timeout\n",
    "\n",
    "import pytest\n",
    "from unittest.mock import patch\n",
    "\n",
    "from my_calendar import get_holidays\n",
    "\n",
    "@patch('my_calendar.requests')  # mock requests module\n",
    "def test_get_holidays_timeout(mock_requests):\n",
    "        mock_requests.get.side_effect = Timeout  # define side_effect of 'requets.get'\n",
    "        with pytest.raises(Timeout):  # Assertions about expected exceptions\n",
    "            get_holidays()\n",
    "            mock_requests.get.assert_called_once()"
   ]
  },
  {
   "cell_type": "code",
   "execution_count": null,
   "metadata": {
    "colab": {
     "base_uri": "https://localhost:8080/"
    },
    "executionInfo": {
     "elapsed": 1923,
     "status": "ok",
     "timestamp": 1614255841275,
     "user": {
      "displayName": "Chet Sheng",
      "photoUrl": "https://lh3.googleusercontent.com/a-/AOh14Gjy_Dk7Ahwv2lZiGE0sUFyBO_xe7OiTtIJ9Qlezaw=s64",
      "userId": "02447232751254445182"
     },
     "user_tz": 0
    },
    "id": "wuqeX5v0ZGJM",
    "outputId": "749da287-1bb0-4a07-ecac-81c2a4b78246"
   },
   "outputs": [
    {
     "name": "stdout",
     "output_type": "stream",
     "text": [
      "\u001b[1m============================= test session starts ==============================\u001b[0m\n",
      "platform linux -- Python 3.7.10, pytest-3.6.4, py-1.10.0, pluggy-0.7.1\n",
      "rootdir: /content, inifile:\n",
      "plugins: typeguard-2.7.1\n",
      "\u001b[1m\rcollecting 0 items                                                             \u001b[0m\u001b[1m\rcollecting 1 item                                                              \u001b[0m\u001b[1m\rcollected 1 item                                                               \u001b[0m\n",
      "\n",
      "test_my_calender.py .\u001b[36m                                                    [100%]\u001b[0m\n",
      "\n",
      "\u001b[32m\u001b[1m=========================== 1 passed in 0.10 seconds ===========================\u001b[0m\n"
     ]
    }
   ],
   "source": [
    "# use name based test filtering with '-k' flag\n",
    "!python3 -m pytest -k test_my_calender"
   ]
  },
  {
   "cell_type": "markdown",
   "metadata": {
    "id": "vws5pclQcsZA"
   },
   "source": [
    "### multiple patch decorators & fixtures\n",
    "\t@patch('p.A', argsA)\n",
    "\t@patch('p.B', argsB)\n",
    "\t.\n",
    "\t.\n",
    "\t@patch('p.N', argsN)\n",
    "\tdef test_all(mockN, ..., mockB, mockA, other_fixtures, monkeypatch):\n",
    "\t\tmy beautiful test"
   ]
  },
  {
   "cell_type": "markdown",
   "metadata": {
    "id": "072xIk-XYWru"
   },
   "source": [
    "## Patch as context managers"
   ]
  },
  {
   "cell_type": "markdown",
   "metadata": {
    "id": "lUvgWnsnJrGS"
   },
   "source": [
    "object file:"
   ]
  },
  {
   "cell_type": "code",
   "execution_count": null,
   "metadata": {
    "id": "YtlCv8OAYbR-"
   },
   "outputs": [],
   "source": [
    "# %%writefile my_calendar.py\n",
    "\n",
    "import requests\n",
    "from datetime import datetime\n",
    "\n",
    "def is_weekday():\n",
    "    today = datetime.today()\n",
    "    # Python's datetime library treats Monday as 0 and Sunday as 6\n",
    "    return (0 <= today.weekday() < 5)\n",
    "\n",
    "def get_holidays():\n",
    "    r = requests.get('http://localhost/api/holidays')\n",
    "    if r.status_code == 200:\n",
    "        return r.json()\n",
    "    return None"
   ]
  },
  {
   "cell_type": "markdown",
   "metadata": {
    "id": "uZxuv7A5JvAY"
   },
   "source": [
    "test file:\n",
    "\n"
   ]
  },
  {
   "cell_type": "code",
   "execution_count": null,
   "metadata": {
    "colab": {
     "base_uri": "https://localhost:8080/"
    },
    "executionInfo": {
     "elapsed": 1008,
     "status": "ok",
     "timestamp": 1605486347565,
     "user": {
      "displayName": "Chet Sheng",
      "photoUrl": "https://lh3.googleusercontent.com/a-/AOh14Gjy_Dk7Ahwv2lZiGE0sUFyBO_xe7OiTtIJ9Qlezaw=s64",
      "userId": "02447232751254445182"
     },
     "user_tz": 0
    },
    "id": "69eDgg8gbtZb",
    "outputId": "287cdc6d-e0a8-453a-b3f7-b94494673e60"
   },
   "outputs": [
    {
     "name": "stdout",
     "output_type": "stream",
     "text": [
      "Writing test_my_calender_v2.py\n"
     ]
    }
   ],
   "source": [
    "# %%writefile test_my_calender_v2.py\n",
    "\n",
    "from requests.exceptions import Timeout\n",
    "\n",
    "import pytest\n",
    "from unittest.mock import patch\n",
    "\n",
    "from my_calendar import get_holidays\n",
    "\n",
    "def test_get_holidays_timeout():\n",
    "  with patch('my_calendar.requests') as mock_requests:  # patch request module\n",
    "    mock_requests.get.side_effect = Timeout  # define side_effect of 'requets.get'\n",
    "    with pytest.raises(Timeout):  # Assertions about expected exceptions\n",
    "        get_holidays()\n",
    "        mock_requests.get.assert_called_once()"
   ]
  },
  {
   "cell_type": "code",
   "execution_count": null,
   "metadata": {
    "colab": {
     "base_uri": "https://localhost:8080/"
    },
    "executionInfo": {
     "elapsed": 1619,
     "status": "ok",
     "timestamp": 1605486348618,
     "user": {
      "displayName": "Chet Sheng",
      "photoUrl": "https://lh3.googleusercontent.com/a-/AOh14Gjy_Dk7Ahwv2lZiGE0sUFyBO_xe7OiTtIJ9Qlezaw=s64",
      "userId": "02447232751254445182"
     },
     "user_tz": 0
    },
    "id": "gNS0hHczcRYI",
    "outputId": "fd4e317e-d0c3-4b1f-baa2-34715ff2c97b"
   },
   "outputs": [
    {
     "name": "stdout",
     "output_type": "stream",
     "text": [
      "\u001b[1m============================= test session starts ==============================\u001b[0m\n",
      "platform linux -- Python 3.6.9, pytest-3.6.4, py-1.9.0, pluggy-0.7.1\n",
      "rootdir: /content, inifile:\n",
      "plugins: typeguard-2.7.1\n",
      "\u001b[1m\rcollecting 0 items                                                             \u001b[0m\u001b[1m\rcollecting 1 item                                                              \u001b[0m\u001b[1m\rcollecting 2 items                                                             \u001b[0m\u001b[1m\rcollecting 4 items                                                             \u001b[0m\u001b[1m\rcollected 4 items / 3 deselected                                               \u001b[0m\n",
      "\n",
      "test_my_calender_v2.py .\u001b[36m                                                 [100%]\u001b[0m\n",
      "\n",
      "\u001b[32m\u001b[1m==================== 1 passed, 3 deselected in 0.09 seconds ====================\u001b[0m\n"
     ]
    }
   ],
   "source": [
    "!python -m pytest -k test_my_calender_v2"
   ]
  },
  {
   "cell_type": "markdown",
   "metadata": {
    "id": "bZg5mT375gi5"
   },
   "source": [
    "## Different `side_effect`/`return_value` depending on calls\n",
    "- different returns for different input arguments:\n"
   ]
  },
  {
   "cell_type": "code",
   "execution_count": null,
   "metadata": {
    "colab": {
     "base_uri": "https://localhost:8080/"
    },
    "executionInfo": {
     "elapsed": 328,
     "status": "ok",
     "timestamp": 1634838251888,
     "user": {
      "displayName": "Chet Sheng",
      "photoUrl": "https://lh3.googleusercontent.com/a-/AOh14Gjy_Dk7Ahwv2lZiGE0sUFyBO_xe7OiTtIJ9Qlezaw=s64",
      "userId": "02447232751254445182"
     },
     "user_tz": -60
    },
    "id": "iCJu-3Yv6Wzw",
    "outputId": "71746027-51fb-4552-d602-3eb64b1e79e5"
   },
   "outputs": [
    {
     "name": "stdout",
     "output_type": "stream",
     "text": [
      "Overwriting images.py\n"
     ]
    }
   ],
   "source": [
    "# %%writefile images.py\n",
    "\n",
    "\n",
    "def download_image(url):\n",
    "    if url.startswith(\"https://\"):\n",
    "        return True\n",
    "    else:\n",
    "        return False"
   ]
  },
  {
   "cell_type": "code",
   "execution_count": null,
   "metadata": {
    "colab": {
     "base_uri": "https://localhost:8080/"
    },
    "executionInfo": {
     "elapsed": 354,
     "status": "ok",
     "timestamp": 1634838329553,
     "user": {
      "displayName": "Chet Sheng",
      "photoUrl": "https://lh3.googleusercontent.com/a-/AOh14Gjy_Dk7Ahwv2lZiGE0sUFyBO_xe7OiTtIJ9Qlezaw=s64",
      "userId": "02447232751254445182"
     },
     "user_tz": -60
    },
    "id": "4UjSrxZ76QIK",
    "outputId": "359e5856-991e-4158-ea07-c06ff112d3c8"
   },
   "outputs": [
    {
     "name": "stdout",
     "output_type": "stream",
     "text": [
      "Overwriting test_image_download.py\n"
     ]
    }
   ],
   "source": [
    "# %%writefile test_image_download.py\n",
    "\n",
    "import pytest\n",
    "from unittest.mock import patch\n",
    "\n",
    "from images import download_image\n",
    "\n",
    "\n",
    "def side_effect_func(url: str):\n",
    "    \"\"\"👀 different side_effect for different inputs\"\"\"\n",
    "    if url.startswith(\"https://\"):\n",
    "        return True\n",
    "    else:\n",
    "        return False\n",
    "\n",
    "\n",
    "@patch(\"test_image_download.download_image\")\n",
    "def test_download_image(mock_download_image):\n",
    "\n",
    "    mock_download_image.side_effect = side_effect_func\n",
    "\n",
    "    res = []\n",
    "    for url in [\"https://123.com\", \"file://myfile.jpeg\"]:\n",
    "        res.append(download_image(url))\n",
    "    assert res == [True, False]"
   ]
  },
  {
   "cell_type": "code",
   "execution_count": null,
   "metadata": {
    "colab": {
     "base_uri": "https://localhost:8080/"
    },
    "executionInfo": {
     "elapsed": 646,
     "status": "ok",
     "timestamp": 1634838331195,
     "user": {
      "displayName": "Chet Sheng",
      "photoUrl": "https://lh3.googleusercontent.com/a-/AOh14Gjy_Dk7Ahwv2lZiGE0sUFyBO_xe7OiTtIJ9Qlezaw=s64",
      "userId": "02447232751254445182"
     },
     "user_tz": -60
    },
    "id": "SbG00dIY6C0I",
    "outputId": "3cfd87cc-e0fa-4378-d2f9-8316d6eff819"
   },
   "outputs": [
    {
     "name": "stdout",
     "output_type": "stream",
     "text": [
      "\u001b[1m============================= test session starts ==============================\u001b[0m\n",
      "platform linux -- Python 3.7.12, pytest-3.6.4, py-1.10.0, pluggy-0.7.1\n",
      "rootdir: /content, inifile:\n",
      "plugins: typeguard-2.7.1\n",
      "\u001b[1m\rcollecting 0 items                                                             \u001b[0m\u001b[1m\rcollecting 1 item                                                              \u001b[0m\u001b[1m\rcollected 1 item                                                               \u001b[0m\n",
      "\n",
      "test_image_download.py .\u001b[36m                                                 [100%]\u001b[0m\n",
      "\n",
      "\u001b[32m\u001b[1m=========================== 1 passed in 0.02 seconds ===========================\u001b[0m\n"
     ]
    }
   ],
   "source": [
    "!python -m pytest -k test_image_download"
   ]
  },
  {
   "cell_type": "markdown",
   "metadata": {
    "id": "MOWG8vEO0edI"
   },
   "source": [
    "Different return for different times of calls: [ref](https://stackoverflow.com/a/24897297/8280662)\n",
    "\n",
    "You can assign an `iterable` to `side_effect`, and the `mock` will return the next value in the sequence each time it is called:\n",
    "```python\n",
    ">>> from unittest.mock import Mock\n",
    ">>> m = Mock()\n",
    ">>> m.side_effect = ['foo', 'bar', 'baz']\n",
    ">>> m()\n",
    "'foo'\n",
    ">>> m()\n",
    "'bar'\n",
    ">>> m()\n",
    "'baz'\n",
    "```\n",
    "Quoting the `Mock()` documentation:\n",
    ">If side_effect is an iterable then each call to the mock will return the next value from the iterable."
   ]
  },
  {
   "cell_type": "markdown",
   "metadata": {
    "id": "OKwwAkQq9rHI"
   },
   "source": [
    "\n",
    "## Common Use cases"
   ]
  },
  {
   "cell_type": "markdown",
   "metadata": {
    "id": "vty_8UVwTH4i"
   },
   "source": [
    "### mock a constant"
   ]
  },
  {
   "cell_type": "code",
   "execution_count": null,
   "metadata": {
    "colab": {
     "base_uri": "https://localhost:8080/"
    },
    "executionInfo": {
     "elapsed": 4,
     "status": "ok",
     "timestamp": 1634838585051,
     "user": {
      "displayName": "Chet Sheng",
      "photoUrl": "https://lh3.googleusercontent.com/a-/AOh14Gjy_Dk7Ahwv2lZiGE0sUFyBO_xe7OiTtIJ9Qlezaw=s64",
      "userId": "02447232751254445182"
     },
     "user_tz": -60
    },
    "id": "XtXn0a539vRi",
    "outputId": "1c1e4dd0-9b53-4a3f-ea10-a7a12e17049c"
   },
   "outputs": [
    {
     "name": "stdout",
     "output_type": "stream",
     "text": [
      "Writing my_calendar.py\n"
     ]
    }
   ],
   "source": [
    "# %%writefile my_calendar.py\n",
    "\n",
    "today = \"Monday\"\n",
    "\n",
    "def is_weekday():\n",
    "    return today\n"
   ]
  },
  {
   "cell_type": "code",
   "execution_count": null,
   "metadata": {
    "colab": {
     "base_uri": "https://localhost:8080/"
    },
    "executionInfo": {
     "elapsed": 687,
     "status": "ok",
     "timestamp": 1634838721404,
     "user": {
      "displayName": "Chet Sheng",
      "photoUrl": "https://lh3.googleusercontent.com/a-/AOh14Gjy_Dk7Ahwv2lZiGE0sUFyBO_xe7OiTtIJ9Qlezaw=s64",
      "userId": "02447232751254445182"
     },
     "user_tz": -60
    },
    "id": "xAmuQtG8972s",
    "outputId": "9ce6c3b8-2cf1-45ad-eb74-7cfbcdd03c67"
   },
   "outputs": [
    {
     "name": "stdout",
     "output_type": "stream",
     "text": [
      "Overwriting test_my_calendar.py\n"
     ]
    }
   ],
   "source": [
    "# %%writefile test_my_calendar.py\n",
    "from unittest.mock import patch\n",
    "\n",
    "from my_calendar import is_weekday\n",
    "\n",
    "\n",
    "def test_is_weekday():\n",
    "    with patch(\"my_calendar.today\", \"Friday!\"):  # patch a constant\n",
    "        day = is_weekday()\n",
    "    assert day == \"Friday!\""
   ]
  },
  {
   "cell_type": "code",
   "execution_count": null,
   "metadata": {
    "colab": {
     "base_uri": "https://localhost:8080/"
    },
    "executionInfo": {
     "elapsed": 847,
     "status": "ok",
     "timestamp": 1634838722707,
     "user": {
      "displayName": "Chet Sheng",
      "photoUrl": "https://lh3.googleusercontent.com/a-/AOh14Gjy_Dk7Ahwv2lZiGE0sUFyBO_xe7OiTtIJ9Qlezaw=s64",
      "userId": "02447232751254445182"
     },
     "user_tz": -60
    },
    "id": "I9zg__dV-tVR",
    "outputId": "91c3a798-3226-495a-ff6f-79152d6224a3"
   },
   "outputs": [
    {
     "name": "stdout",
     "output_type": "stream",
     "text": [
      "\u001b[1m============================= test session starts ==============================\u001b[0m\n",
      "platform linux -- Python 3.7.12, pytest-3.6.4, py-1.10.0, pluggy-0.7.1\n",
      "rootdir: /content, inifile:\n",
      "plugins: typeguard-2.7.1\n",
      "\u001b[1m\rcollecting 0 items                                                             \u001b[0m\u001b[1m\rcollecting 1 item                                                              \u001b[0m\u001b[1m\rcollecting 2 items                                                             \u001b[0m\u001b[1m\rcollected 2 items / 1 deselected                                               \u001b[0m\n",
      "\n",
      "test_my_calendar.py .\u001b[36m                                                    [100%]\u001b[0m\n",
      "\n",
      "\u001b[32m\u001b[1m==================== 1 passed, 1 deselected in 0.08 seconds ====================\u001b[0m\n"
     ]
    }
   ],
   "source": [
    "!python -m pytest -k test_my_calendar"
   ]
  },
  {
   "cell_type": "markdown",
   "metadata": {
    "id": "kK2ra0ggaXPZ"
   },
   "source": [
    "### Mock a file writing\n",
    "https://stackoverflow.com/a/55657594/8280662"
   ]
  },
  {
   "cell_type": "code",
   "execution_count": null,
   "metadata": {
    "id": "xLg0pAoMad35"
   },
   "outputs": [],
   "source": [
    "\"\"\"\n",
    "main.py\n",
    "\"\"\"\n",
    "\n",
    "def write_to_file(text):\n",
    "    with open(\"output.txt\", \"w\") as h:\n",
    "        h.write(text)\n",
    "\n",
    "if __name__ == \"__main__\":\n",
    "    write_to_file(\"Every great dream begins with a dreamer.\")"
   ]
  },
  {
   "cell_type": "code",
   "execution_count": null,
   "metadata": {
    "id": "DNYyDzX4aebD"
   },
   "outputs": [],
   "source": [
    "\"\"\"\n",
    "test_main.py\n",
    "\"\"\"\n",
    "from unittest.mock import patch, mock_open\n",
    "\n",
    "import main\n",
    "\n",
    "\n",
    "def test_do_stuff_with_file():\n",
    "    open_mock = mock_open()\n",
    "    with patch(\"main.open\", open_mock, create=True):\n",
    "        main.write_to_file(\"test-data\")\n",
    "\n",
    "    open_mock.assert_called_with(\"output.txt\", \"w\")\n",
    "    open_mock.return_value.write.assert_called_once_with(\"test-data\")"
   ]
  },
  {
   "cell_type": "markdown",
   "metadata": {
    "id": "nNvbKaReCHO7"
   },
   "source": [
    "## auto-speccing\n",
    "[Notion Notes](https://chetsheng.notion.site/Mock-45bf0064b3f64efb863cc73fdfc8b206)\n",
    "\n",
    "Speecing preconfigures mocks to only respond to methods that actually exist in the spec class. \n"
   ]
  },
  {
   "cell_type": "markdown",
   "metadata": {
    "id": "BotR8gn1Ur5Z"
   },
   "source": [
    "# Markers"
   ]
  },
  {
   "cell_type": "markdown",
   "metadata": {
    "id": "Xi-5nxKPUr5Z"
   },
   "source": [
    "## [Parametrizing tests](https://docs.pytest.org/en/latest/example/parametrize.html)\n",
    "- `@pytest.mark.parametrize` allows one to define multiple sets of arguments and fixtures at the test function or class."
   ]
  },
  {
   "cell_type": "code",
   "execution_count": null,
   "metadata": {
    "colab": {
     "base_uri": "https://localhost:8080/"
    },
    "executionInfo": {
     "elapsed": 900,
     "status": "ok",
     "timestamp": 1605488462542,
     "user": {
      "displayName": "Chet Sheng",
      "photoUrl": "https://lh3.googleusercontent.com/a-/AOh14Gjy_Dk7Ahwv2lZiGE0sUFyBO_xe7OiTtIJ9Qlezaw=s64",
      "userId": "02447232751254445182"
     },
     "user_tz": 0
    },
    "id": "aX02L3InUr5Z",
    "outputId": "0b8b7d06-b0d4-45ce-df46-6cd9d21bca46"
   },
   "outputs": [
    {
     "name": "stdout",
     "output_type": "stream",
     "text": [
      "Writing value_check.py\n"
     ]
    }
   ],
   "source": [
    "%%writefile value_check.py\n",
    "\n",
    "def sum_is_even(a, b):\n",
    "  return (a+b) % 2 ==0"
   ]
  },
  {
   "cell_type": "code",
   "execution_count": null,
   "metadata": {
    "colab": {
     "base_uri": "https://localhost:8080/"
    },
    "executionInfo": {
     "elapsed": 911,
     "status": "ok",
     "timestamp": 1605488464637,
     "user": {
      "displayName": "Chet Sheng",
      "photoUrl": "https://lh3.googleusercontent.com/a-/AOh14Gjy_Dk7Ahwv2lZiGE0sUFyBO_xe7OiTtIJ9Qlezaw=s64",
      "userId": "02447232751254445182"
     },
     "user_tz": 0
    },
    "id": "7g4dZMV2Ur5a",
    "outputId": "0d5e594a-c7d7-4768-b269-d15c16e29ab7"
   },
   "outputs": [
    {
     "name": "stdout",
     "output_type": "stream",
     "text": [
      "Overwriting test_value_check.py\n"
     ]
    }
   ],
   "source": [
    "%%writefile test_value_check.py\n",
    "\n",
    "import pytest\n",
    "from value_check import sum_is_even\n",
    "\n",
    "# @pytest.mark.parametrize(\"inputs, outputs\", list-of-tuples, optional-ids)\n",
    "@pytest.mark.parametrize(\"v1 , v2, expected_result\", [(1, 2, False), (1, 3, True)])\n",
    "def test_sum_is_even(v1, v2, expected_result):\n",
    "  assert sum_is_even(v1, v2) == expected_result\n"
   ]
  },
  {
   "cell_type": "code",
   "execution_count": null,
   "metadata": {
    "colab": {
     "base_uri": "https://localhost:8080/"
    },
    "executionInfo": {
     "elapsed": 1091,
     "status": "ok",
     "timestamp": 1605488470068,
     "user": {
      "displayName": "Chet Sheng",
      "photoUrl": "https://lh3.googleusercontent.com/a-/AOh14Gjy_Dk7Ahwv2lZiGE0sUFyBO_xe7OiTtIJ9Qlezaw=s64",
      "userId": "02447232751254445182"
     },
     "user_tz": 0
    },
    "id": "QLBG_yxdUr5a",
    "outputId": "f67aea6f-e8ed-4f52-e1a7-bfb85ce2ad3c"
   },
   "outputs": [
    {
     "name": "stdout",
     "output_type": "stream",
     "text": [
      "\u001b[1m============================= test session starts ==============================\u001b[0m\n",
      "platform linux -- Python 3.6.9, pytest-3.6.4, py-1.9.0, pluggy-0.7.1\n",
      "rootdir: /content, inifile:\n",
      "plugins: typeguard-2.7.1\n",
      "\u001b[1m\rcollecting 0 items                                                             \u001b[0m\u001b[1m\rcollecting 2 items                                                             \u001b[0m\u001b[1m\rcollected 2 items                                                              \u001b[0m\n",
      "\n",
      "test_value_check.py ..\u001b[36m                                                   [100%]\u001b[0m\n",
      "\n",
      "\u001b[32m\u001b[1m=========================== 2 passed in 0.02 seconds ===========================\u001b[0m\n"
     ]
    }
   ],
   "source": [
    "!python3 -m pytest -k value_check"
   ]
  },
  {
   "cell_type": "markdown",
   "metadata": {
    "id": "svW0S31DUr5a"
   },
   "source": [
    "- [Parametrizing fixtures and test functions](https://docs.pytest.org/en/6.2.x/parametrize.html#pytest-mark-parametrize-parametrizing-test-functions): \n",
    "  - having values only without results also works"
   ]
  },
  {
   "cell_type": "code",
   "execution_count": null,
   "metadata": {
    "id": "a9vKPptMUr5a"
   },
   "outputs": [],
   "source": [
    "import pytest\n",
    "\n",
    "\n",
    "@pytest.mark.parametrize(\"x\", [0, 1])\n",
    "@pytest.mark.parametrize(\"y\", [2, 3])\n",
    "def test_foo(x, y):\n",
    "    pass"
   ]
  },
  {
   "cell_type": "markdown",
   "metadata": {
    "id": "EKyAvboEUr5a"
   },
   "source": [
    "## [Using marks with parametrized fixtures](https://docs.pytest.org/en/stable/fixture.html#using-marks-with-parametrized-fixtures)\n"
   ]
  },
  {
   "cell_type": "markdown",
   "metadata": {},
   "source": [
    "## Indirect Parametrization\n",
    "Using the `indirect=True` parameter when parametrizing a test allows to parametrize a test with a `fixture` receiving the values before passing them to a test\n",
    "- use `@pytest.mark.parametrize` to switch values in `fixture`\n",
    "- The `request` fixture is a special fixture providing information of the requesting test function.\n",
    "- More to read: [Indirect Parametrization With Multiple Fixtures](https://docs.pytest.org/en/7.1.x/example/parametrize.html#indirect-parametrization-with-multiple-fixtures)"
   ]
  },
  {
   "cell_type": "code",
   "execution_count": 27,
   "metadata": {},
   "outputs": [
    {
     "name": "stdout",
     "output_type": "stream",
     "text": [
      "Overwriting test_indirect_params.py\n"
     ]
    }
   ],
   "source": [
    "%%writefile test_indirect_params.py\n",
    "\n",
    "import pytest\n",
    "\n",
    "\n",
    "@pytest.fixture\n",
    "def fixt1(request):\n",
    "    value = request.param * 3\n",
    "    return value\n",
    "\n",
    "\n",
    "@pytest.fixture\n",
    "def fixt2(request):\n",
    "    q = request.param.get(\"queries\", None)\n",
    "    r = request.param.get(\"responses\", None)\n",
    "\n",
    "    outputs = {\"queries\": q, \"responses\": r}\n",
    "    return outputs\n",
    "\n",
    "\n",
    "@pytest.mark.parametrize(\"fixt1\", [\"a\", \"b\"], indirect=True)\n",
    "def test_indirect(fixt1):\n",
    "    print(\"\\n============\")\n",
    "    print(f\"{fixt1=}\")\n",
    "    print(\"============\")\n",
    "    assert len(fixt1) == 3\n",
    "\n",
    "@pytest.mark.parametrize(\"fixt2\", [{\"queries\": \"what's your name?\", \"responses\": \"Chet!\"}], indirect=True)\n",
    "def test_indirect_complex(fixt2):\n",
    "    print(\"\\n============\")\n",
    "    print(f\"{fixt2=}\")\n",
    "    print(\"============\")\n",
    "    assert fixt2 == {\"queries\": \"what's your name?\", \"responses\": \"Chet!\"}"
   ]
  },
  {
   "cell_type": "code",
   "execution_count": 28,
   "metadata": {},
   "outputs": [
    {
     "name": "stdout",
     "output_type": "stream",
     "text": [
      "\u001b[1m============================= test session starts ==============================\u001b[0m\n",
      "platform darwin -- Python 3.10.12, pytest-7.4.3, pluggy-1.3.0\n",
      "rootdir: /Users/cs599777/Library/CloudStorage/GoogleDrive-ihuafengsheng@gmail.com/My Drive/Colab Notebooks/00_Speedy/Python\n",
      "collected 3 items                                                              \u001b[0m\n",
      "\n",
      "test_indirect_params.py \n",
      "============\n",
      "fixt1='aaa'\n",
      "============\n",
      "\u001b[32m.\u001b[0m\n",
      "============\n",
      "fixt1='bbb'\n",
      "============\n",
      "\u001b[32m.\u001b[0m\n",
      "============\n",
      "fixt2={'queries': \"what's your name?\", 'responses': 'Chet!'}\n",
      "============\n",
      "\u001b[32m.\u001b[0m\n",
      "\n",
      "\u001b[32m============================== \u001b[32m\u001b[1m3 passed\u001b[0m\u001b[32m in 0.01s\u001b[0m\u001b[32m ===============================\u001b[0m\n"
     ]
    }
   ],
   "source": [
    "!python3 -m pytest -k test_indirect_params -s"
   ]
  },
  {
   "cell_type": "markdown",
   "metadata": {
    "id": "zvUqndTfsjC3"
   },
   "source": [
    "# [freezegun](https://github.com/spulec/freezegun)\n",
    "Freezegun allows your Python tests to travel through time by mocking the `datetime` module.\n",
    "- Once the `decorator` or `context manager` have been invoked, all calls to `datetime.datetime.now()`, `datetime.datetime.utcnow()`, `datetime.date.today()`, `time.time()`, `time.localtime()`, `time.gmtime()`, and `time.strftime()` will return the time that has been frozen. `time.monotonic()` will also be frozen, but as usual it makes no guarantees about its absolute value, only its changes over time."
   ]
  },
  {
   "cell_type": "code",
   "execution_count": null,
   "metadata": {
    "colab": {
     "base_uri": "https://localhost:8080/"
    },
    "executionInfo": {
     "elapsed": 3732,
     "status": "ok",
     "timestamp": 1619650634801,
     "user": {
      "displayName": "Chet Sheng",
      "photoUrl": "https://lh3.googleusercontent.com/a-/AOh14Gjy_Dk7Ahwv2lZiGE0sUFyBO_xe7OiTtIJ9Qlezaw=s64",
      "userId": "02447232751254445182"
     },
     "user_tz": -60
    },
    "id": "pvCGvql0snG6",
    "outputId": "55343330-f629-46d6-c13f-4abef5fea1e2"
   },
   "outputs": [
    {
     "name": "stdout",
     "output_type": "stream",
     "text": [
      "Collecting freezegun\n",
      "  Downloading https://files.pythonhosted.org/packages/0b/db/00008ccad284d2dfd2701245fef219b9018687d8ce1d835cd2965b9fb6b8/freezegun-1.1.0-py2.py3-none-any.whl\n",
      "Requirement already satisfied: python-dateutil>=2.7 in /usr/local/lib/python3.7/dist-packages (from freezegun) (2.8.1)\n",
      "Requirement already satisfied: six>=1.5 in /usr/local/lib/python3.7/dist-packages (from python-dateutil>=2.7->freezegun) (1.15.0)\n",
      "Installing collected packages: freezegun\n",
      "Successfully installed freezegun-1.1.0\n"
     ]
    }
   ],
   "source": [
    "!pip install freezegun"
   ]
  },
  {
   "cell_type": "code",
   "execution_count": null,
   "metadata": {
    "id": "olIUr3mGs1Vk"
   },
   "outputs": [],
   "source": [
    "from freezegun import freeze_time\n",
    "import datetime\n",
    "import unittest\n",
    "\n",
    "@freeze_time(\"2012-01-14\")\n",
    "def test():\n",
    "    assert datetime.datetime.now() == datetime.datetime(2012, 1, 14)\n",
    "\n",
    "test()"
   ]
  },
  {
   "cell_type": "code",
   "execution_count": null,
   "metadata": {
    "colab": {
     "base_uri": "https://localhost:8080/"
    },
    "executionInfo": {
     "elapsed": 673,
     "status": "ok",
     "timestamp": 1619651132873,
     "user": {
      "displayName": "Chet Sheng",
      "photoUrl": "https://lh3.googleusercontent.com/a-/AOh14Gjy_Dk7Ahwv2lZiGE0sUFyBO_xe7OiTtIJ9Qlezaw=s64",
      "userId": "02447232751254445182"
     },
     "user_tz": -60
    },
    "id": "RHiCUby6tYuv",
    "outputId": "9e5c7d52-615d-43a3-ccd7-be3104d69fd9"
   },
   "outputs": [
    {
     "name": "stdout",
     "output_type": "stream",
     "text": [
      "Overwriting events.py\n"
     ]
    }
   ],
   "source": [
    "%%writefile events.py\n",
    "from datetime import datetime, timezone\n",
    "\n",
    "def create_event(id, state, source):\n",
    "    event = {\n",
    "        \"id\": id,\n",
    "        \"live\": {\n",
    "            \"core\": {\n",
    "                \"group\": {\n",
    "                    \"state\": {\"current\": state},\n",
    "                    \"states\": {\n",
    "                        state: {\"source\": source, \"dt\": datetime.now(timezone.utc).isoformat()}\n",
    "                    },\n",
    "                }\n",
    "            }\n",
    "        },\n",
    "    }\n",
    "    return event"
   ]
  },
  {
   "cell_type": "code",
   "execution_count": null,
   "metadata": {
    "colab": {
     "base_uri": "https://localhost:8080/"
    },
    "executionInfo": {
     "elapsed": 381,
     "status": "ok",
     "timestamp": 1619651133025,
     "user": {
      "displayName": "Chet Sheng",
      "photoUrl": "https://lh3.googleusercontent.com/a-/AOh14Gjy_Dk7Ahwv2lZiGE0sUFyBO_xe7OiTtIJ9Qlezaw=s64",
      "userId": "02447232751254445182"
     },
     "user_tz": -60
    },
    "id": "Gr1cJsZAtqeX",
    "outputId": "5d19b84d-0001-4410-eff3-c44c9bea3e3f"
   },
   "outputs": [
    {
     "name": "stdout",
     "output_type": "stream",
     "text": [
      "Overwriting test_events.py\n"
     ]
    }
   ],
   "source": [
    "%%writefile test_events.py\n",
    "from datetime import datetime, timezone\n",
    "import freezegun\n",
    "\n",
    "from events import create_event\n",
    "\n",
    "@freezegun.freeze_time(\"2021-01-01 12:30:00\")\n",
    "def test_create_event():\n",
    "\n",
    "    event = create_event(id=1, state=\"applied\", source=\"chet\")\n",
    "\n",
    "    expected = {\n",
    "        \"id\": 1,\n",
    "        \"live\": {\n",
    "            \"core\": {\n",
    "                \"group\": {\n",
    "                    \"state\": {\"current\": \"applied\"},\n",
    "                    \"states\": {\n",
    "                        \"applied\": {\"source\": \"chet\", \"dt\": datetime.now(timezone.utc).isoformat()}\n",
    "                    },\n",
    "                }\n",
    "            }\n",
    "        },\n",
    "    }\n",
    "    assert event == expected"
   ]
  },
  {
   "cell_type": "code",
   "execution_count": null,
   "metadata": {
    "colab": {
     "base_uri": "https://localhost:8080/"
    },
    "executionInfo": {
     "elapsed": 1154,
     "status": "ok",
     "timestamp": 1619651134323,
     "user": {
      "displayName": "Chet Sheng",
      "photoUrl": "https://lh3.googleusercontent.com/a-/AOh14Gjy_Dk7Ahwv2lZiGE0sUFyBO_xe7OiTtIJ9Qlezaw=s64",
      "userId": "02447232751254445182"
     },
     "user_tz": -60
    },
    "id": "oG0pZ3Ejtzw3",
    "outputId": "d8a22902-bab3-45be-a999-8f4a9a1fe752"
   },
   "outputs": [
    {
     "name": "stdout",
     "output_type": "stream",
     "text": [
      "\u001b[1m============================= test session starts ==============================\u001b[0m\n",
      "platform linux -- Python 3.7.10, pytest-3.6.4, py-1.10.0, pluggy-0.7.1\n",
      "rootdir: /content, inifile:\n",
      "plugins: typeguard-2.7.1\n",
      "\u001b[1m\rcollecting 0 items                                                             \u001b[0m\u001b[1m\rcollecting 1 item                                                              \u001b[0m\u001b[1m\rcollecting 3 items                                                             \u001b[0m\u001b[1m\rcollecting 5 items                                                             \u001b[0m\u001b[1m\rcollecting 7 items                                                             \u001b[0m\u001b[1m\rcollecting 10 items                                                            \u001b[0m\u001b[1m\rcollecting 12 items                                                            \u001b[0m\u001b[1m\rcollecting 13 items                                                            \u001b[0m\u001b[1m\rcollecting 14 items                                                            \u001b[0m\u001b[1m\rcollected 14 items / 13 deselected                                             \u001b[0m\n",
      "\n",
      "test_events.py .\u001b[36m                                                         [100%]\u001b[0m\n",
      "\n",
      "\u001b[32m\u001b[1m=================== 1 passed, 13 deselected in 0.18 seconds ====================\u001b[0m\n"
     ]
    }
   ],
   "source": [
    "!python3 -m pytest -k test_events"
   ]
  },
  {
   "cell_type": "markdown",
   "metadata": {
    "id": "SoUBNie5u_0G"
   },
   "source": [
    "# moto\n",
    "moto is used to mock boto3\n",
    "\n",
    "Examples:\n",
    "- `goku/test_model_utils.py`\n",
    "- [https://git.lystit.com/chetsheng/figueres/blob/4241dbae9db230ba45c14925dc42961f35f65b11/tests/figueres/test_utils.py](https://git.lystit.com/chetsheng/figueres/blob/4241dbae9db230ba45c14925dc42961f35f65b11/tests/figueres/test_utils.py)\n"
   ]
  },
  {
   "cell_type": "code",
   "execution_count": 8,
   "metadata": {
    "colab": {
     "base_uri": "https://localhost:8080/"
    },
    "executionInfo": {
     "elapsed": 3570,
     "status": "ok",
     "timestamp": 1629377065331,
     "user": {
      "displayName": "Chet Sheng",
      "photoUrl": "https://lh3.googleusercontent.com/a-/AOh14Gjy_Dk7Ahwv2lZiGE0sUFyBO_xe7OiTtIJ9Qlezaw=s64",
      "userId": "02447232751254445182"
     },
     "user_tz": -60
    },
    "id": "DwzeT0s1N5JF",
    "outputId": "78fe0e29-a076-40cc-db72-c2af9bb3732c"
   },
   "outputs": [
    {
     "name": "stdout",
     "output_type": "stream",
     "text": [
      "Requirement already satisfied: boto3 in ./venv/lib/python3.11/site-packages (1.36.8)\n",
      "Requirement already satisfied: moto[all] in ./venv/lib/python3.11/site-packages (5.0.27)\n",
      "Requirement already satisfied: botocore<1.37.0,>=1.36.8 in ./venv/lib/python3.11/site-packages (from boto3) (1.36.8)\n",
      "Requirement already satisfied: jmespath<2.0.0,>=0.7.1 in ./venv/lib/python3.11/site-packages (from boto3) (1.0.1)\n",
      "Requirement already satisfied: s3transfer<0.12.0,>=0.11.0 in ./venv/lib/python3.11/site-packages (from boto3) (0.11.2)\n",
      "Requirement already satisfied: cryptography>=35.0.0 in ./venv/lib/python3.11/site-packages (from moto[all]) (44.0.0)\n",
      "Requirement already satisfied: requests>=2.5 in ./venv/lib/python3.11/site-packages (from moto[all]) (2.32.3)\n",
      "Requirement already satisfied: xmltodict in ./venv/lib/python3.11/site-packages (from moto[all]) (0.14.2)\n",
      "Requirement already satisfied: werkzeug!=2.2.0,!=2.2.1,>=0.5 in ./venv/lib/python3.11/site-packages (from moto[all]) (3.1.3)\n",
      "Requirement already satisfied: python-dateutil<3.0.0,>=2.1 in ./venv/lib/python3.11/site-packages (from moto[all]) (2.9.0.post0)\n",
      "Requirement already satisfied: responses!=0.25.5,>=0.15.0 in ./venv/lib/python3.11/site-packages (from moto[all]) (0.25.6)\n",
      "Requirement already satisfied: Jinja2>=2.10.1 in ./venv/lib/python3.11/site-packages (from moto[all]) (3.1.5)\n",
      "Requirement already satisfied: antlr4-python3-runtime in ./venv/lib/python3.11/site-packages (from moto[all]) (4.9.3)\n",
      "Collecting joserfc>=0.9.0 (from moto[all])\n",
      "  Downloading joserfc-1.0.2-py3-none-any.whl.metadata (2.8 kB)\n",
      "Collecting jsonpath-ng (from moto[all])\n",
      "  Downloading jsonpath_ng-1.7.0-py3-none-any.whl.metadata (18 kB)\n",
      "Collecting docker>=3.0.0 (from moto[all])\n",
      "  Downloading docker-7.1.0-py3-none-any.whl.metadata (3.8 kB)\n",
      "Collecting graphql-core (from moto[all])\n",
      "  Downloading graphql_core-3.2.6-py3-none-any.whl.metadata (11 kB)\n",
      "Requirement already satisfied: PyYAML>=5.1 in ./venv/lib/python3.11/site-packages (from moto[all]) (6.0.2)\n",
      "Collecting cfn-lint>=0.40.0 (from moto[all])\n",
      "  Downloading cfn_lint-1.22.7-py3-none-any.whl.metadata (22 kB)\n",
      "Collecting jsonschema (from moto[all])\n",
      "  Downloading jsonschema-4.23.0-py3-none-any.whl.metadata (7.9 kB)\n",
      "Collecting openapi-spec-validator>=0.5.0 (from moto[all])\n",
      "  Downloading openapi_spec_validator-0.7.1-py3-none-any.whl.metadata (5.7 kB)\n",
      "Collecting pyparsing>=3.0.7 (from moto[all])\n",
      "  Downloading pyparsing-3.2.1-py3-none-any.whl.metadata (5.0 kB)\n",
      "Collecting py-partiql-parser==0.6.1 (from moto[all])\n",
      "  Downloading py_partiql_parser-0.6.1-py2.py3-none-any.whl.metadata (2.4 kB)\n",
      "Collecting aws-xray-sdk!=0.96,>=0.93 (from moto[all])\n",
      "  Downloading aws_xray_sdk-2.14.0-py2.py3-none-any.whl.metadata (22 kB)\n",
      "Requirement already satisfied: setuptools in ./venv/lib/python3.11/site-packages (from moto[all]) (65.5.0)\n",
      "Collecting multipart (from moto[all])\n",
      "  Downloading multipart-1.2.1-py3-none-any.whl.metadata (4.4 kB)\n",
      "Collecting wrapt (from aws-xray-sdk!=0.96,>=0.93->moto[all])\n",
      "  Downloading wrapt-1.17.2-cp311-cp311-macosx_11_0_arm64.whl.metadata (6.4 kB)\n",
      "Requirement already satisfied: urllib3!=2.2.0,<3,>=1.25.4 in ./venv/lib/python3.11/site-packages (from botocore<1.37.0,>=1.36.8->boto3) (2.3.0)\n",
      "Collecting aws-sam-translator>=1.94.0 (from cfn-lint>=0.40.0->moto[all])\n",
      "  Downloading aws_sam_translator-1.94.0-py3-none-any.whl.metadata (8.3 kB)\n",
      "Collecting jsonpatch (from cfn-lint>=0.40.0->moto[all])\n",
      "  Using cached jsonpatch-1.33-py2.py3-none-any.whl.metadata (3.0 kB)\n",
      "Collecting networkx<4,>=2.4 (from cfn-lint>=0.40.0->moto[all])\n",
      "  Downloading networkx-3.4.2-py3-none-any.whl.metadata (6.3 kB)\n",
      "Collecting sympy>=1.0.0 (from cfn-lint>=0.40.0->moto[all])\n",
      "  Downloading sympy-1.13.3-py3-none-any.whl.metadata (12 kB)\n",
      "Collecting regex (from cfn-lint>=0.40.0->moto[all])\n",
      "  Using cached regex-2024.11.6-cp311-cp311-macosx_11_0_arm64.whl.metadata (40 kB)\n",
      "Requirement already satisfied: typing_extensions in ./venv/lib/python3.11/site-packages (from cfn-lint>=0.40.0->moto[all]) (4.12.2)\n",
      "Requirement already satisfied: cffi>=1.12 in ./venv/lib/python3.11/site-packages (from cryptography>=35.0.0->moto[all]) (1.17.1)\n",
      "Requirement already satisfied: MarkupSafe>=2.0 in ./venv/lib/python3.11/site-packages (from Jinja2>=2.10.1->moto[all]) (3.0.2)\n",
      "Collecting jsonschema-path<0.4.0,>=0.3.1 (from openapi-spec-validator>=0.5.0->moto[all])\n",
      "  Downloading jsonschema_path-0.3.4-py3-none-any.whl.metadata (4.3 kB)\n",
      "Collecting lazy-object-proxy<2.0.0,>=1.7.1 (from openapi-spec-validator>=0.5.0->moto[all])\n",
      "  Downloading lazy-object-proxy-1.10.0.tar.gz (43 kB)\n",
      "  Installing build dependencies ... \u001b[?25ldone\n",
      "\u001b[?25h  Getting requirements to build wheel ... \u001b[?25ldone\n",
      "\u001b[?25h  Preparing metadata (pyproject.toml) ... \u001b[?25ldone\n",
      "\u001b[?25hCollecting openapi-schema-validator<0.7.0,>=0.6.0 (from openapi-spec-validator>=0.5.0->moto[all])\n",
      "  Downloading openapi_schema_validator-0.6.3-py3-none-any.whl.metadata (5.4 kB)\n",
      "Collecting attrs>=22.2.0 (from jsonschema->moto[all])\n",
      "  Downloading attrs-25.1.0-py3-none-any.whl.metadata (10 kB)\n",
      "Collecting jsonschema-specifications>=2023.03.6 (from jsonschema->moto[all])\n",
      "  Downloading jsonschema_specifications-2024.10.1-py3-none-any.whl.metadata (3.0 kB)\n",
      "Collecting referencing>=0.28.4 (from jsonschema->moto[all])\n",
      "  Downloading referencing-0.36.2-py3-none-any.whl.metadata (2.8 kB)\n",
      "Collecting rpds-py>=0.7.1 (from jsonschema->moto[all])\n",
      "  Downloading rpds_py-0.22.3-cp311-cp311-macosx_11_0_arm64.whl.metadata (4.2 kB)\n",
      "Requirement already satisfied: six>=1.5 in ./venv/lib/python3.11/site-packages (from python-dateutil<3.0.0,>=2.1->moto[all]) (1.17.0)\n",
      "Requirement already satisfied: charset-normalizer<4,>=2 in ./venv/lib/python3.11/site-packages (from requests>=2.5->moto[all]) (3.4.1)\n",
      "Requirement already satisfied: idna<4,>=2.5 in ./venv/lib/python3.11/site-packages (from requests>=2.5->moto[all]) (3.10)\n",
      "Requirement already satisfied: certifi>=2017.4.17 in ./venv/lib/python3.11/site-packages (from requests>=2.5->moto[all]) (2024.12.14)\n",
      "Collecting ply (from jsonpath-ng->moto[all])\n",
      "  Downloading ply-3.11-py2.py3-none-any.whl.metadata (844 bytes)\n",
      "Requirement already satisfied: pydantic!=1.10.15,!=1.10.17,<3,>=1.8 in ./venv/lib/python3.11/site-packages (from aws-sam-translator>=1.94.0->cfn-lint>=0.40.0->moto[all]) (2.10.6)\n",
      "Requirement already satisfied: pycparser in ./venv/lib/python3.11/site-packages (from cffi>=1.12->cryptography>=35.0.0->moto[all]) (2.22)\n",
      "Collecting pathable<0.5.0,>=0.4.1 (from jsonschema-path<0.4.0,>=0.3.1->openapi-spec-validator>=0.5.0->moto[all])\n",
      "  Downloading pathable-0.4.4-py3-none-any.whl.metadata (1.8 kB)\n",
      "Collecting rfc3339-validator (from openapi-schema-validator<0.7.0,>=0.6.0->openapi-spec-validator>=0.5.0->moto[all])\n",
      "  Downloading rfc3339_validator-0.1.4-py2.py3-none-any.whl.metadata (1.5 kB)\n",
      "Collecting mpmath<1.4,>=1.1.0 (from sympy>=1.0.0->cfn-lint>=0.40.0->moto[all])\n",
      "  Downloading mpmath-1.3.0-py3-none-any.whl.metadata (8.6 kB)\n",
      "Collecting jsonpointer>=1.9 (from jsonpatch->cfn-lint>=0.40.0->moto[all])\n",
      "  Using cached jsonpointer-3.0.0-py2.py3-none-any.whl.metadata (2.3 kB)\n",
      "Requirement already satisfied: annotated-types>=0.6.0 in ./venv/lib/python3.11/site-packages (from pydantic!=1.10.15,!=1.10.17,<3,>=1.8->aws-sam-translator>=1.94.0->cfn-lint>=0.40.0->moto[all]) (0.7.0)\n",
      "Requirement already satisfied: pydantic-core==2.27.2 in ./venv/lib/python3.11/site-packages (from pydantic!=1.10.15,!=1.10.17,<3,>=1.8->aws-sam-translator>=1.94.0->cfn-lint>=0.40.0->moto[all]) (2.27.2)\n",
      "Downloading py_partiql_parser-0.6.1-py2.py3-none-any.whl (23 kB)\n",
      "Downloading aws_xray_sdk-2.14.0-py2.py3-none-any.whl (101 kB)\n",
      "Downloading cfn_lint-1.22.7-py3-none-any.whl (4.8 MB)\n",
      "\u001b[2K   \u001b[90m━━━━━━━━━━━━━━━━━━━━━━━━━━━━━━━━━━━━━━━━\u001b[0m \u001b[32m4.8/4.8 MB\u001b[0m \u001b[31m8.8 MB/s\u001b[0m eta \u001b[36m0:00:00\u001b[0ma \u001b[36m0:00:01\u001b[0m\n",
      "\u001b[?25hDownloading docker-7.1.0-py3-none-any.whl (147 kB)\n",
      "Downloading joserfc-1.0.2-py3-none-any.whl (60 kB)\n",
      "Downloading openapi_spec_validator-0.7.1-py3-none-any.whl (38 kB)\n",
      "Downloading jsonschema-4.23.0-py3-none-any.whl (88 kB)\n",
      "Downloading pyparsing-3.2.1-py3-none-any.whl (107 kB)\n",
      "Downloading graphql_core-3.2.6-py3-none-any.whl (203 kB)\n",
      "Downloading jsonpath_ng-1.7.0-py3-none-any.whl (30 kB)\n",
      "Downloading multipart-1.2.1-py3-none-any.whl (13 kB)\n",
      "Downloading attrs-25.1.0-py3-none-any.whl (63 kB)\n",
      "Downloading aws_sam_translator-1.94.0-py3-none-any.whl (384 kB)\n",
      "Downloading jsonschema_path-0.3.4-py3-none-any.whl (14 kB)\n",
      "Downloading jsonschema_specifications-2024.10.1-py3-none-any.whl (18 kB)\n",
      "Downloading networkx-3.4.2-py3-none-any.whl (1.7 MB)\n",
      "\u001b[2K   \u001b[90m━━━━━━━━━━━━━━━━━━━━━━━━━━━━━━━━━━━━━━━━\u001b[0m \u001b[32m1.7/1.7 MB\u001b[0m \u001b[31m9.5 MB/s\u001b[0m eta \u001b[36m0:00:00\u001b[0mta \u001b[36m0:00:01\u001b[0m\n",
      "\u001b[?25hDownloading openapi_schema_validator-0.6.3-py3-none-any.whl (8.8 kB)\n",
      "Downloading referencing-0.36.2-py3-none-any.whl (26 kB)\n",
      "Downloading rpds_py-0.22.3-cp311-cp311-macosx_11_0_arm64.whl (349 kB)\n",
      "Downloading sympy-1.13.3-py3-none-any.whl (6.2 MB)\n",
      "\u001b[2K   \u001b[90m━━━━━━━━━━━━━━━━━━━━━━━━━━━━━━━━━━━━━━━━\u001b[0m \u001b[32m6.2/6.2 MB\u001b[0m \u001b[31m10.1 MB/s\u001b[0m eta \u001b[36m0:00:00\u001b[0ma \u001b[36m0:00:01\u001b[0m\n",
      "\u001b[?25hUsing cached jsonpatch-1.33-py2.py3-none-any.whl (12 kB)\n",
      "Downloading ply-3.11-py2.py3-none-any.whl (49 kB)\n",
      "Using cached regex-2024.11.6-cp311-cp311-macosx_11_0_arm64.whl (284 kB)\n",
      "Downloading wrapt-1.17.2-cp311-cp311-macosx_11_0_arm64.whl (38 kB)\n",
      "Using cached jsonpointer-3.0.0-py2.py3-none-any.whl (7.6 kB)\n",
      "Downloading mpmath-1.3.0-py3-none-any.whl (536 kB)\n",
      "\u001b[2K   \u001b[90m━━━━━━━━━━━━━━━━━━━━━━━━━━━━━━━━━━━━━━━━\u001b[0m \u001b[32m536.2/536.2 kB\u001b[0m \u001b[31m9.4 MB/s\u001b[0m eta \u001b[36m0:00:00\u001b[0m\n",
      "\u001b[?25hDownloading pathable-0.4.4-py3-none-any.whl (9.6 kB)\n",
      "Downloading rfc3339_validator-0.1.4-py2.py3-none-any.whl (3.5 kB)\n",
      "Building wheels for collected packages: lazy-object-proxy\n",
      "  Building wheel for lazy-object-proxy (pyproject.toml) ... \u001b[?25ldone\n",
      "\u001b[?25h  Created wheel for lazy-object-proxy: filename=lazy_object_proxy-1.10.0-cp311-cp311-macosx_15_0_arm64.whl size=27381 sha256=c4dc33a333d7861e2d4139456233bcb955a08cd55f836e1879f2954060ae7bd6\n",
      "  Stored in directory: /Users/hfsg/Library/Caches/pip/wheels/45/d2/05/80fb45f67a09662d968466f3d47f7e358f523bb107169b8acb\n",
      "Successfully built lazy-object-proxy\n",
      "Installing collected packages: py-partiql-parser, ply, mpmath, wrapt, sympy, rpds-py, rfc3339-validator, regex, pyparsing, pathable, networkx, multipart, lazy-object-proxy, jsonpointer, jsonpath-ng, graphql-core, attrs, referencing, jsonpatch, docker, jsonschema-specifications, jsonschema-path, joserfc, aws-xray-sdk, jsonschema, openapi-schema-validator, aws-sam-translator, openapi-spec-validator, cfn-lint\n",
      "Successfully installed attrs-25.1.0 aws-sam-translator-1.94.0 aws-xray-sdk-2.14.0 cfn-lint-1.22.7 docker-7.1.0 graphql-core-3.2.6 joserfc-1.0.2 jsonpatch-1.33 jsonpath-ng-1.7.0 jsonpointer-3.0.0 jsonschema-4.23.0 jsonschema-path-0.3.4 jsonschema-specifications-2024.10.1 lazy-object-proxy-1.10.0 mpmath-1.3.0 multipart-1.2.1 networkx-3.4.2 openapi-schema-validator-0.6.3 openapi-spec-validator-0.7.1 pathable-0.4.4 ply-3.11 py-partiql-parser-0.6.1 pyparsing-3.2.1 referencing-0.36.2 regex-2024.11.6 rfc3339-validator-0.1.4 rpds-py-0.22.3 sympy-1.13.3 wrapt-1.17.2\n"
     ]
    }
   ],
   "source": [
    "!pip install boto3 'moto[all]'"
   ]
  },
  {
   "cell_type": "code",
   "execution_count": 13,
   "metadata": {
    "id": "txejxfmbOAPF"
   },
   "outputs": [],
   "source": [
    "import tarfile\n",
    "import tempfile\n",
    "\n",
    "import boto3\n",
    "from moto import mock_aws\n",
    "\n",
    "\n",
    "def download_file_from_s3(bucket: str, remote_object_path: str, local_file_path: str) -> None:\n",
    "    \"\"\"\n",
    "    Downloads a file from s3, and saves it to the local directory specified.\n",
    "    \"\"\"\n",
    "    s3 = boto3.client(\"s3\")\n",
    "    s3.download_file(Bucket=bucket, Key=remote_object_path, Filename=local_file_path)\n",
    "\n",
    "\n",
    "@mock_aws\n",
    "def test_download_file_from_s3(tmp_path):\n",
    "    resource = boto3.resource(\"s3\", region_name=\"us-east-1\")\n",
    "\n",
    "    bucket = \"lyst-bucket\"\n",
    "    resource.create_bucket(Bucket=bucket)\n",
    "\n",
    "    path = \"some/path/a_file.txt\"\n",
    "    body = \"This is some text\"\n",
    "    resource.Object(bucket, path).put(Body=body)\n",
    "\n",
    "    download_file_from_s3(bucket, path, tmp_path.name)\n",
    "\n",
    "    with open(tmp_path.name) as f:\n",
    "        content = f.read()\n",
    "        assert content == body\n",
    "        print(f\"content: {content}\")"
   ]
  },
  {
   "cell_type": "code",
   "execution_count": 15,
   "metadata": {
    "colab": {
     "base_uri": "https://localhost:8080/"
    },
    "executionInfo": {
     "elapsed": 180,
     "status": "ok",
     "timestamp": 1629377133340,
     "user": {
      "displayName": "Chet Sheng",
      "photoUrl": "https://lh3.googleusercontent.com/a-/AOh14Gjy_Dk7Ahwv2lZiGE0sUFyBO_xe7OiTtIJ9Qlezaw=s64",
      "userId": "02447232751254445182"
     },
     "user_tz": -60
    },
    "id": "2S_1tNvmO9xA",
    "outputId": "0d483ce3-5fb9-4e71-8d6f-17c851683465"
   },
   "outputs": [
    {
     "ename": "TypeError",
     "evalue": "test_download_file_from_s3() missing 1 required positional argument: 'tmp_path'",
     "output_type": "error",
     "traceback": [
      "\u001b[0;31m---------------------------------------------------------------------------\u001b[0m",
      "\u001b[0;31mTypeError\u001b[0m                                 Traceback (most recent call last)",
      "Cell \u001b[0;32mIn[15], line 1\u001b[0m\n\u001b[0;32m----> 1\u001b[0m \u001b[43mtest_download_file_from_s3\u001b[49m\u001b[43m(\u001b[49m\u001b[43m)\u001b[49m\n",
      "File \u001b[0;32m~/repo/Speedy/Python/venv/lib/python3.11/site-packages/moto/core/models.py:122\u001b[0m, in \u001b[0;36mMockAWS._decorate_callable.<locals>.wrapper\u001b[0;34m(*args, **kwargs)\u001b[0m\n\u001b[1;32m    120\u001b[0m \u001b[38;5;28mself\u001b[39m\u001b[38;5;241m.\u001b[39mstart(reset\u001b[38;5;241m=\u001b[39mreset)\n\u001b[1;32m    121\u001b[0m \u001b[38;5;28;01mtry\u001b[39;00m:\n\u001b[0;32m--> 122\u001b[0m     result \u001b[38;5;241m=\u001b[39m \u001b[43mfunc\u001b[49m\u001b[43m(\u001b[49m\u001b[38;5;241;43m*\u001b[39;49m\u001b[43margs\u001b[49m\u001b[43m,\u001b[49m\u001b[43m \u001b[49m\u001b[38;5;241;43m*\u001b[39;49m\u001b[38;5;241;43m*\u001b[39;49m\u001b[43mkwargs\u001b[49m\u001b[43m)\u001b[49m\n\u001b[1;32m    123\u001b[0m \u001b[38;5;28;01mfinally\u001b[39;00m:\n\u001b[1;32m    124\u001b[0m     \u001b[38;5;28mself\u001b[39m\u001b[38;5;241m.\u001b[39mstop(remove_data\u001b[38;5;241m=\u001b[39mremove_data)\n",
      "\u001b[0;31mTypeError\u001b[0m: test_download_file_from_s3() missing 1 required positional argument: 'tmp_path'"
     ]
    }
   ],
   "source": [
    "test_download_file_from_s3()"
   ]
  },
  {
   "cell_type": "markdown",
   "metadata": {
    "id": "OdJZTsDcjgxT"
   },
   "source": [
    "# Factory_boy & Faker\n",
    "https://colab.research.google.com/drive/1ufscOECvZNMSpqkoM-bLHS-3CqStBLt7#scrollTo=pklyZcQRCDco"
   ]
  },
  {
   "cell_type": "markdown",
   "metadata": {
    "id": "RBjoS7FBjh7m"
   },
   "source": [
    "# With Django"
   ]
  },
  {
   "cell_type": "markdown",
   "metadata": {
    "id": "jC7T7GoUjjeI"
   },
   "source": [
    "## Test Django ORM\n",
    "`@pytest.mark.django_db`:\n",
    "- This is used to mark a test function as requiring the database. It will ensure the __database is set up correctly for the test__. \n",
    "  - Each test will run __in its own transaction__ which will __be rolled back__ at the end of the test. This behavior is the same as Django’s standard `TestCase` class.\n",
    "\n",
    "Examples: `lyst-gohan/tests/gohan/test_models.py`"
   ]
  },
  {
   "cell_type": "markdown",
   "metadata": {
    "id": "9yolLjFzqUVa"
   },
   "source": [
    "## Management Command\n",
    "- Example: `judy/tests/judy/management/commands/test_generate_candidates.py` (LYST) Management command + Monkeypatch"
   ]
  },
  {
   "cell_type": "code",
   "execution_count": null,
   "metadata": {
    "id": "6m6sz2qMqbLr"
   },
   "outputs": [],
   "source": []
  }
 ],
 "metadata": {
  "colab": {
   "authorship_tag": "ABX9TyM3ZQf2++o1hf9gNM6cVBO6",
   "provenance": [],
   "toc_visible": true
  },
  "kernelspec": {
   "display_name": "venv",
   "language": "python",
   "name": "python3"
  },
  "language_info": {
   "codemirror_mode": {
    "name": "ipython",
    "version": 3
   },
   "file_extension": ".py",
   "mimetype": "text/x-python",
   "name": "python",
   "nbconvert_exporter": "python",
   "pygments_lexer": "ipython3",
   "version": "3.11.11"
  }
 },
 "nbformat": 4,
 "nbformat_minor": 0
}
