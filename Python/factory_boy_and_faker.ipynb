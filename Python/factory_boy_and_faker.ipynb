{
 "cells": [
  {
   "cell_type": "code",
   "execution_count": null,
   "metadata": {
    "colab": {
     "base_uri": "https://localhost:8080/"
    },
    "executionInfo": {
     "elapsed": 6074,
     "status": "ok",
     "timestamp": 1626534496878,
     "user": {
      "displayName": "Chet Sheng",
      "photoUrl": "https://lh3.googleusercontent.com/a-/AOh14Gjy_Dk7Ahwv2lZiGE0sUFyBO_xe7OiTtIJ9Qlezaw=s64",
      "userId": "02447232751254445182"
     },
     "user_tz": -60
    },
    "id": "p-2uF1DKFltc",
    "outputId": "54fd32f1-8d9b-4f04-b39d-f39199ff001d"
   },
   "outputs": [
    {
     "name": "stdout",
     "output_type": "stream",
     "text": [
      "Collecting factory_boy\n",
      "  Downloading https://files.pythonhosted.org/packages/69/62/41a5a7ed8a474072d491521562ffbeb18a869c090c21506f890298433fab/factory_boy-3.2.0-py2.py3-none-any.whl\n",
      "Collecting Faker>=0.7.0\n",
      "\u001b[?25l  Downloading https://files.pythonhosted.org/packages/c4/8f/dd3f3b78dba5849041454f63b2426b95cd7e6a840ceec83a7764be3d049e/Faker-8.10.1-py3-none-any.whl (1.2MB)\n",
      "\u001b[K     |████████████████████████████████| 1.2MB 9.4MB/s \n",
      "\u001b[?25hRequirement already satisfied: python-dateutil>=2.4 in /usr/local/lib/python3.7/dist-packages (from Faker>=0.7.0->factory_boy) (2.8.1)\n",
      "Requirement already satisfied: text-unidecode==1.3 in /usr/local/lib/python3.7/dist-packages (from Faker>=0.7.0->factory_boy) (1.3)\n",
      "Requirement already satisfied: six>=1.5 in /usr/local/lib/python3.7/dist-packages (from python-dateutil>=2.4->Faker>=0.7.0->factory_boy) (1.15.0)\n",
      "Installing collected packages: Faker, factory-boy\n",
      "Successfully installed Faker-8.10.1 factory-boy-3.2.0\n"
     ]
    }
   ],
   "source": [
    "!pip install factory_boy"
   ]
  },
  {
   "cell_type": "markdown",
   "metadata": {
    "id": "-DVmEBt8fcfi"
   },
   "source": [
    "# Factory Boy"
   ]
  },
  {
   "cell_type": "markdown",
   "metadata": {},
   "source": [
    "Since factory_boy is typically used in the context of testing, the most common and recommended place to put your factory definitions is within your tests directory. Here’s a suggested structure:\n",
    "\n",
    "1. Place Factories in a Dedicated Module:\n",
    "    - Within your tests directory, create a `factories.py` file or a `factories` package that holds all of your factory definitions. This keeps your tests organized and makes it easy to import the factories where needed.\n",
    "2. Organizational Example:\n",
    "    ```bash\n",
    "    your_project/\n",
    "    ├── your_app/\n",
    "    │   ├── __init__.py\n",
    "    │   ├── models.py\n",
    "    │   └── views.py\n",
    "    ├── tests/\n",
    "    │   ├── __init__.py\n",
    "    │   ├── factories.py  # Place here\n",
    "    │   ├── test_models.py\n",
    "    │   └── test_views.py\n",
    "    └── requirements.txt\n",
    "    ```\n",
    "3. Advantages of Keeping Factories within tests:\n",
    "    - **Isolation**: Ensures that the factories are tightly coupled with the testing code and not with the main application logic. This separation prevents accidental usage of test utilities in production code.\n",
    "    - **Readability**: Makes it easier for developers working on the tests to find and understand the factory configurations without traversing the entire project’s logic.\n",
    "    - **Reusability**: Having a central place for factories allows them to be easily reused across different test files.\n",
    "4. Alternative Placement - common directory within tests:\n",
    "    If the number or complexity of factories grows, you might want to create a common directory within tests and place your factories.py or multiple specialized factory files there."
   ]
  },
  {
   "cell_type": "markdown",
   "metadata": {
    "id": "SWH94iOPayMf"
   },
   "source": [
    "## [Factory Boy Basics](https://factoryboy.readthedocs.io/en/latest/introduction.html)\n",
    "The purpose of `factory_boy` is to provide a default way of getting a new instance, while still being able to override some fields on a per-call basis.\n",
    "\n"
   ]
  },
  {
   "cell_type": "code",
   "execution_count": 4,
   "metadata": {
    "colab": {
     "base_uri": "https://localhost:8080/"
    },
    "executionInfo": {
     "elapsed": 8,
     "status": "ok",
     "timestamp": 1626455844956,
     "user": {
      "displayName": "Chet Sheng",
      "photoUrl": "https://lh3.googleusercontent.com/a-/AOh14Gjy_Dk7Ahwv2lZiGE0sUFyBO_xe7OiTtIJ9Qlezaw=s64",
      "userId": "02447232751254445182"
     },
     "user_tz": -60
    },
    "id": "fzi8ySfSFrCe",
    "outputId": "f9a76e96-6d66-4956-bd1a-3c2abf4e4935"
   },
   "outputs": [
    {
     "name": "stdout",
     "output_type": "stream",
     "text": [
      "Overwriting artefacts/objects.py\n"
     ]
    }
   ],
   "source": [
    "%%writefile artefacts/objects.py\n",
    "class Account:\n",
    "    def __init__(self, username, email, date_joined):\n",
    "        self.username = username\n",
    "        self.email = email\n",
    "        self.date_joined = date_joined\n",
    "\n",
    "    def __str__(self):\n",
    "        return '%s (%s) joined at %s' % (self.username, self.email, self.date_joined)\n",
    "\n",
    "\n",
    "class Profile:\n",
    "\n",
    "    GENDER_MALE = 'm'\n",
    "    GENDER_FEMALE = 'f'\n",
    "    GENDER_UNKNOWN = 'u'  # If the user refused to give it\n",
    "\n",
    "    def __init__(self, account, gender, firstname, lastname, planet='Earth'):\n",
    "        self.account = account\n",
    "        self.gender = gender\n",
    "        self.firstname = firstname\n",
    "        self.lastname = lastname\n",
    "        self.planet = planet\n",
    "\n",
    "    def __str__(self):\n",
    "        return '%s %s (%s) joined at (s)' % (\n",
    "            self.firstname,\n",
    "            self.lastname,\n",
    "            self.account.username,\n",
    "        )"
   ]
  },
  {
   "cell_type": "markdown",
   "metadata": {
    "id": "7rm9NITwYxcL"
   },
   "source": [
    "Factories declare a set of attributes used to instantiate an object, whose class is defined in the `class Meta`’s `model` attribute:\n",
    "- Subclass `factory.Factory` (or a more suitable subclass)\n",
    "- Add a `class Meta:` block\n",
    "- Set its `model` attribute to the target class\n",
    "- Add defaults for keyword args to pass to the associated class' `__init__` method"
   ]
  },
  {
   "cell_type": "code",
   "execution_count": 6,
   "metadata": {
    "id": "bTVULgAWGGXF"
   },
   "outputs": [],
   "source": [
    "# factory code\n",
    "# Factories declare a set of attributes used to instantiate an object\n",
    "\n",
    "import datetime\n",
    "import factory\n",
    "import random\n",
    "\n",
    "from artefacts import objects\n",
    "\n",
    "class AccountFactory(factory.Factory):\n",
    "    class Meta:  # use the Meta class to tell your factory which model to use.\n",
    "        model = objects.Account  # point to target class\n",
    "\n",
    "    ### declare attributes used to instantiate objects.Account ###\n",
    "    # sequence: # john0 -> john1 -> john2 ...\n",
    "    username = factory.Sequence(lambda n: 'john%s' % n)  \n",
    "    # LazyAttribute: john0@example.org -> john1@example.org -> ...\n",
    "    #   receive a function taking the object being built and returning the value for the field:\n",
    "    email = factory.LazyAttribute(lambda o: '%s@example.org' % o.username)\n",
    "    # LazyFunction: receive a function taking no argument and returning the value for the field\n",
    "    date_joined = factory.LazyFunction(datetime.datetime.now)\n",
    "# >>> user_accout = AccountFactory()\n",
    "\n",
    "class ProfileFactory(factory.Factory):\n",
    "    class Meta:\n",
    "        model = objects.Profile\n",
    "\n",
    "    account = factory.SubFactory(AccountFactory)\n",
    "    gender = factory.Iterator([objects.Profile.GENDER_MALE, objects.Profile.GENDER_FEMALE])\n",
    "    firstname = 'John'\n",
    "    lastname = 'Doe'"
   ]
  },
  {
   "cell_type": "code",
   "execution_count": 8,
   "metadata": {
    "id": "l24bWt2UYByn"
   },
   "outputs": [
    {
     "name": "stdout",
     "output_type": "stream",
     "text": [
      "The autoreload extension is already loaded. To reload it, use:\n",
      "  %reload_ext autoreload\n"
     ]
    }
   ],
   "source": [
    "%load_ext autoreload\n",
    "%autoreload 2\n",
    "from artefacts import objects"
   ]
  },
  {
   "cell_type": "code",
   "execution_count": 9,
   "metadata": {
    "colab": {
     "base_uri": "https://localhost:8080/"
    },
    "executionInfo": {
     "elapsed": 510,
     "status": "ok",
     "timestamp": 1618437295624,
     "user": {
      "displayName": "Chet Sheng",
      "photoUrl": "https://lh3.googleusercontent.com/a-/AOh14Gjy_Dk7Ahwv2lZiGE0sUFyBO_xe7OiTtIJ9Qlezaw=s64",
      "userId": "02447232751254445182"
     },
     "user_tz": -60
    },
    "id": "2W7V5wLKGQDt",
    "outputId": "21ccacb5-07e5-4d18-c231-698c2d1c4454"
   },
   "outputs": [
    {
     "name": "stdout",
     "output_type": "stream",
     "text": [
      "chet (chet@gmail.com) joined at 2021-04-14\n"
     ]
    }
   ],
   "source": [
    "# instantiated obj from class\n",
    "acc = objects.Account(\"chet\", \"chet@gmail.com\", \"2021-04-14\")\n",
    "print(acc)"
   ]
  },
  {
   "cell_type": "code",
   "execution_count": 27,
   "metadata": {
    "colab": {
     "base_uri": "https://localhost:8080/"
    },
    "executionInfo": {
     "elapsed": 658,
     "status": "ok",
     "timestamp": 1618437289388,
     "user": {
      "displayName": "Chet Sheng",
      "photoUrl": "https://lh3.googleusercontent.com/a-/AOh14Gjy_Dk7Ahwv2lZiGE0sUFyBO_xe7OiTtIJ9Qlezaw=s64",
      "userId": "02447232751254445182"
     },
     "user_tz": -60
    },
    "id": "nmPv8rTRW-q4",
    "outputId": "cb50b11c-0b79-4be3-e34e-b5a9341ce33d"
   },
   "outputs": [
    {
     "name": "stdout",
     "output_type": "stream",
     "text": [
      "john17 (john17@example.org) joined at 2025-01-31 11:49:08.453534\n"
     ]
    }
   ],
   "source": [
    "# instantiate obj from Factory Boy\n",
    "acc_factory = AccountFactory()  # 如果是ORM的话, 这个就相当于 Account.objects.create(username=xx, email=xx, date_joined=xx)\n",
    "print(acc_factory)"
   ]
  },
  {
   "cell_type": "markdown",
   "metadata": {
    "id": "EZQY5hdCfOZc"
   },
   "source": [
    "## [Use factory boy with ORMs](https://factoryboy.readthedocs.io/en/stable/orms.html#using-factory-boy-with-orms)\n"
   ]
  },
  {
   "cell_type": "markdown",
   "metadata": {
    "id": "Ngu_MRgAfj_g"
   },
   "source": [
    "```python\n",
    "# gohan/tests/factories.py\n",
    "import factory\n",
    "\n",
    "from gohan.models import Hash2Sku, Sku2Hash\n",
    "\n",
    "\n",
    "class Sku2HashFactory(factory.django.DjangoModelFactory):\n",
    "    class Meta:\n",
    "        model = Sku2Hash\n",
    "\n",
    "    sku_id = factory.Faker(\"name\")\n",
    "    hash_values = factory.Faker(\"pylist\", value_types=str, nb_elements=16)\n",
    "\n",
    "\n",
    "class Hash2SkuFactory(factory.django.DjangoModelFactory):\n",
    "    class Meta:\n",
    "        model = Hash2Sku\n",
    "\n",
    "    hash_value = factory.Faker(\"pystr\", max_chars=16)\n",
    "    sku_ids = factory.Faker(\"pylist\", value_types=\"name\")\n",
    "```\n",
    "\n",
    "**Below is an example of using aboved defined Factory in Pytest:**\n",
    "\n",
    "`@pytest.mark.django_db`:\n",
    "- This is used to mark a test function as requiring the database. It will ensure the __database is set up correctly for the test__. \n",
    "  - Each test will run __in its own transaction__ which will __be rolled back__ at the end of the test. This behavior is the same as Django’s standard `TestCase` class.\n",
    "\n",
    "```python\n",
    "# gohan/tests/gohan/test_views.py\n",
    "class TestDuplicate:\n",
    "    @pytest.mark.django_db\n",
    "    def test_get_duplicates_success(self, client):\n",
    "        Sku2HashFactory(sku_id=\"batman\", hash_values=[\"123\", \"456\"])\n",
    "        Sku2HashFactory(sku_id=\"robin\", hash_values=[\"123\"])\n",
    "        Hash2SkuFactory(hash_value=\"123\", sku_ids=[\"batman\"])\n",
    "        Hash2SkuFactory(hash_value=\"456\", sku_ids=[\"batman\", \"robin\"])\n",
    "        resp = client.post(\n",
    "            \"/v1/duplicate/\",\n",
    "            content_type=\"application/json\",\n",
    "            data={\n",
    "                \"objects\": [\n",
    "                    {\n",
    "                        \"sku_id\": \"batman\",\n",
    "                        \"images\": [{\"url\": \"https://www.example.com/mock_image.jpeg\"}],\n",
    "                    },\n",
    "                    {\n",
    "                        \"sku_id\": \"robin\",\n",
    "                        \"images\": [{\"url\": \"https://www.example.com/mock_image.jpeg\"}],\n",
    "                    },\n",
    "                    {\n",
    "                        \"sku_id\": \"superman\",\n",
    "                        \"images\": [{\"url\": \"https://www.example.com/mock_image.jpeg\"}],\n",
    "                    },\n",
    "                ]\n",
    "            },\n",
    "        )\n",
    "        assert resp.status_code == 200\n",
    "\n",
    "        assert resp.data[\"results\"][0][\"reference_sku_id\"] == \"batman\"\n",
    "        assert resp.data[\"results\"][0][\"duplicate_sku_ids\"][0][\"sku_id\"] == \"robin\"\n",
    "\n",
    "        assert resp.data[\"results\"][1][\"reference_sku_id\"] == \"robin\"\n",
    "        assert resp.data[\"results\"][1][\"duplicate_sku_ids\"][0][\"sku_id\"] == \"batman\"\n",
    "\n",
    "        assert resp.data[\"results\"][2][\"reference_sku_id\"] == \"superman\"\n",
    "        assert resp.data[\"results\"][2][\"duplicate_sku_ids\"][0][\"sku_id\"] is None\n",
    "```\n",
    "`lyst-gohan/tests/gohan/test_models.py` also have good examples."
   ]
  },
  {
   "cell_type": "markdown",
   "metadata": {
    "id": "ekw30Ny4JfXl"
   },
   "source": [
    "# Faker\n",
    "https://zetcode.com/python/faker/"
   ]
  },
  {
   "cell_type": "code",
   "execution_count": 1,
   "metadata": {
    "colab": {
     "base_uri": "https://localhost:8080/"
    },
    "executionInfo": {
     "elapsed": 5063,
     "status": "ok",
     "timestamp": 1633000069968,
     "user": {
      "displayName": "Chet Sheng",
      "photoUrl": "https://lh3.googleusercontent.com/a-/AOh14Gjy_Dk7Ahwv2lZiGE0sUFyBO_xe7OiTtIJ9Qlezaw=s64",
      "userId": "02447232751254445182"
     },
     "user_tz": -60
    },
    "id": "o7pzCCasb5mo",
    "outputId": "cb24f4d9-edf4-446d-eea8-f5c8bd06c873"
   },
   "outputs": [
    {
     "name": "stdout",
     "output_type": "stream",
     "text": [
      "Collecting factory_boy\n",
      "  Downloading factory_boy-3.2.0-py2.py3-none-any.whl (35 kB)\n",
      "Collecting Faker>=0.7.0\n",
      "  Downloading Faker-8.14.0-py3-none-any.whl (1.2 MB)\n",
      "\u001b[K     |████████████████████████████████| 1.2 MB 8.5 MB/s \n",
      "\u001b[?25hRequirement already satisfied: python-dateutil>=2.4 in /usr/local/lib/python3.7/dist-packages (from Faker>=0.7.0->factory_boy) (2.8.2)\n",
      "Requirement already satisfied: text-unidecode==1.3 in /usr/local/lib/python3.7/dist-packages (from Faker>=0.7.0->factory_boy) (1.3)\n",
      "Requirement already satisfied: six>=1.5 in /usr/local/lib/python3.7/dist-packages (from python-dateutil>=2.4->Faker>=0.7.0->factory_boy) (1.15.0)\n",
      "Installing collected packages: Faker, factory-boy\n",
      "Successfully installed Faker-8.14.0 factory-boy-3.2.0\n"
     ]
    }
   ],
   "source": [
    "!pip install factory_boy"
   ]
  },
  {
   "cell_type": "code",
   "execution_count": 2,
   "metadata": {
    "executionInfo": {
     "elapsed": 29,
     "status": "ok",
     "timestamp": 1633000069970,
     "user": {
      "displayName": "Chet Sheng",
      "photoUrl": "https://lh3.googleusercontent.com/a-/AOh14Gjy_Dk7Ahwv2lZiGE0sUFyBO_xe7OiTtIJ9Qlezaw=s64",
      "userId": "02447232751254445182"
     },
     "user_tz": -60
    },
    "id": "YoKeucmKaqxp"
   },
   "outputs": [],
   "source": [
    "from faker import Faker\n",
    "fake = Faker()"
   ]
  },
  {
   "cell_type": "code",
   "execution_count": 3,
   "metadata": {
    "colab": {
     "base_uri": "https://localhost:8080/",
     "height": 35
    },
    "executionInfo": {
     "elapsed": 28,
     "status": "ok",
     "timestamp": 1633000069971,
     "user": {
      "displayName": "Chet Sheng",
      "photoUrl": "https://lh3.googleusercontent.com/a-/AOh14Gjy_Dk7Ahwv2lZiGE0sUFyBO_xe7OiTtIJ9Qlezaw=s64",
      "userId": "02447232751254445182"
     },
     "user_tz": -60
    },
    "id": "_-BZVkKFk9TR",
    "outputId": "1a56dd4d-d24c-4137-c007-06af75711fea"
   },
   "outputs": [
    {
     "data": {
      "application/vnd.google.colaboratory.intrinsic+json": {
       "type": "string"
      },
      "text/plain": [
       "'Amanda Avila'"
      ]
     },
     "execution_count": 3,
     "metadata": {},
     "output_type": "execute_result"
    }
   ],
   "source": [
    "fake.name()"
   ]
  },
  {
   "cell_type": "code",
   "execution_count": 4,
   "metadata": {
    "colab": {
     "base_uri": "https://localhost:8080/",
     "height": 35
    },
    "executionInfo": {
     "elapsed": 27,
     "status": "ok",
     "timestamp": 1633000069972,
     "user": {
      "displayName": "Chet Sheng",
      "photoUrl": "https://lh3.googleusercontent.com/a-/AOh14Gjy_Dk7Ahwv2lZiGE0sUFyBO_xe7OiTtIJ9Qlezaw=s64",
      "userId": "02447232751254445182"
     },
     "user_tz": -60
    },
    "id": "e9WPAVd3kqac",
    "outputId": "56b53535-f063-4abf-ffbd-d31e300dd14c"
   },
   "outputs": [
    {
     "data": {
      "application/vnd.google.colaboratory.intrinsic+json": {
       "type": "string"
      },
      "text/plain": [
       "'51e7d233-c160-41fc-8f81-0bd187a4c31f'"
      ]
     },
     "execution_count": 4,
     "metadata": {},
     "output_type": "execute_result"
    }
   ],
   "source": [
    "fake.uuid4()"
   ]
  },
  {
   "cell_type": "code",
   "execution_count": 5,
   "metadata": {
    "colab": {
     "base_uri": "https://localhost:8080/"
    },
    "executionInfo": {
     "elapsed": 27,
     "status": "ok",
     "timestamp": 1633000069974,
     "user": {
      "displayName": "Chet Sheng",
      "photoUrl": "https://lh3.googleusercontent.com/a-/AOh14Gjy_Dk7Ahwv2lZiGE0sUFyBO_xe7OiTtIJ9Qlezaw=s64",
      "userId": "02447232751254445182"
     },
     "user_tz": -60
    },
    "id": "RRq9BQ2_An-X",
    "outputId": "44317495-1f12-4483-a99d-5ce43739fc02"
   },
   "outputs": [
    {
     "data": {
      "text/plain": [
       "2"
      ]
     },
     "execution_count": 5,
     "metadata": {},
     "output_type": "execute_result"
    }
   ],
   "source": [
    "fake.random.randint(1, 2)"
   ]
  },
  {
   "cell_type": "code",
   "execution_count": 21,
   "metadata": {
    "colab": {
     "base_uri": "https://localhost:8080/"
    },
    "executionInfo": {
     "elapsed": 4,
     "status": "ok",
     "timestamp": 1633000107783,
     "user": {
      "displayName": "Chet Sheng",
      "photoUrl": "https://lh3.googleusercontent.com/a-/AOh14Gjy_Dk7Ahwv2lZiGE0sUFyBO_xe7OiTtIJ9Qlezaw=s64",
      "userId": "02447232751254445182"
     },
     "user_tz": -60
    },
    "id": "4fpZB2UoY46M",
    "outputId": "acfa8def-1382-4d30-b826-72ec50fa8910"
   },
   "outputs": [
    {
     "data": {
      "text/plain": [
       "['gender.men']"
      ]
     },
     "execution_count": 21,
     "metadata": {},
     "output_type": "execute_result"
    }
   ],
   "source": [
    "fake.random_element(elements=([\"gender.men\"], [\"gender.women\"], [\"gender.men\", \"gender.women\"]))"
   ]
  },
  {
   "cell_type": "code",
   "execution_count": 6,
   "metadata": {
    "colab": {
     "base_uri": "https://localhost:8080/"
    },
    "executionInfo": {
     "elapsed": 23,
     "status": "ok",
     "timestamp": 1633000069975,
     "user": {
      "displayName": "Chet Sheng",
      "photoUrl": "https://lh3.googleusercontent.com/a-/AOh14Gjy_Dk7Ahwv2lZiGE0sUFyBO_xe7OiTtIJ9Qlezaw=s64",
      "userId": "02447232751254445182"
     },
     "user_tz": -60
    },
    "id": "UmneF48-B3wM",
    "outputId": "07b95e00-3fee-4058-87e9-171f647e2aa5"
   },
   "outputs": [
    {
     "data": {
      "text/plain": [
       "['bIxIutvLdEWzQnksnTMU',\n",
       " 'EGQiwgWTIvIKXWFEeEkj',\n",
       " 'oZQsLSAKgWsAQmjXIUHp',\n",
       " 'WBJnoDMOHVubnPdqAEnG',\n",
       " 'fHTByzxbGxEzscNjXDkG',\n",
       " 'cORLjkinOQSIMBUNqkPd',\n",
       " 'AcXpYZsqgMvDMMCWJDgR',\n",
       " 'DXJiYzgjQjHuqEqpNuzj',\n",
       " 'zPxXQiYABHvfetRNoUYb',\n",
       " 'opglbErDlWaXLdMgsZkB',\n",
       " 'AeoyndmKpASnRfxJVYgU',\n",
       " 'AWaatpNdKDwkNamjSina',\n",
       " 'fhuzpYzyhILgwKGyuYNO',\n",
       " 'ZJdcSeQkIFLrsucCIRaE',\n",
       " 'HSadPtoAQrYFdkdJkjSs',\n",
       " 'rBBCWGgpZBjmsxjQweoI']"
      ]
     },
     "execution_count": 6,
     "metadata": {},
     "output_type": "execute_result"
    }
   ],
   "source": [
    "# https://faker.readthedocs.io/en/master/providers/faker.providers.python.html#faker.providers.python.Provider.pylist\n",
    "fake.pylist(value_types=str, nb_elements=16)"
   ]
  },
  {
   "cell_type": "code",
   "execution_count": 7,
   "metadata": {
    "colab": {
     "base_uri": "https://localhost:8080/"
    },
    "executionInfo": {
     "elapsed": 21,
     "status": "ok",
     "timestamp": 1633000069975,
     "user": {
      "displayName": "Chet Sheng",
      "photoUrl": "https://lh3.googleusercontent.com/a-/AOh14Gjy_Dk7Ahwv2lZiGE0sUFyBO_xe7OiTtIJ9Qlezaw=s64",
      "userId": "02447232751254445182"
     },
     "user_tz": -60
    },
    "id": "2K71BSznDxvA",
    "outputId": "dd0e914a-a6a5-4693-88a7-e67663ce0540"
   },
   "outputs": [
    {
     "data": {
      "text/plain": [
       "['Sabrina Henderson',\n",
       " 'Janet Black',\n",
       " 'Margaret Curtis',\n",
       " 'Christopher Levine',\n",
       " 'David Yu',\n",
       " 'Adam Chandler',\n",
       " 'Laura Johnson',\n",
       " 'Curtis Peterson',\n",
       " 'Jennifer Estrada MD',\n",
       " 'Frank Wilkinson',\n",
       " 'Henry Maynard',\n",
       " 'Paige Jackson',\n",
       " 'Penny Gonzalez',\n",
       " 'Casey Whitehead',\n",
       " 'Joseph Brennan',\n",
       " 'Carrie Fisher',\n",
       " 'Adam Lee']"
      ]
     },
     "execution_count": 7,
     "metadata": {},
     "output_type": "execute_result"
    }
   ],
   "source": [
    "fake.pylist(value_types=\"name\", nb_elements=16)"
   ]
  },
  {
   "cell_type": "code",
   "execution_count": null,
   "metadata": {
    "colab": {
     "base_uri": "https://localhost:8080/",
     "height": 35
    },
    "executionInfo": {
     "elapsed": 6,
     "status": "ok",
     "timestamp": 1632933759134,
     "user": {
      "displayName": "Chet Sheng",
      "photoUrl": "https://lh3.googleusercontent.com/a-/AOh14Gjy_Dk7Ahwv2lZiGE0sUFyBO_xe7OiTtIJ9Qlezaw=s64",
      "userId": "02447232751254445182"
     },
     "user_tz": -60
    },
    "id": "ziTRR4oQJHk6",
    "outputId": "969dfe36-d32b-45db-c100-6d1a42f8f34a"
   },
   "outputs": [
    {
     "data": {
      "application/vnd.google.colaboratory.intrinsic+json": {
       "type": "string"
      },
      "text/plain": [
       "'UfvodZAQCaMMkGUo'"
      ]
     },
     "execution_count": 10,
     "metadata": {},
     "output_type": "execute_result"
    }
   ],
   "source": [
    "fake.pystr(max_chars=16)"
   ]
  },
  {
   "cell_type": "code",
   "execution_count": null,
   "metadata": {
    "colab": {
     "base_uri": "https://localhost:8080/"
    },
    "executionInfo": {
     "elapsed": 210,
     "status": "ok",
     "timestamp": 1626535084390,
     "user": {
      "displayName": "Chet Sheng",
      "photoUrl": "https://lh3.googleusercontent.com/a-/AOh14Gjy_Dk7Ahwv2lZiGE0sUFyBO_xe7OiTtIJ9Qlezaw=s64",
      "userId": "02447232751254445182"
     },
     "user_tz": -60
    },
    "id": "pklyZcQRCDco",
    "outputId": "015d50da-d59f-4e01-ed3e-acafb1ff8071"
   },
   "outputs": [
    {
     "data": {
      "text/plain": [
       "UUID('b36f5e3a-79a1-4357-af5e-a6a7578f8a02')"
      ]
     },
     "execution_count": 49,
     "metadata": {
      "tags": []
     },
     "output_type": "execute_result"
    }
   ],
   "source": [
    "import uuid\n",
    "v = uuid.uuid4()\n",
    "v"
   ]
  },
  {
   "cell_type": "code",
   "execution_count": null,
   "metadata": {
    "colab": {
     "base_uri": "https://localhost:8080/",
     "height": 35
    },
    "executionInfo": {
     "elapsed": 183,
     "status": "ok",
     "timestamp": 1626535104160,
     "user": {
      "displayName": "Chet Sheng",
      "photoUrl": "https://lh3.googleusercontent.com/a-/AOh14Gjy_Dk7Ahwv2lZiGE0sUFyBO_xe7OiTtIJ9Qlezaw=s64",
      "userId": "02447232751254445182"
     },
     "user_tz": -60
    },
    "id": "7dcVQQx2C238",
    "outputId": "b0ee5360-28bd-47f2-9a81-e31636664e7e"
   },
   "outputs": [
    {
     "data": {
      "application/vnd.google.colaboratory.intrinsic+json": {
       "type": "string"
      },
      "text/plain": [
       "'b36f5e3a-79a1-4357-af5e-a6a7578f8a02'"
      ]
     },
     "execution_count": 53,
     "metadata": {
      "tags": []
     },
     "output_type": "execute_result"
    }
   ],
   "source": [
    "str(v)"
   ]
  },
  {
   "cell_type": "code",
   "execution_count": null,
   "metadata": {
    "colab": {
     "base_uri": "https://localhost:8080/",
     "height": 35
    },
    "executionInfo": {
     "elapsed": 198,
     "status": "ok",
     "timestamp": 1626460247324,
     "user": {
      "displayName": "Chet Sheng",
      "photoUrl": "https://lh3.googleusercontent.com/a-/AOh14Gjy_Dk7Ahwv2lZiGE0sUFyBO_xe7OiTtIJ9Qlezaw=s64",
      "userId": "02447232751254445182"
     },
     "user_tz": -60
    },
    "id": "wzRBN8jglVWo",
    "outputId": "e4aef6aa-e039-494e-f7a1-5fd9529444ae"
   },
   "outputs": [
    {
     "data": {
      "application/vnd.google.colaboratory.intrinsic+json": {
       "type": "string"
      },
      "text/plain": [
       "'5565'"
      ]
     },
     "execution_count": 28,
     "metadata": {
      "tags": []
     },
     "output_type": "execute_result"
    }
   ],
   "source": [
    "fake.pystr_format(\"{{random_int}}\")"
   ]
  },
  {
   "cell_type": "markdown",
   "metadata": {
    "id": "3u3kzF1WknM5"
   },
   "source": [
    "## faker in factory_boy\n",
    "source code: https://factoryboy.readthedocs.io/en/stable/_modules/factory/faker.html\n",
    "  ``` python  \n",
    "    \"\"\"Wrapper for 'faker' values.\n",
    "\n",
    "    Args:\n",
    "        provider (str): the name of the Faker field\n",
    "        locale (str): the locale to use for the faker\n",
    "\n",
    "        All other kwargs will be passed to the underlying provider\n",
    "        (e.g ``factory.Faker('ean', length=10)``\n",
    "        calls ``faker.Faker.ean(length=10)``)\n",
    "\n",
    "    Usage:\n",
    "        >>> foo = factory.Faker('name')\n",
    "    \"\"\"\n",
    "  ```\n",
    "  Examples: `lyst-gohan/tests/factories.py`"
   ]
  },
  {
   "cell_type": "code",
   "execution_count": null,
   "metadata": {
    "id": "7I2Qh4Sulw33"
   },
   "outputs": [],
   "source": [
    "import factory"
   ]
  }
 ],
 "metadata": {
  "colab": {
   "authorship_tag": "ABX9TyMX6mRvhlsaZuN2QDz07Ypm",
   "collapsed_sections": [],
   "name": "factory_boy & faker.ipynb",
   "provenance": [],
   "toc_visible": true
  },
  "kernelspec": {
   "display_name": "venv",
   "language": "python",
   "name": "python3"
  },
  "language_info": {
   "codemirror_mode": {
    "name": "ipython",
    "version": 3
   },
   "file_extension": ".py",
   "mimetype": "text/x-python",
   "name": "python",
   "nbconvert_exporter": "python",
   "pygments_lexer": "ipython3",
   "version": "3.11.11"
  }
 },
 "nbformat": 4,
 "nbformat_minor": 0
}
