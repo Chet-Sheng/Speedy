{
 "cells": [
  {
   "cell_type": "code",
   "execution_count": 1,
   "metadata": {},
   "outputs": [],
   "source": [
    "%load_ext autoreload"
   ]
  },
  {
   "cell_type": "code",
   "execution_count": 2,
   "metadata": {},
   "outputs": [],
   "source": [
    "%autoreload 2"
   ]
  },
  {
   "cell_type": "code",
   "execution_count": null,
   "metadata": {},
   "outputs": [
    {
     "name": "stdout",
     "output_type": "stream",
     "text": [
      "{'pet': {'pet_type': 'dog', 'barks': 3.14}, 'n': 1}\n",
      "{'barks': 5.0}\n"
     ]
    }
   ],
   "source": [
    "from enum import Enum\n",
    "from typing import Literal, Any, Union, overload\n",
    "\n",
    "from pydantic import BaseModel, Field, ValidationError\n",
    "from pydantic_settings import BaseSettings  \n",
    "\n",
    "\n",
    "# class PetTypes(Enum):\n",
    "#     CAT = 'cat'\n",
    "#     DOG = 'dog'\n",
    "#     REPTILE = 'reptile'\n",
    "#     LIZARD = 'lizard'\n",
    "\n",
    "\n",
    "class PetBase(BaseSettings):\n",
    "    # enforcing a common interface for all pets\n",
    "    pet_type: str = Field(description=\"Type of the pet, e.g., 'cat', 'dog', 'reptile'\")\n",
    "\n",
    "    def model_dump(self, **kwargs: Any) -> dict[str, Any]:\n",
    "        \"\"\"override model_dump to exclude 'pet_type' field\"\"\"\n",
    "        kwargs.setdefault('exclude', set()).add('pet_type')\n",
    "        return super().model_dump(**kwargs)\n",
    "\n",
    "\n",
    "class Cat(PetBase):\n",
    "    pet_type: Literal['cat'] \n",
    "    meows: int\n",
    "\n",
    "\n",
    "class Dog(PetBase):\n",
    "    pet_type: Literal['dog']\n",
    "    barks: float\n",
    "\n",
    "\n",
    "class Lizard(PetBase):\n",
    "    pet_type: Literal['reptile', 'lizard']\n",
    "    scales: bool\n",
    "\n",
    "PetTypeUnion = Union[Cat, Dog, Lizard]\n",
    "\n",
    "class Model(BaseModel):\n",
    "    pet: PetTypeUnion = Field(discriminator='pet_type')\n",
    "    n: int\n",
    "\n",
    "\n",
    "# Example Usage:\n",
    "m = Model(pet={'pet_type': 'dog', 'barks': 3.14}, n=1)\n",
    "\n",
    "# Now, when you dump the entire model, the pet's model_dump will be called\n",
    "# which excludes 'pet_type'\n",
    "print(m.model_dump())\n",
    "#> {'pet': {'barks': 3.14}, 'n': 1}\n",
    "\n",
    "# And if you dump the pet directly, it will also exclude 'pet_type'\n",
    "dog_instance = Dog(pet_type='dog', barks=5.0)\n",
    "print(dog_instance.model_dump())\n",
    "#> {'barks': 5.0}"
   ]
  },
  {
   "cell_type": "code",
   "execution_count": 7,
   "metadata": {},
   "outputs": [
    {
     "data": {
      "text/plain": [
       "{'barks': 5.0}"
      ]
     },
     "execution_count": 7,
     "metadata": {},
     "output_type": "execute_result"
    }
   ],
   "source": [
    "dog_instance.model_dump()"
   ]
  },
  {
   "cell_type": "code",
   "execution_count": 8,
   "metadata": {},
   "outputs": [
    {
     "data": {
      "text/plain": [
       "__main__.Cat"
      ]
     },
     "execution_count": 8,
     "metadata": {},
     "output_type": "execute_result"
    }
   ],
   "source": [
    "from typing import Union\n",
    "Union[Cat]"
   ]
  },
  {
   "cell_type": "code",
   "execution_count": null,
   "metadata": {},
   "outputs": [
    {
     "name": "stdout",
     "output_type": "stream",
     "text": [
      "{'pet': {'pet_type': <PetTypesEnum.DOG: 'dog'>, 'barks': 3.14}, 'n': 1}\n",
      "{'barks': 5.0}\n"
     ]
    }
   ],
   "source": [
    "from enum import Enum\n",
    "from typing import Literal, Any, Union, overload\n",
    "\n",
    "from pydantic import BaseModel, Field, ValidationError\n",
    "from pydantic_settings import BaseSettings  \n",
    "\n",
    "\n",
    "class PetTypesEnum(str, Enum):\n",
    "    CAT = 'cat'\n",
    "    DOG = 'dog'\n",
    "    REPTILE = 'reptile'\n",
    "    LIZARD = 'lizard'\n",
    "\n",
    "\n",
    "class PetBase(BaseSettings):\n",
    "    # enforcing a common interface for all pets\n",
    "    pet_type: Any = Field(description=\"Type of the pet, instance of PetTypesEnum\")\n",
    "\n",
    "    def model_dump(self, **kwargs: Any) -> dict[str, Any]:\n",
    "        \"\"\"override model_dump to exclude 'pet_type' field\"\"\"\n",
    "        kwargs.setdefault('exclude', set()).add('pet_type')\n",
    "        return super().model_dump(**kwargs)\n",
    "\n",
    "\n",
    "class Cat(PetBase):\n",
    "    pet_type: Literal[PetTypesEnum.CAT]\n",
    "    meows: int\n",
    "\n",
    "\n",
    "class Dog(PetBase):\n",
    "    pet_type: Literal[PetTypesEnum.DOG]\n",
    "    barks: float\n",
    "\n",
    "\n",
    "class Lizard(PetBase):\n",
    "    pet_type: Literal[PetTypesEnum.REPTILE]\n",
    "    scales: bool\n",
    "\n",
    "PetTypeUnion = Union[Cat, Dog, Lizard]\n",
    "\n",
    "class Model(BaseModel):\n",
    "    pet: PetTypeUnion = Field(discriminator='pet_type')\n",
    "    n: int\n",
    "\n",
    "\n",
    "# Example Usage:\n",
    "m = Model(pet={'pet_type': 'dog', 'barks': 3.14}, n=1)\n",
    "\n",
    "# Now, when you dump the entire model, the pet's model_dump will be called\n",
    "# which excludes 'pet_type'\n",
    "print(m.model_dump())\n",
    "#> {'pet': {'barks': 3.14}, 'n': 1}\n",
    "\n",
    "# And if you dump the pet directly, it will also exclude 'pet_type'\n",
    "dog_instance = Dog(pet_type='dog', barks=5.0)\n",
    "print(dog_instance.model_dump())\n",
    "#> {'barks': 5.0}"
   ]
  },
  {
   "cell_type": "code",
   "execution_count": 20,
   "metadata": {},
   "outputs": [
    {
     "data": {
      "text/plain": [
       "<PetTypes.DOG: 'dog'>"
      ]
     },
     "execution_count": 20,
     "metadata": {},
     "output_type": "execute_result"
    }
   ],
   "source": [
    "m.pet.pet_type"
   ]
  }
 ],
 "metadata": {
  "kernelspec": {
   "display_name": "Python",
   "language": "python",
   "name": "python3"
  },
  "language_info": {
   "codemirror_mode": {
    "name": "ipython",
    "version": 3
   },
   "file_extension": ".py",
   "mimetype": "text/x-python",
   "name": "python",
   "nbconvert_exporter": "python",
   "pygments_lexer": "ipython3",
   "version": "3.11.11"
  }
 },
 "nbformat": 4,
 "nbformat_minor": 2
}
